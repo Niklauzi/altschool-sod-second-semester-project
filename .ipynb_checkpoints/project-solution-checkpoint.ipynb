{
 "cells": [
  {
   "cell_type": "markdown",
   "metadata": {},
   "source": [
    "https://docs.google.com/document/d/1dQBTcFjiuRYw9HikHv1OIaTYk-MAMScFtoto9U8B1Gc/edit\n",
    "\n",
    "Second Semester Project (30 marks)\n",
    "ShopSmart Inc. is an e-commerce platform that sells a variety of products online. The company aims to optimize its website and enhance customer satisfaction by understanding customer behavior and preferences. To achieve this goal, ShopSmart Inc. plans to analyze the data collected from its website to gain insights into customer interactions, purchasing patterns, and product preferences.\n",
    "Project Objective: The objective of this project is to utilize data from ShopSmart Inc.'s website to understand customer behavior and preferences. By analyzing the data, the company aims to:\n",
    "1.     Segment customers based on their preferences, geographic location, and purchasing behavior.\n",
    "2.     Enhance website usability and user experience based on insights gained from customer interactions.\n",
    "3.     Optimize product offerings and marketing strategies to improve customer satisfaction and retention.\n",
    "Data Sources:\n",
    "The data for this project will be sourced from ShopSmart Inc.'s website and will include various attributes such as customer IDs, device IDs, transaction details, product information, and timestamps of customer interactions.\n",
    " \n",
    "Methodology:\n",
    "The project will involve data wrangling to preprocess the dataset, followed by exploratory data analysis (EDA) to uncover patterns and trends in customer behavior. Visualization techniques will be used to present the findings effectively.\n",
    "Expected Outcome:\n",
    "By understanding customer behavior and preferences, ShopSmart Inc. aims to optimize its website, product offerings, and marketing strategies to increase customer satisfaction, retention, and ultimately, revenue.\n",
    " \n",
    "You are provided with 5 datasets from different tables, your first task is to merge the datasets, clean and wrangle the dataset, engineer new features from event data. Then identify the following:\n",
    "\n",
    "a.     Visit Frequency:\n",
    "How often does this customer visit the website, based on the provided data?\n",
    "Can you identify any patterns or trends in the customer's visit frequency?\n",
    "\n",
    "b. \tLocation Analysis:\n",
    "What is the customer's location based on the provided data?\n",
    "How might the customer's location influence their purchasing behavior?\n",
    "\n",
    "c.  \tOverall Purchase Behavior:\n",
    "Based on the data provided, what insights can you draw about this customer's overall behavior on the website?\n",
    "How might these insights inform marketing strategies or personalized recommendations for this customer?\n",
    "\n"
   ]
  },
  {
   "cell_type": "code",
   "execution_count": 1,
   "metadata": {},
   "outputs": [],
   "source": [
    "import pandas as pd\n",
    "import matplotlib.pyplot as plt\n",
    "import seaborn as sns"
   ]
  },
  {
   "cell_type": "code",
   "execution_count": 2,
   "metadata": {},
   "outputs": [],
   "source": [
    "customers_df = pd.read_csv(r'C:\\Users\\KLAUS\\Desktop\\JUPYTER\\altschool-sod-second-semester-project\\datasets\\customers.csv')\n",
    "events_df = pd.read_csv(r'C:\\Users\\KLAUS\\Desktop\\JUPYTER\\altschool-sod-second-semester-project\\datasets\\events.csv')\n",
    "orders_df = pd.read_csv(r'C:\\Users\\KLAUS\\Desktop\\JUPYTER\\altschool-sod-second-semester-project\\datasets\\orders.csv')\n",
    "line_items_df = pd.read_csv(r'C:\\Users\\KLAUS\\Desktop\\JUPYTER\\altschool-sod-second-semester-project\\datasets\\line_items.csv')\n",
    "products_df = pd.read_csv(r'C:\\Users\\KLAUS\\Desktop\\JUPYTER\\altschool-sod-second-semester-project\\datasets\\products.csv')"
   ]
  },
  {
   "cell_type": "code",
   "execution_count": 3,
   "metadata": {},
   "outputs": [
    {
     "name": "stdout",
     "output_type": "stream",
     "text": [
      "Columns in data1: Index(['customer_id', 'device_id', 'location', 'currency'], dtype='object')\n",
      "Columns in data2: Index(['event_id', 'customer_id', 'event_data', 'event_timestamp'], dtype='object')\n",
      "Columns in data3: Index(['order_id', 'customer_id', 'status', 'checked_out_at'], dtype='object')\n",
      "Columns in data4: Index(['line_item_id', 'order_id', 'item_id', 'quantity'], dtype='object')\n",
      "Columns in data5: Index(['id', 'name', 'price'], dtype='object')\n"
     ]
    }
   ],
   "source": [
    "print(\"Columns in data1:\", customers_df.columns)\n",
    "print(\"Columns in data2:\", events_df.columns)\n",
    "print(\"Columns in data3:\", orders_df.columns)\n",
    "print(\"Columns in data4:\", line_items_df.columns)\n",
    "print(\"Columns in data5:\", products_df.columns)"
   ]
  },
  {
   "cell_type": "code",
   "execution_count": 5,
   "metadata": {},
   "outputs": [
    {
     "data": {
      "text/html": [
       "<div>\n",
       "<style scoped>\n",
       "    .dataframe tbody tr th:only-of-type {\n",
       "        vertical-align: middle;\n",
       "    }\n",
       "\n",
       "    .dataframe tbody tr th {\n",
       "        vertical-align: top;\n",
       "    }\n",
       "\n",
       "    .dataframe thead th {\n",
       "        text-align: right;\n",
       "    }\n",
       "</style>\n",
       "<table border=\"1\" class=\"dataframe\">\n",
       "  <thead>\n",
       "    <tr style=\"text-align: right;\">\n",
       "      <th></th>\n",
       "      <th>line_item_id</th>\n",
       "      <th>order_id</th>\n",
       "      <th>item_id</th>\n",
       "      <th>quantity</th>\n",
       "    </tr>\n",
       "  </thead>\n",
       "  <tbody>\n",
       "    <tr>\n",
       "      <th>0</th>\n",
       "      <td>3201</td>\n",
       "      <td>9e950ce3-2e12-479c-a051-493c1a497d49</td>\n",
       "      <td>4</td>\n",
       "      <td>2</td>\n",
       "    </tr>\n",
       "    <tr>\n",
       "      <th>1</th>\n",
       "      <td>3202</td>\n",
       "      <td>9e950ce3-2e12-479c-a051-493c1a497d49</td>\n",
       "      <td>5</td>\n",
       "      <td>4</td>\n",
       "    </tr>\n",
       "    <tr>\n",
       "      <th>2</th>\n",
       "      <td>3203</td>\n",
       "      <td>9e950ce3-2e12-479c-a051-493c1a497d49</td>\n",
       "      <td>9</td>\n",
       "      <td>5</td>\n",
       "    </tr>\n",
       "    <tr>\n",
       "      <th>3</th>\n",
       "      <td>3204</td>\n",
       "      <td>9e950ce3-2e12-479c-a051-493c1a497d49</td>\n",
       "      <td>12</td>\n",
       "      <td>1</td>\n",
       "    </tr>\n",
       "    <tr>\n",
       "      <th>4</th>\n",
       "      <td>3205</td>\n",
       "      <td>9e950ce3-2e12-479c-a051-493c1a497d49</td>\n",
       "      <td>6</td>\n",
       "      <td>2</td>\n",
       "    </tr>\n",
       "  </tbody>\n",
       "</table>\n",
       "</div>"
      ],
      "text/plain": [
       "   line_item_id                              order_id  item_id  quantity\n",
       "0          3201  9e950ce3-2e12-479c-a051-493c1a497d49        4         2\n",
       "1          3202  9e950ce3-2e12-479c-a051-493c1a497d49        5         4\n",
       "2          3203  9e950ce3-2e12-479c-a051-493c1a497d49        9         5\n",
       "3          3204  9e950ce3-2e12-479c-a051-493c1a497d49       12         1\n",
       "4          3205  9e950ce3-2e12-479c-a051-493c1a497d49        6         2"
      ]
     },
     "execution_count": 5,
     "metadata": {},
     "output_type": "execute_result"
    }
   ],
   "source": [
    "line_items_df.head()"
   ]
  },
  {
   "cell_type": "code",
   "execution_count": 6,
   "metadata": {},
   "outputs": [
    {
     "data": {
      "text/html": [
       "<div>\n",
       "<style scoped>\n",
       "    .dataframe tbody tr th:only-of-type {\n",
       "        vertical-align: middle;\n",
       "    }\n",
       "\n",
       "    .dataframe tbody tr th {\n",
       "        vertical-align: top;\n",
       "    }\n",
       "\n",
       "    .dataframe thead th {\n",
       "        text-align: right;\n",
       "    }\n",
       "</style>\n",
       "<table border=\"1\" class=\"dataframe\">\n",
       "  <thead>\n",
       "    <tr style=\"text-align: right;\">\n",
       "      <th></th>\n",
       "      <th>id</th>\n",
       "      <th>name</th>\n",
       "      <th>price</th>\n",
       "    </tr>\n",
       "  </thead>\n",
       "  <tbody>\n",
       "    <tr>\n",
       "      <th>0</th>\n",
       "      <td>1</td>\n",
       "      <td>iPhone 13</td>\n",
       "      <td>1099.99</td>\n",
       "    </tr>\n",
       "    <tr>\n",
       "      <th>1</th>\n",
       "      <td>2</td>\n",
       "      <td>Samsung Galaxy S21</td>\n",
       "      <td>899.99</td>\n",
       "    </tr>\n",
       "    <tr>\n",
       "      <th>2</th>\n",
       "      <td>3</td>\n",
       "      <td>Sony PlayStation 5</td>\n",
       "      <td>499.99</td>\n",
       "    </tr>\n",
       "    <tr>\n",
       "      <th>3</th>\n",
       "      <td>4</td>\n",
       "      <td>Microsoft Xbox Series X</td>\n",
       "      <td>499.99</td>\n",
       "    </tr>\n",
       "    <tr>\n",
       "      <th>4</th>\n",
       "      <td>5</td>\n",
       "      <td>Nike Air Max 270</td>\n",
       "      <td>129.99</td>\n",
       "    </tr>\n",
       "  </tbody>\n",
       "</table>\n",
       "</div>"
      ],
      "text/plain": [
       "   id                     name    price\n",
       "0   1                iPhone 13  1099.99\n",
       "1   2       Samsung Galaxy S21   899.99\n",
       "2   3       Sony PlayStation 5   499.99\n",
       "3   4  Microsoft Xbox Series X   499.99\n",
       "4   5         Nike Air Max 270   129.99"
      ]
     },
     "execution_count": 6,
     "metadata": {},
     "output_type": "execute_result"
    }
   ],
   "source": [
    "products_df.head()"
   ]
  },
  {
   "cell_type": "code",
   "execution_count": 7,
   "metadata": {},
   "outputs": [],
   "source": [
    "products_df.rename(columns={'id': 'item_id'}, inplace=True)"
   ]
  },
  {
   "cell_type": "code",
   "execution_count": 8,
   "metadata": {},
   "outputs": [
    {
     "data": {
      "text/html": [
       "<div>\n",
       "<style scoped>\n",
       "    .dataframe tbody tr th:only-of-type {\n",
       "        vertical-align: middle;\n",
       "    }\n",
       "\n",
       "    .dataframe tbody tr th {\n",
       "        vertical-align: top;\n",
       "    }\n",
       "\n",
       "    .dataframe thead th {\n",
       "        text-align: right;\n",
       "    }\n",
       "</style>\n",
       "<table border=\"1\" class=\"dataframe\">\n",
       "  <thead>\n",
       "    <tr style=\"text-align: right;\">\n",
       "      <th></th>\n",
       "      <th>item_id</th>\n",
       "      <th>name</th>\n",
       "      <th>price</th>\n",
       "    </tr>\n",
       "  </thead>\n",
       "  <tbody>\n",
       "    <tr>\n",
       "      <th>0</th>\n",
       "      <td>1</td>\n",
       "      <td>iPhone 13</td>\n",
       "      <td>1099.99</td>\n",
       "    </tr>\n",
       "    <tr>\n",
       "      <th>1</th>\n",
       "      <td>2</td>\n",
       "      <td>Samsung Galaxy S21</td>\n",
       "      <td>899.99</td>\n",
       "    </tr>\n",
       "    <tr>\n",
       "      <th>2</th>\n",
       "      <td>3</td>\n",
       "      <td>Sony PlayStation 5</td>\n",
       "      <td>499.99</td>\n",
       "    </tr>\n",
       "    <tr>\n",
       "      <th>3</th>\n",
       "      <td>4</td>\n",
       "      <td>Microsoft Xbox Series X</td>\n",
       "      <td>499.99</td>\n",
       "    </tr>\n",
       "    <tr>\n",
       "      <th>4</th>\n",
       "      <td>5</td>\n",
       "      <td>Nike Air Max 270</td>\n",
       "      <td>129.99</td>\n",
       "    </tr>\n",
       "  </tbody>\n",
       "</table>\n",
       "</div>"
      ],
      "text/plain": [
       "   item_id                     name    price\n",
       "0        1                iPhone 13  1099.99\n",
       "1        2       Samsung Galaxy S21   899.99\n",
       "2        3       Sony PlayStation 5   499.99\n",
       "3        4  Microsoft Xbox Series X   499.99\n",
       "4        5         Nike Air Max 270   129.99"
      ]
     },
     "execution_count": 8,
     "metadata": {},
     "output_type": "execute_result"
    }
   ],
   "source": [
    "products_df.head()"
   ]
  },
  {
   "cell_type": "code",
   "execution_count": 9,
   "metadata": {},
   "outputs": [],
   "source": [
    "# Merge customer_df and events_df on 'customer_id'\n",
    "merged_data1 = pd.merge(customers_df, events_df, on='customer_id')\n",
    "\n",
    "# Merge merged_data1 and orders_df on 'customer_id'\n",
    "merged_data2 = pd.merge(merged_data1, orders_df, on='customer_id')\n",
    "\n",
    "# Merge merged_data2 and line_items_df on 'order_id'\n",
    "merged_data3 = pd.merge(merged_data2, line_items_df, on='order_id')\n",
    "\n",
    "# Merge merged_data3 and products_df on 'item_id'\n",
    "merged_data4 = pd.merge(merged_data3, products_df, on='item_id')\n"
   ]
  },
  {
   "cell_type": "code",
   "execution_count": 10,
   "metadata": {},
   "outputs": [
    {
     "data": {
      "text/plain": [
       "(578320, 15)"
      ]
     },
     "execution_count": 10,
     "metadata": {},
     "output_type": "execute_result"
    }
   ],
   "source": [
    "merged_data4.shape"
   ]
  },
  {
   "cell_type": "code",
   "execution_count": 13,
   "metadata": {},
   "outputs": [
    {
     "data": {
      "text/html": [
       "<div>\n",
       "<style scoped>\n",
       "    .dataframe tbody tr th:only-of-type {\n",
       "        vertical-align: middle;\n",
       "    }\n",
       "\n",
       "    .dataframe tbody tr th {\n",
       "        vertical-align: top;\n",
       "    }\n",
       "\n",
       "    .dataframe thead th {\n",
       "        text-align: right;\n",
       "    }\n",
       "</style>\n",
       "<table border=\"1\" class=\"dataframe\">\n",
       "  <thead>\n",
       "    <tr style=\"text-align: right;\">\n",
       "      <th></th>\n",
       "      <th>customer_id</th>\n",
       "      <th>device_id</th>\n",
       "      <th>location</th>\n",
       "      <th>currency</th>\n",
       "      <th>event_id</th>\n",
       "      <th>event_data</th>\n",
       "      <th>event_timestamp</th>\n",
       "      <th>order_id</th>\n",
       "      <th>status</th>\n",
       "      <th>checked_out_at</th>\n",
       "      <th>line_item_id</th>\n",
       "      <th>item_id</th>\n",
       "      <th>quantity</th>\n",
       "      <th>name</th>\n",
       "      <th>price</th>\n",
       "    </tr>\n",
       "  </thead>\n",
       "  <tbody>\n",
       "    <tr>\n",
       "      <th>0</th>\n",
       "      <td>cda7bec0-7cbf-4145-baf9-e049bab94504</td>\n",
       "      <td>33b485de-7338-4997-b1d0-b988ba17b245</td>\n",
       "      <td>Saint Helena</td>\n",
       "      <td>NGN</td>\n",
       "      <td>14786</td>\n",
       "      <td>{\"timestamp\": \"2024-03-26T22:05:58.863661\", \"e...</td>\n",
       "      <td>2024-03-26 22:05:58.863661</td>\n",
       "      <td>9e950ce3-2e12-479c-a051-493c1a497d49</td>\n",
       "      <td>success</td>\n",
       "      <td>2024-03-30 04:19:10.406794</td>\n",
       "      <td>3201</td>\n",
       "      <td>4</td>\n",
       "      <td>2</td>\n",
       "      <td>Microsoft Xbox Series X</td>\n",
       "      <td>499.99</td>\n",
       "    </tr>\n",
       "    <tr>\n",
       "      <th>1</th>\n",
       "      <td>cda7bec0-7cbf-4145-baf9-e049bab94504</td>\n",
       "      <td>33b485de-7338-4997-b1d0-b988ba17b245</td>\n",
       "      <td>Saint Helena</td>\n",
       "      <td>NGN</td>\n",
       "      <td>14787</td>\n",
       "      <td>{\"timestamp\": \"2024-03-27T07:14:33.987347\", \"e...</td>\n",
       "      <td>2024-03-27 07:14:33.987347</td>\n",
       "      <td>9e950ce3-2e12-479c-a051-493c1a497d49</td>\n",
       "      <td>success</td>\n",
       "      <td>2024-03-30 04:19:10.406794</td>\n",
       "      <td>3201</td>\n",
       "      <td>4</td>\n",
       "      <td>2</td>\n",
       "      <td>Microsoft Xbox Series X</td>\n",
       "      <td>499.99</td>\n",
       "    </tr>\n",
       "    <tr>\n",
       "      <th>2</th>\n",
       "      <td>cda7bec0-7cbf-4145-baf9-e049bab94504</td>\n",
       "      <td>33b485de-7338-4997-b1d0-b988ba17b245</td>\n",
       "      <td>Saint Helena</td>\n",
       "      <td>NGN</td>\n",
       "      <td>14788</td>\n",
       "      <td>{\"timestamp\": \"2024-03-30T04:03:10.406559\", \"e...</td>\n",
       "      <td>2024-03-30 04:03:10.406559</td>\n",
       "      <td>9e950ce3-2e12-479c-a051-493c1a497d49</td>\n",
       "      <td>success</td>\n",
       "      <td>2024-03-30 04:19:10.406794</td>\n",
       "      <td>3201</td>\n",
       "      <td>4</td>\n",
       "      <td>2</td>\n",
       "      <td>Microsoft Xbox Series X</td>\n",
       "      <td>499.99</td>\n",
       "    </tr>\n",
       "    <tr>\n",
       "      <th>3</th>\n",
       "      <td>cda7bec0-7cbf-4145-baf9-e049bab94504</td>\n",
       "      <td>33b485de-7338-4997-b1d0-b988ba17b245</td>\n",
       "      <td>Saint Helena</td>\n",
       "      <td>NGN</td>\n",
       "      <td>14789</td>\n",
       "      <td>{\"timestamp\": \"2024-03-30T04:03:10.406561\", \"e...</td>\n",
       "      <td>2024-03-30 04:03:10.406561</td>\n",
       "      <td>9e950ce3-2e12-479c-a051-493c1a497d49</td>\n",
       "      <td>success</td>\n",
       "      <td>2024-03-30 04:19:10.406794</td>\n",
       "      <td>3201</td>\n",
       "      <td>4</td>\n",
       "      <td>2</td>\n",
       "      <td>Microsoft Xbox Series X</td>\n",
       "      <td>499.99</td>\n",
       "    </tr>\n",
       "    <tr>\n",
       "      <th>4</th>\n",
       "      <td>cda7bec0-7cbf-4145-baf9-e049bab94504</td>\n",
       "      <td>33b485de-7338-4997-b1d0-b988ba17b245</td>\n",
       "      <td>Saint Helena</td>\n",
       "      <td>NGN</td>\n",
       "      <td>14790</td>\n",
       "      <td>{\"item_id\": 4, \"quantity\": 2, \"timestamp\": \"20...</td>\n",
       "      <td>2024-03-30 04:03:10.406769</td>\n",
       "      <td>9e950ce3-2e12-479c-a051-493c1a497d49</td>\n",
       "      <td>success</td>\n",
       "      <td>2024-03-30 04:19:10.406794</td>\n",
       "      <td>3201</td>\n",
       "      <td>4</td>\n",
       "      <td>2</td>\n",
       "      <td>Microsoft Xbox Series X</td>\n",
       "      <td>499.99</td>\n",
       "    </tr>\n",
       "  </tbody>\n",
       "</table>\n",
       "</div>"
      ],
      "text/plain": [
       "                            customer_id                             device_id  \\\n",
       "0  cda7bec0-7cbf-4145-baf9-e049bab94504  33b485de-7338-4997-b1d0-b988ba17b245   \n",
       "1  cda7bec0-7cbf-4145-baf9-e049bab94504  33b485de-7338-4997-b1d0-b988ba17b245   \n",
       "2  cda7bec0-7cbf-4145-baf9-e049bab94504  33b485de-7338-4997-b1d0-b988ba17b245   \n",
       "3  cda7bec0-7cbf-4145-baf9-e049bab94504  33b485de-7338-4997-b1d0-b988ba17b245   \n",
       "4  cda7bec0-7cbf-4145-baf9-e049bab94504  33b485de-7338-4997-b1d0-b988ba17b245   \n",
       "\n",
       "       location currency  event_id  \\\n",
       "0  Saint Helena      NGN     14786   \n",
       "1  Saint Helena      NGN     14787   \n",
       "2  Saint Helena      NGN     14788   \n",
       "3  Saint Helena      NGN     14789   \n",
       "4  Saint Helena      NGN     14790   \n",
       "\n",
       "                                          event_data  \\\n",
       "0  {\"timestamp\": \"2024-03-26T22:05:58.863661\", \"e...   \n",
       "1  {\"timestamp\": \"2024-03-27T07:14:33.987347\", \"e...   \n",
       "2  {\"timestamp\": \"2024-03-30T04:03:10.406559\", \"e...   \n",
       "3  {\"timestamp\": \"2024-03-30T04:03:10.406561\", \"e...   \n",
       "4  {\"item_id\": 4, \"quantity\": 2, \"timestamp\": \"20...   \n",
       "\n",
       "              event_timestamp                              order_id   status  \\\n",
       "0  2024-03-26 22:05:58.863661  9e950ce3-2e12-479c-a051-493c1a497d49  success   \n",
       "1  2024-03-27 07:14:33.987347  9e950ce3-2e12-479c-a051-493c1a497d49  success   \n",
       "2  2024-03-30 04:03:10.406559  9e950ce3-2e12-479c-a051-493c1a497d49  success   \n",
       "3  2024-03-30 04:03:10.406561  9e950ce3-2e12-479c-a051-493c1a497d49  success   \n",
       "4  2024-03-30 04:03:10.406769  9e950ce3-2e12-479c-a051-493c1a497d49  success   \n",
       "\n",
       "               checked_out_at  line_item_id  item_id  quantity  \\\n",
       "0  2024-03-30 04:19:10.406794          3201        4         2   \n",
       "1  2024-03-30 04:19:10.406794          3201        4         2   \n",
       "2  2024-03-30 04:19:10.406794          3201        4         2   \n",
       "3  2024-03-30 04:19:10.406794          3201        4         2   \n",
       "4  2024-03-30 04:19:10.406794          3201        4         2   \n",
       "\n",
       "                      name   price  \n",
       "0  Microsoft Xbox Series X  499.99  \n",
       "1  Microsoft Xbox Series X  499.99  \n",
       "2  Microsoft Xbox Series X  499.99  \n",
       "3  Microsoft Xbox Series X  499.99  \n",
       "4  Microsoft Xbox Series X  499.99  "
      ]
     },
     "execution_count": 13,
     "metadata": {},
     "output_type": "execute_result"
    }
   ],
   "source": [
    "merged_data4.head()"
   ]
  },
  {
   "cell_type": "code",
   "execution_count": 14,
   "metadata": {},
   "outputs": [
    {
     "name": "stdout",
     "output_type": "stream",
     "text": [
      "<class 'pandas.core.frame.DataFrame'>\n",
      "Int64Index: 578320 entries, 0 to 578319\n",
      "Data columns (total 15 columns):\n",
      " #   Column           Non-Null Count   Dtype  \n",
      "---  ------           --------------   -----  \n",
      " 0   customer_id      578320 non-null  object \n",
      " 1   device_id        578320 non-null  object \n",
      " 2   location         578320 non-null  object \n",
      " 3   currency         578320 non-null  object \n",
      " 4   event_id         578320 non-null  int64  \n",
      " 5   event_data       578320 non-null  object \n",
      " 6   event_timestamp  578320 non-null  object \n",
      " 7   order_id         578320 non-null  object \n",
      " 8   status           578320 non-null  object \n",
      " 9   checked_out_at   578320 non-null  object \n",
      " 10  line_item_id     578320 non-null  int64  \n",
      " 11  item_id          578320 non-null  int64  \n",
      " 12  quantity         578320 non-null  int64  \n",
      " 13  name             578320 non-null  object \n",
      " 14  price            578320 non-null  float64\n",
      "dtypes: float64(1), int64(4), object(10)\n",
      "memory usage: 70.6+ MB\n"
     ]
    }
   ],
   "source": [
    "merged_data4.info()"
   ]
  },
  {
   "cell_type": "code",
   "execution_count": null,
   "metadata": {},
   "outputs": [],
   "source": []
  },
  {
   "cell_type": "code",
   "execution_count": 18,
   "metadata": {},
   "outputs": [],
   "source": [
    "file_path = r'C:\\Users\\KLAUS\\Desktop\\JUPYTER\\altschool-sod-second-semester-project\\datasets\\shopsmart_df.csv'"
   ]
  },
  {
   "cell_type": "code",
   "execution_count": 19,
   "metadata": {},
   "outputs": [],
   "source": [
    "merged_data4.to_csv(file_path, index=False)"
   ]
  },
  {
   "cell_type": "code",
   "execution_count": 22,
   "metadata": {},
   "outputs": [],
   "source": [
    "shopsmart_df = pd.read_csv(r'C:\\Users\\KLAUS\\Desktop\\JUPYTER\\altschool-sod-second-semester-project\\datasets\\shopsmart_df.csv')"
   ]
  },
  {
   "cell_type": "code",
   "execution_count": 23,
   "metadata": {},
   "outputs": [
    {
     "data": {
      "text/html": [
       "<div>\n",
       "<style scoped>\n",
       "    .dataframe tbody tr th:only-of-type {\n",
       "        vertical-align: middle;\n",
       "    }\n",
       "\n",
       "    .dataframe tbody tr th {\n",
       "        vertical-align: top;\n",
       "    }\n",
       "\n",
       "    .dataframe thead th {\n",
       "        text-align: right;\n",
       "    }\n",
       "</style>\n",
       "<table border=\"1\" class=\"dataframe\">\n",
       "  <thead>\n",
       "    <tr style=\"text-align: right;\">\n",
       "      <th></th>\n",
       "      <th>customer_id</th>\n",
       "      <th>device_id</th>\n",
       "      <th>location</th>\n",
       "      <th>currency</th>\n",
       "      <th>event_id</th>\n",
       "      <th>event_data</th>\n",
       "      <th>event_timestamp</th>\n",
       "      <th>order_id</th>\n",
       "      <th>status</th>\n",
       "      <th>checked_out_at</th>\n",
       "      <th>line_item_id</th>\n",
       "      <th>item_id</th>\n",
       "      <th>quantity</th>\n",
       "      <th>name</th>\n",
       "      <th>price</th>\n",
       "    </tr>\n",
       "  </thead>\n",
       "  <tbody>\n",
       "    <tr>\n",
       "      <th>0</th>\n",
       "      <td>cda7bec0-7cbf-4145-baf9-e049bab94504</td>\n",
       "      <td>33b485de-7338-4997-b1d0-b988ba17b245</td>\n",
       "      <td>Saint Helena</td>\n",
       "      <td>NGN</td>\n",
       "      <td>14786</td>\n",
       "      <td>{\"timestamp\": \"2024-03-26T22:05:58.863661\", \"e...</td>\n",
       "      <td>2024-03-26 22:05:58.863661</td>\n",
       "      <td>9e950ce3-2e12-479c-a051-493c1a497d49</td>\n",
       "      <td>success</td>\n",
       "      <td>2024-03-30 04:19:10.406794</td>\n",
       "      <td>3201</td>\n",
       "      <td>4</td>\n",
       "      <td>2</td>\n",
       "      <td>Microsoft Xbox Series X</td>\n",
       "      <td>499.99</td>\n",
       "    </tr>\n",
       "    <tr>\n",
       "      <th>1</th>\n",
       "      <td>cda7bec0-7cbf-4145-baf9-e049bab94504</td>\n",
       "      <td>33b485de-7338-4997-b1d0-b988ba17b245</td>\n",
       "      <td>Saint Helena</td>\n",
       "      <td>NGN</td>\n",
       "      <td>14787</td>\n",
       "      <td>{\"timestamp\": \"2024-03-27T07:14:33.987347\", \"e...</td>\n",
       "      <td>2024-03-27 07:14:33.987347</td>\n",
       "      <td>9e950ce3-2e12-479c-a051-493c1a497d49</td>\n",
       "      <td>success</td>\n",
       "      <td>2024-03-30 04:19:10.406794</td>\n",
       "      <td>3201</td>\n",
       "      <td>4</td>\n",
       "      <td>2</td>\n",
       "      <td>Microsoft Xbox Series X</td>\n",
       "      <td>499.99</td>\n",
       "    </tr>\n",
       "    <tr>\n",
       "      <th>2</th>\n",
       "      <td>cda7bec0-7cbf-4145-baf9-e049bab94504</td>\n",
       "      <td>33b485de-7338-4997-b1d0-b988ba17b245</td>\n",
       "      <td>Saint Helena</td>\n",
       "      <td>NGN</td>\n",
       "      <td>14788</td>\n",
       "      <td>{\"timestamp\": \"2024-03-30T04:03:10.406559\", \"e...</td>\n",
       "      <td>2024-03-30 04:03:10.406559</td>\n",
       "      <td>9e950ce3-2e12-479c-a051-493c1a497d49</td>\n",
       "      <td>success</td>\n",
       "      <td>2024-03-30 04:19:10.406794</td>\n",
       "      <td>3201</td>\n",
       "      <td>4</td>\n",
       "      <td>2</td>\n",
       "      <td>Microsoft Xbox Series X</td>\n",
       "      <td>499.99</td>\n",
       "    </tr>\n",
       "    <tr>\n",
       "      <th>3</th>\n",
       "      <td>cda7bec0-7cbf-4145-baf9-e049bab94504</td>\n",
       "      <td>33b485de-7338-4997-b1d0-b988ba17b245</td>\n",
       "      <td>Saint Helena</td>\n",
       "      <td>NGN</td>\n",
       "      <td>14789</td>\n",
       "      <td>{\"timestamp\": \"2024-03-30T04:03:10.406561\", \"e...</td>\n",
       "      <td>2024-03-30 04:03:10.406561</td>\n",
       "      <td>9e950ce3-2e12-479c-a051-493c1a497d49</td>\n",
       "      <td>success</td>\n",
       "      <td>2024-03-30 04:19:10.406794</td>\n",
       "      <td>3201</td>\n",
       "      <td>4</td>\n",
       "      <td>2</td>\n",
       "      <td>Microsoft Xbox Series X</td>\n",
       "      <td>499.99</td>\n",
       "    </tr>\n",
       "    <tr>\n",
       "      <th>4</th>\n",
       "      <td>cda7bec0-7cbf-4145-baf9-e049bab94504</td>\n",
       "      <td>33b485de-7338-4997-b1d0-b988ba17b245</td>\n",
       "      <td>Saint Helena</td>\n",
       "      <td>NGN</td>\n",
       "      <td>14790</td>\n",
       "      <td>{\"item_id\": 4, \"quantity\": 2, \"timestamp\": \"20...</td>\n",
       "      <td>2024-03-30 04:03:10.406769</td>\n",
       "      <td>9e950ce3-2e12-479c-a051-493c1a497d49</td>\n",
       "      <td>success</td>\n",
       "      <td>2024-03-30 04:19:10.406794</td>\n",
       "      <td>3201</td>\n",
       "      <td>4</td>\n",
       "      <td>2</td>\n",
       "      <td>Microsoft Xbox Series X</td>\n",
       "      <td>499.99</td>\n",
       "    </tr>\n",
       "  </tbody>\n",
       "</table>\n",
       "</div>"
      ],
      "text/plain": [
       "                            customer_id                             device_id  \\\n",
       "0  cda7bec0-7cbf-4145-baf9-e049bab94504  33b485de-7338-4997-b1d0-b988ba17b245   \n",
       "1  cda7bec0-7cbf-4145-baf9-e049bab94504  33b485de-7338-4997-b1d0-b988ba17b245   \n",
       "2  cda7bec0-7cbf-4145-baf9-e049bab94504  33b485de-7338-4997-b1d0-b988ba17b245   \n",
       "3  cda7bec0-7cbf-4145-baf9-e049bab94504  33b485de-7338-4997-b1d0-b988ba17b245   \n",
       "4  cda7bec0-7cbf-4145-baf9-e049bab94504  33b485de-7338-4997-b1d0-b988ba17b245   \n",
       "\n",
       "       location currency  event_id  \\\n",
       "0  Saint Helena      NGN     14786   \n",
       "1  Saint Helena      NGN     14787   \n",
       "2  Saint Helena      NGN     14788   \n",
       "3  Saint Helena      NGN     14789   \n",
       "4  Saint Helena      NGN     14790   \n",
       "\n",
       "                                          event_data  \\\n",
       "0  {\"timestamp\": \"2024-03-26T22:05:58.863661\", \"e...   \n",
       "1  {\"timestamp\": \"2024-03-27T07:14:33.987347\", \"e...   \n",
       "2  {\"timestamp\": \"2024-03-30T04:03:10.406559\", \"e...   \n",
       "3  {\"timestamp\": \"2024-03-30T04:03:10.406561\", \"e...   \n",
       "4  {\"item_id\": 4, \"quantity\": 2, \"timestamp\": \"20...   \n",
       "\n",
       "              event_timestamp                              order_id   status  \\\n",
       "0  2024-03-26 22:05:58.863661  9e950ce3-2e12-479c-a051-493c1a497d49  success   \n",
       "1  2024-03-27 07:14:33.987347  9e950ce3-2e12-479c-a051-493c1a497d49  success   \n",
       "2  2024-03-30 04:03:10.406559  9e950ce3-2e12-479c-a051-493c1a497d49  success   \n",
       "3  2024-03-30 04:03:10.406561  9e950ce3-2e12-479c-a051-493c1a497d49  success   \n",
       "4  2024-03-30 04:03:10.406769  9e950ce3-2e12-479c-a051-493c1a497d49  success   \n",
       "\n",
       "               checked_out_at  line_item_id  item_id  quantity  \\\n",
       "0  2024-03-30 04:19:10.406794          3201        4         2   \n",
       "1  2024-03-30 04:19:10.406794          3201        4         2   \n",
       "2  2024-03-30 04:19:10.406794          3201        4         2   \n",
       "3  2024-03-30 04:19:10.406794          3201        4         2   \n",
       "4  2024-03-30 04:19:10.406794          3201        4         2   \n",
       "\n",
       "                      name   price  \n",
       "0  Microsoft Xbox Series X  499.99  \n",
       "1  Microsoft Xbox Series X  499.99  \n",
       "2  Microsoft Xbox Series X  499.99  \n",
       "3  Microsoft Xbox Series X  499.99  \n",
       "4  Microsoft Xbox Series X  499.99  "
      ]
     },
     "execution_count": 23,
     "metadata": {},
     "output_type": "execute_result"
    }
   ],
   "source": [
    "shopsmart_df.head()"
   ]
  },
  {
   "cell_type": "code",
   "execution_count": 24,
   "metadata": {},
   "outputs": [
    {
     "data": {
      "text/plain": [
       "0"
      ]
     },
     "execution_count": 24,
     "metadata": {},
     "output_type": "execute_result"
    }
   ],
   "source": [
    "shopsmart_df.duplicated().sum()"
   ]
  },
  {
   "cell_type": "code",
   "execution_count": 33,
   "metadata": {},
   "outputs": [
    {
     "data": {
      "text/plain": [
       "array([False, False, False, False, False, False, False, False, False,\n",
       "       False, False, False, False, False, False])"
      ]
     },
     "execution_count": 33,
     "metadata": {},
     "output_type": "execute_result"
    }
   ],
   "source": [
    "shopsmart_df.columns.duplicated()"
   ]
  },
  {
   "cell_type": "code",
   "execution_count": null,
   "metadata": {},
   "outputs": [],
   "source": []
  },
  {
   "cell_type": "code",
   "execution_count": 34,
   "metadata": {},
   "outputs": [
    {
     "data": {
      "text/plain": [
       "(578320, 15)"
      ]
     },
     "execution_count": 34,
     "metadata": {},
     "output_type": "execute_result"
    }
   ],
   "source": [
    "shopsmart_df.shape"
   ]
  },
  {
   "cell_type": "code",
   "execution_count": null,
   "metadata": {},
   "outputs": [],
   "source": []
  },
  {
   "cell_type": "code",
   "execution_count": null,
   "metadata": {},
   "outputs": [],
   "source": []
  },
  {
   "cell_type": "code",
   "execution_count": null,
   "metadata": {},
   "outputs": [],
   "source": []
  },
  {
   "cell_type": "code",
   "execution_count": null,
   "metadata": {},
   "outputs": [],
   "source": []
  },
  {
   "cell_type": "code",
   "execution_count": null,
   "metadata": {},
   "outputs": [],
   "source": []
  },
  {
   "cell_type": "code",
   "execution_count": null,
   "metadata": {},
   "outputs": [],
   "source": []
  },
  {
   "cell_type": "code",
   "execution_count": null,
   "metadata": {},
   "outputs": [],
   "source": []
  },
  {
   "cell_type": "code",
   "execution_count": null,
   "metadata": {},
   "outputs": [],
   "source": []
  },
  {
   "cell_type": "code",
   "execution_count": null,
   "metadata": {},
   "outputs": [],
   "source": []
  },
  {
   "cell_type": "code",
   "execution_count": null,
   "metadata": {},
   "outputs": [],
   "source": []
  },
  {
   "cell_type": "code",
   "execution_count": null,
   "metadata": {},
   "outputs": [],
   "source": []
  },
  {
   "cell_type": "code",
   "execution_count": null,
   "metadata": {},
   "outputs": [],
   "source": []
  },
  {
   "cell_type": "code",
   "execution_count": null,
   "metadata": {},
   "outputs": [],
   "source": []
  },
  {
   "cell_type": "code",
   "execution_count": null,
   "metadata": {},
   "outputs": [],
   "source": []
  },
  {
   "cell_type": "code",
   "execution_count": null,
   "metadata": {},
   "outputs": [],
   "source": []
  },
  {
   "cell_type": "code",
   "execution_count": null,
   "metadata": {},
   "outputs": [],
   "source": []
  },
  {
   "cell_type": "code",
   "execution_count": null,
   "metadata": {},
   "outputs": [],
   "source": []
  },
  {
   "cell_type": "code",
   "execution_count": null,
   "metadata": {},
   "outputs": [],
   "source": []
  },
  {
   "cell_type": "code",
   "execution_count": null,
   "metadata": {},
   "outputs": [],
   "source": []
  },
  {
   "cell_type": "code",
   "execution_count": null,
   "metadata": {},
   "outputs": [],
   "source": []
  },
  {
   "cell_type": "code",
   "execution_count": null,
   "metadata": {},
   "outputs": [],
   "source": []
  },
  {
   "cell_type": "code",
   "execution_count": null,
   "metadata": {},
   "outputs": [],
   "source": []
  },
  {
   "cell_type": "code",
   "execution_count": null,
   "metadata": {},
   "outputs": [],
   "source": []
  },
  {
   "cell_type": "code",
   "execution_count": null,
   "metadata": {},
   "outputs": [],
   "source": []
  },
  {
   "cell_type": "code",
   "execution_count": null,
   "metadata": {},
   "outputs": [],
   "source": []
  },
  {
   "cell_type": "code",
   "execution_count": null,
   "metadata": {},
   "outputs": [],
   "source": []
  },
  {
   "cell_type": "code",
   "execution_count": null,
   "metadata": {},
   "outputs": [],
   "source": []
  },
  {
   "cell_type": "code",
   "execution_count": null,
   "metadata": {},
   "outputs": [],
   "source": []
  },
  {
   "cell_type": "code",
   "execution_count": null,
   "metadata": {},
   "outputs": [],
   "source": []
  },
  {
   "cell_type": "code",
   "execution_count": null,
   "metadata": {},
   "outputs": [],
   "source": []
  },
  {
   "cell_type": "code",
   "execution_count": null,
   "metadata": {},
   "outputs": [],
   "source": []
  },
  {
   "cell_type": "code",
   "execution_count": null,
   "metadata": {},
   "outputs": [],
   "source": []
  },
  {
   "cell_type": "code",
   "execution_count": null,
   "metadata": {},
   "outputs": [],
   "source": []
  },
  {
   "cell_type": "code",
   "execution_count": null,
   "metadata": {},
   "outputs": [],
   "source": []
  },
  {
   "cell_type": "code",
   "execution_count": null,
   "metadata": {},
   "outputs": [],
   "source": []
  },
  {
   "cell_type": "code",
   "execution_count": null,
   "metadata": {},
   "outputs": [],
   "source": []
  },
  {
   "cell_type": "code",
   "execution_count": null,
   "metadata": {},
   "outputs": [],
   "source": []
  },
  {
   "cell_type": "code",
   "execution_count": null,
   "metadata": {},
   "outputs": [],
   "source": []
  },
  {
   "cell_type": "code",
   "execution_count": null,
   "metadata": {},
   "outputs": [],
   "source": []
  },
  {
   "cell_type": "code",
   "execution_count": null,
   "metadata": {},
   "outputs": [],
   "source": []
  },
  {
   "cell_type": "code",
   "execution_count": null,
   "metadata": {},
   "outputs": [],
   "source": []
  },
  {
   "cell_type": "code",
   "execution_count": null,
   "metadata": {},
   "outputs": [],
   "source": []
  },
  {
   "cell_type": "code",
   "execution_count": null,
   "metadata": {},
   "outputs": [],
   "source": []
  },
  {
   "cell_type": "code",
   "execution_count": null,
   "metadata": {},
   "outputs": [],
   "source": []
  },
  {
   "cell_type": "code",
   "execution_count": null,
   "metadata": {},
   "outputs": [],
   "source": []
  },
  {
   "cell_type": "code",
   "execution_count": null,
   "metadata": {},
   "outputs": [],
   "source": []
  },
  {
   "cell_type": "code",
   "execution_count": null,
   "metadata": {},
   "outputs": [],
   "source": []
  },
  {
   "cell_type": "code",
   "execution_count": null,
   "metadata": {},
   "outputs": [],
   "source": []
  },
  {
   "cell_type": "code",
   "execution_count": null,
   "metadata": {},
   "outputs": [],
   "source": []
  },
  {
   "cell_type": "code",
   "execution_count": null,
   "metadata": {},
   "outputs": [],
   "source": []
  },
  {
   "cell_type": "code",
   "execution_count": null,
   "metadata": {},
   "outputs": [],
   "source": []
  },
  {
   "cell_type": "code",
   "execution_count": null,
   "metadata": {},
   "outputs": [],
   "source": []
  },
  {
   "cell_type": "code",
   "execution_count": 39,
   "metadata": {},
   "outputs": [
    {
     "data": {
      "text/plain": [
       "(578320, 15)"
      ]
     },
     "execution_count": 39,
     "metadata": {},
     "output_type": "execute_result"
    }
   ],
   "source": [
    "merged_data41.shape"
   ]
  },
  {
   "cell_type": "code",
   "execution_count": 40,
   "metadata": {},
   "outputs": [
    {
     "data": {
      "text/plain": [
       "customer_id        0\n",
       "device_id          0\n",
       "location           0\n",
       "currency           0\n",
       "event_id           0\n",
       "event_data         0\n",
       "event_timestamp    0\n",
       "order_id           0\n",
       "status             0\n",
       "checked_out_at     0\n",
       "line_item_id       0\n",
       "item_id            0\n",
       "quantity           0\n",
       "name               0\n",
       "price              0\n",
       "dtype: int64"
      ]
     },
     "execution_count": 40,
     "metadata": {},
     "output_type": "execute_result"
    }
   ],
   "source": [
    "merged_data41.isna().sum()"
   ]
  },
  {
   "cell_type": "code",
   "execution_count": 41,
   "metadata": {
    "collapsed": true
   },
   "outputs": [
    {
     "data": {
      "text/html": [
       "<div>\n",
       "<style scoped>\n",
       "    .dataframe tbody tr th:only-of-type {\n",
       "        vertical-align: middle;\n",
       "    }\n",
       "\n",
       "    .dataframe tbody tr th {\n",
       "        vertical-align: top;\n",
       "    }\n",
       "\n",
       "    .dataframe thead th {\n",
       "        text-align: right;\n",
       "    }\n",
       "</style>\n",
       "<table border=\"1\" class=\"dataframe\">\n",
       "  <thead>\n",
       "    <tr style=\"text-align: right;\">\n",
       "      <th></th>\n",
       "      <th>customer_id</th>\n",
       "      <th>device_id</th>\n",
       "      <th>location</th>\n",
       "      <th>currency</th>\n",
       "      <th>event_id</th>\n",
       "      <th>event_data</th>\n",
       "      <th>event_timestamp</th>\n",
       "      <th>order_id</th>\n",
       "      <th>status</th>\n",
       "      <th>checked_out_at</th>\n",
       "      <th>line_item_id</th>\n",
       "      <th>item_id</th>\n",
       "      <th>quantity</th>\n",
       "      <th>name</th>\n",
       "      <th>price</th>\n",
       "    </tr>\n",
       "  </thead>\n",
       "  <tbody>\n",
       "    <tr>\n",
       "      <th>0</th>\n",
       "      <td>cda7bec0-7cbf-4145-baf9-e049bab94504</td>\n",
       "      <td>33b485de-7338-4997-b1d0-b988ba17b245</td>\n",
       "      <td>Saint Helena</td>\n",
       "      <td>NGN</td>\n",
       "      <td>14786</td>\n",
       "      <td>{\"timestamp\": \"2024-03-26T22:05:58.863661\", \"e...</td>\n",
       "      <td>2024-03-26 22:05:58.863661</td>\n",
       "      <td>9e950ce3-2e12-479c-a051-493c1a497d49</td>\n",
       "      <td>success</td>\n",
       "      <td>2024-03-30 04:19:10.406794</td>\n",
       "      <td>3201</td>\n",
       "      <td>4</td>\n",
       "      <td>2</td>\n",
       "      <td>Microsoft Xbox Series X</td>\n",
       "      <td>499.99</td>\n",
       "    </tr>\n",
       "    <tr>\n",
       "      <th>1</th>\n",
       "      <td>cda7bec0-7cbf-4145-baf9-e049bab94504</td>\n",
       "      <td>33b485de-7338-4997-b1d0-b988ba17b245</td>\n",
       "      <td>Saint Helena</td>\n",
       "      <td>NGN</td>\n",
       "      <td>14787</td>\n",
       "      <td>{\"timestamp\": \"2024-03-27T07:14:33.987347\", \"e...</td>\n",
       "      <td>2024-03-27 07:14:33.987347</td>\n",
       "      <td>9e950ce3-2e12-479c-a051-493c1a497d49</td>\n",
       "      <td>success</td>\n",
       "      <td>2024-03-30 04:19:10.406794</td>\n",
       "      <td>3201</td>\n",
       "      <td>4</td>\n",
       "      <td>2</td>\n",
       "      <td>Microsoft Xbox Series X</td>\n",
       "      <td>499.99</td>\n",
       "    </tr>\n",
       "    <tr>\n",
       "      <th>2</th>\n",
       "      <td>cda7bec0-7cbf-4145-baf9-e049bab94504</td>\n",
       "      <td>33b485de-7338-4997-b1d0-b988ba17b245</td>\n",
       "      <td>Saint Helena</td>\n",
       "      <td>NGN</td>\n",
       "      <td>14788</td>\n",
       "      <td>{\"timestamp\": \"2024-03-30T04:03:10.406559\", \"e...</td>\n",
       "      <td>2024-03-30 04:03:10.406559</td>\n",
       "      <td>9e950ce3-2e12-479c-a051-493c1a497d49</td>\n",
       "      <td>success</td>\n",
       "      <td>2024-03-30 04:19:10.406794</td>\n",
       "      <td>3201</td>\n",
       "      <td>4</td>\n",
       "      <td>2</td>\n",
       "      <td>Microsoft Xbox Series X</td>\n",
       "      <td>499.99</td>\n",
       "    </tr>\n",
       "    <tr>\n",
       "      <th>3</th>\n",
       "      <td>cda7bec0-7cbf-4145-baf9-e049bab94504</td>\n",
       "      <td>33b485de-7338-4997-b1d0-b988ba17b245</td>\n",
       "      <td>Saint Helena</td>\n",
       "      <td>NGN</td>\n",
       "      <td>14789</td>\n",
       "      <td>{\"timestamp\": \"2024-03-30T04:03:10.406561\", \"e...</td>\n",
       "      <td>2024-03-30 04:03:10.406561</td>\n",
       "      <td>9e950ce3-2e12-479c-a051-493c1a497d49</td>\n",
       "      <td>success</td>\n",
       "      <td>2024-03-30 04:19:10.406794</td>\n",
       "      <td>3201</td>\n",
       "      <td>4</td>\n",
       "      <td>2</td>\n",
       "      <td>Microsoft Xbox Series X</td>\n",
       "      <td>499.99</td>\n",
       "    </tr>\n",
       "    <tr>\n",
       "      <th>4</th>\n",
       "      <td>cda7bec0-7cbf-4145-baf9-e049bab94504</td>\n",
       "      <td>33b485de-7338-4997-b1d0-b988ba17b245</td>\n",
       "      <td>Saint Helena</td>\n",
       "      <td>NGN</td>\n",
       "      <td>14790</td>\n",
       "      <td>{\"item_id\": 4, \"quantity\": 2, \"timestamp\": \"20...</td>\n",
       "      <td>2024-03-30 04:03:10.406769</td>\n",
       "      <td>9e950ce3-2e12-479c-a051-493c1a497d49</td>\n",
       "      <td>success</td>\n",
       "      <td>2024-03-30 04:19:10.406794</td>\n",
       "      <td>3201</td>\n",
       "      <td>4</td>\n",
       "      <td>2</td>\n",
       "      <td>Microsoft Xbox Series X</td>\n",
       "      <td>499.99</td>\n",
       "    </tr>\n",
       "  </tbody>\n",
       "</table>\n",
       "</div>"
      ],
      "text/plain": [
       "                            customer_id                             device_id  \\\n",
       "0  cda7bec0-7cbf-4145-baf9-e049bab94504  33b485de-7338-4997-b1d0-b988ba17b245   \n",
       "1  cda7bec0-7cbf-4145-baf9-e049bab94504  33b485de-7338-4997-b1d0-b988ba17b245   \n",
       "2  cda7bec0-7cbf-4145-baf9-e049bab94504  33b485de-7338-4997-b1d0-b988ba17b245   \n",
       "3  cda7bec0-7cbf-4145-baf9-e049bab94504  33b485de-7338-4997-b1d0-b988ba17b245   \n",
       "4  cda7bec0-7cbf-4145-baf9-e049bab94504  33b485de-7338-4997-b1d0-b988ba17b245   \n",
       "\n",
       "       location currency  event_id  \\\n",
       "0  Saint Helena      NGN     14786   \n",
       "1  Saint Helena      NGN     14787   \n",
       "2  Saint Helena      NGN     14788   \n",
       "3  Saint Helena      NGN     14789   \n",
       "4  Saint Helena      NGN     14790   \n",
       "\n",
       "                                          event_data  \\\n",
       "0  {\"timestamp\": \"2024-03-26T22:05:58.863661\", \"e...   \n",
       "1  {\"timestamp\": \"2024-03-27T07:14:33.987347\", \"e...   \n",
       "2  {\"timestamp\": \"2024-03-30T04:03:10.406559\", \"e...   \n",
       "3  {\"timestamp\": \"2024-03-30T04:03:10.406561\", \"e...   \n",
       "4  {\"item_id\": 4, \"quantity\": 2, \"timestamp\": \"20...   \n",
       "\n",
       "              event_timestamp                              order_id   status  \\\n",
       "0  2024-03-26 22:05:58.863661  9e950ce3-2e12-479c-a051-493c1a497d49  success   \n",
       "1  2024-03-27 07:14:33.987347  9e950ce3-2e12-479c-a051-493c1a497d49  success   \n",
       "2  2024-03-30 04:03:10.406559  9e950ce3-2e12-479c-a051-493c1a497d49  success   \n",
       "3  2024-03-30 04:03:10.406561  9e950ce3-2e12-479c-a051-493c1a497d49  success   \n",
       "4  2024-03-30 04:03:10.406769  9e950ce3-2e12-479c-a051-493c1a497d49  success   \n",
       "\n",
       "               checked_out_at  line_item_id  item_id  quantity  \\\n",
       "0  2024-03-30 04:19:10.406794          3201        4         2   \n",
       "1  2024-03-30 04:19:10.406794          3201        4         2   \n",
       "2  2024-03-30 04:19:10.406794          3201        4         2   \n",
       "3  2024-03-30 04:19:10.406794          3201        4         2   \n",
       "4  2024-03-30 04:19:10.406794          3201        4         2   \n",
       "\n",
       "                      name   price  \n",
       "0  Microsoft Xbox Series X  499.99  \n",
       "1  Microsoft Xbox Series X  499.99  \n",
       "2  Microsoft Xbox Series X  499.99  \n",
       "3  Microsoft Xbox Series X  499.99  \n",
       "4  Microsoft Xbox Series X  499.99  "
      ]
     },
     "execution_count": 41,
     "metadata": {},
     "output_type": "execute_result"
    }
   ],
   "source": [
    "merged_data4.head()"
   ]
  },
  {
   "cell_type": "code",
   "execution_count": 42,
   "metadata": {
    "collapsed": true
   },
   "outputs": [
    {
     "data": {
      "text/html": [
       "<div>\n",
       "<style scoped>\n",
       "    .dataframe tbody tr th:only-of-type {\n",
       "        vertical-align: middle;\n",
       "    }\n",
       "\n",
       "    .dataframe tbody tr th {\n",
       "        vertical-align: top;\n",
       "    }\n",
       "\n",
       "    .dataframe thead th {\n",
       "        text-align: right;\n",
       "    }\n",
       "</style>\n",
       "<table border=\"1\" class=\"dataframe\">\n",
       "  <thead>\n",
       "    <tr style=\"text-align: right;\">\n",
       "      <th></th>\n",
       "      <th>customer_id</th>\n",
       "      <th>device_id</th>\n",
       "      <th>location</th>\n",
       "      <th>currency</th>\n",
       "      <th>event_id</th>\n",
       "      <th>event_data</th>\n",
       "      <th>event_timestamp</th>\n",
       "      <th>order_id</th>\n",
       "      <th>status</th>\n",
       "      <th>checked_out_at</th>\n",
       "      <th>line_item_id</th>\n",
       "      <th>item_id</th>\n",
       "      <th>quantity</th>\n",
       "      <th>name</th>\n",
       "      <th>price</th>\n",
       "    </tr>\n",
       "  </thead>\n",
       "  <tbody>\n",
       "    <tr>\n",
       "      <th>0</th>\n",
       "      <td>cda7bec0-7cbf-4145-baf9-e049bab94504</td>\n",
       "      <td>33b485de-7338-4997-b1d0-b988ba17b245</td>\n",
       "      <td>Saint Helena</td>\n",
       "      <td>NGN</td>\n",
       "      <td>14786</td>\n",
       "      <td>{\"timestamp\": \"2024-03-26T22:05:58.863661\", \"e...</td>\n",
       "      <td>2024-03-26 22:05:58.863661</td>\n",
       "      <td>9e950ce3-2e12-479c-a051-493c1a497d49</td>\n",
       "      <td>success</td>\n",
       "      <td>2024-03-30 04:19:10.406794</td>\n",
       "      <td>3201</td>\n",
       "      <td>4</td>\n",
       "      <td>2</td>\n",
       "      <td>Microsoft Xbox Series X</td>\n",
       "      <td>499.99</td>\n",
       "    </tr>\n",
       "    <tr>\n",
       "      <th>1</th>\n",
       "      <td>cda7bec0-7cbf-4145-baf9-e049bab94504</td>\n",
       "      <td>33b485de-7338-4997-b1d0-b988ba17b245</td>\n",
       "      <td>Saint Helena</td>\n",
       "      <td>NGN</td>\n",
       "      <td>14787</td>\n",
       "      <td>{\"timestamp\": \"2024-03-27T07:14:33.987347\", \"e...</td>\n",
       "      <td>2024-03-27 07:14:33.987347</td>\n",
       "      <td>9e950ce3-2e12-479c-a051-493c1a497d49</td>\n",
       "      <td>success</td>\n",
       "      <td>2024-03-30 04:19:10.406794</td>\n",
       "      <td>3201</td>\n",
       "      <td>4</td>\n",
       "      <td>2</td>\n",
       "      <td>Microsoft Xbox Series X</td>\n",
       "      <td>499.99</td>\n",
       "    </tr>\n",
       "    <tr>\n",
       "      <th>2</th>\n",
       "      <td>cda7bec0-7cbf-4145-baf9-e049bab94504</td>\n",
       "      <td>33b485de-7338-4997-b1d0-b988ba17b245</td>\n",
       "      <td>Saint Helena</td>\n",
       "      <td>NGN</td>\n",
       "      <td>14788</td>\n",
       "      <td>{\"timestamp\": \"2024-03-30T04:03:10.406559\", \"e...</td>\n",
       "      <td>2024-03-30 04:03:10.406559</td>\n",
       "      <td>9e950ce3-2e12-479c-a051-493c1a497d49</td>\n",
       "      <td>success</td>\n",
       "      <td>2024-03-30 04:19:10.406794</td>\n",
       "      <td>3201</td>\n",
       "      <td>4</td>\n",
       "      <td>2</td>\n",
       "      <td>Microsoft Xbox Series X</td>\n",
       "      <td>499.99</td>\n",
       "    </tr>\n",
       "    <tr>\n",
       "      <th>3</th>\n",
       "      <td>cda7bec0-7cbf-4145-baf9-e049bab94504</td>\n",
       "      <td>33b485de-7338-4997-b1d0-b988ba17b245</td>\n",
       "      <td>Saint Helena</td>\n",
       "      <td>NGN</td>\n",
       "      <td>14789</td>\n",
       "      <td>{\"timestamp\": \"2024-03-30T04:03:10.406561\", \"e...</td>\n",
       "      <td>2024-03-30 04:03:10.406561</td>\n",
       "      <td>9e950ce3-2e12-479c-a051-493c1a497d49</td>\n",
       "      <td>success</td>\n",
       "      <td>2024-03-30 04:19:10.406794</td>\n",
       "      <td>3201</td>\n",
       "      <td>4</td>\n",
       "      <td>2</td>\n",
       "      <td>Microsoft Xbox Series X</td>\n",
       "      <td>499.99</td>\n",
       "    </tr>\n",
       "    <tr>\n",
       "      <th>4</th>\n",
       "      <td>cda7bec0-7cbf-4145-baf9-e049bab94504</td>\n",
       "      <td>33b485de-7338-4997-b1d0-b988ba17b245</td>\n",
       "      <td>Saint Helena</td>\n",
       "      <td>NGN</td>\n",
       "      <td>14790</td>\n",
       "      <td>{\"item_id\": 4, \"quantity\": 2, \"timestamp\": \"20...</td>\n",
       "      <td>2024-03-30 04:03:10.406769</td>\n",
       "      <td>9e950ce3-2e12-479c-a051-493c1a497d49</td>\n",
       "      <td>success</td>\n",
       "      <td>2024-03-30 04:19:10.406794</td>\n",
       "      <td>3201</td>\n",
       "      <td>4</td>\n",
       "      <td>2</td>\n",
       "      <td>Microsoft Xbox Series X</td>\n",
       "      <td>499.99</td>\n",
       "    </tr>\n",
       "  </tbody>\n",
       "</table>\n",
       "</div>"
      ],
      "text/plain": [
       "                            customer_id                             device_id  \\\n",
       "0  cda7bec0-7cbf-4145-baf9-e049bab94504  33b485de-7338-4997-b1d0-b988ba17b245   \n",
       "1  cda7bec0-7cbf-4145-baf9-e049bab94504  33b485de-7338-4997-b1d0-b988ba17b245   \n",
       "2  cda7bec0-7cbf-4145-baf9-e049bab94504  33b485de-7338-4997-b1d0-b988ba17b245   \n",
       "3  cda7bec0-7cbf-4145-baf9-e049bab94504  33b485de-7338-4997-b1d0-b988ba17b245   \n",
       "4  cda7bec0-7cbf-4145-baf9-e049bab94504  33b485de-7338-4997-b1d0-b988ba17b245   \n",
       "\n",
       "       location currency  event_id  \\\n",
       "0  Saint Helena      NGN     14786   \n",
       "1  Saint Helena      NGN     14787   \n",
       "2  Saint Helena      NGN     14788   \n",
       "3  Saint Helena      NGN     14789   \n",
       "4  Saint Helena      NGN     14790   \n",
       "\n",
       "                                          event_data  \\\n",
       "0  {\"timestamp\": \"2024-03-26T22:05:58.863661\", \"e...   \n",
       "1  {\"timestamp\": \"2024-03-27T07:14:33.987347\", \"e...   \n",
       "2  {\"timestamp\": \"2024-03-30T04:03:10.406559\", \"e...   \n",
       "3  {\"timestamp\": \"2024-03-30T04:03:10.406561\", \"e...   \n",
       "4  {\"item_id\": 4, \"quantity\": 2, \"timestamp\": \"20...   \n",
       "\n",
       "              event_timestamp                              order_id   status  \\\n",
       "0  2024-03-26 22:05:58.863661  9e950ce3-2e12-479c-a051-493c1a497d49  success   \n",
       "1  2024-03-27 07:14:33.987347  9e950ce3-2e12-479c-a051-493c1a497d49  success   \n",
       "2  2024-03-30 04:03:10.406559  9e950ce3-2e12-479c-a051-493c1a497d49  success   \n",
       "3  2024-03-30 04:03:10.406561  9e950ce3-2e12-479c-a051-493c1a497d49  success   \n",
       "4  2024-03-30 04:03:10.406769  9e950ce3-2e12-479c-a051-493c1a497d49  success   \n",
       "\n",
       "               checked_out_at  line_item_id  item_id  quantity  \\\n",
       "0  2024-03-30 04:19:10.406794          3201        4         2   \n",
       "1  2024-03-30 04:19:10.406794          3201        4         2   \n",
       "2  2024-03-30 04:19:10.406794          3201        4         2   \n",
       "3  2024-03-30 04:19:10.406794          3201        4         2   \n",
       "4  2024-03-30 04:19:10.406794          3201        4         2   \n",
       "\n",
       "                      name   price  \n",
       "0  Microsoft Xbox Series X  499.99  \n",
       "1  Microsoft Xbox Series X  499.99  \n",
       "2  Microsoft Xbox Series X  499.99  \n",
       "3  Microsoft Xbox Series X  499.99  \n",
       "4  Microsoft Xbox Series X  499.99  "
      ]
     },
     "execution_count": 42,
     "metadata": {},
     "output_type": "execute_result"
    }
   ],
   "source": [
    "shopsmart_df.head()"
   ]
  },
  {
   "cell_type": "code",
   "execution_count": 1,
   "metadata": {},
   "outputs": [],
   "source": [
    "import pandas as pd\n",
    "cust = pd.read_csv('customers.csv')\n",
    "eve = pd.read_csv('events.csv')\n",
    "lin = pd.read_csv('line_items.csv')\n",
    "orde = pd.read_csv('orders.csv')\n",
    "pro = pd.read_csv('products.csv')"
   ]
  },
  {
   "cell_type": "code",
   "execution_count": 2,
   "metadata": {},
   "outputs": [],
   "source": [
    "# Merge customer_df and events_df on 'customer_id'\n",
    "merged_dat1 = pd.merge(cust, eve, on='customer_id', how='outer')\n",
    "\n",
    "# Merge merged_data1 and orders_df on 'customer_id'\n",
    "merged_dat2 = pd.merge(merged_dat1, orde, on='customer_id', how='outer')\n",
    "\n",
    "# Merge merged_data2 and line_items_df on 'order_id'\n",
    "merged_dat3 = pd.merge(merged_dat2, lin, on='order_id', how='outer')\n",
    "\n",
    "\n",
    "pro = pro.rename(columns={'id':'item_id'})\n",
    "# Merge merged_data3 and products_df on 'item_id'\n",
    "merged_dat4 = pd.merge(merged_dat3, pro, on='item_id', how='outer')\n"
   ]
  },
  {
   "cell_type": "code",
   "execution_count": 3,
   "metadata": {},
   "outputs": [
    {
     "name": "stdout",
     "output_type": "stream",
     "text": [
      "<class 'pandas.core.frame.DataFrame'>\n",
      "Int64Index: 652958 entries, 0 to 652957\n",
      "Data columns (total 15 columns):\n",
      " #   Column           Non-Null Count   Dtype  \n",
      "---  ------           --------------   -----  \n",
      " 0   customer_id      652958 non-null  object \n",
      " 1   device_id        652958 non-null  object \n",
      " 2   location         652958 non-null  object \n",
      " 3   currency         652958 non-null  object \n",
      " 4   event_id         652958 non-null  int64  \n",
      " 5   event_data       652958 non-null  object \n",
      " 6   event_timestamp  652958 non-null  object \n",
      " 7   order_id         645885 non-null  object \n",
      " 8   status           645885 non-null  object \n",
      " 9   checked_out_at   645885 non-null  object \n",
      " 10  line_item_id     578320 non-null  float64\n",
      " 11  item_id          578320 non-null  float64\n",
      " 12  quantity         578320 non-null  float64\n",
      " 13  name             578320 non-null  object \n",
      " 14  price            578320 non-null  float64\n",
      "dtypes: float64(4), int64(1), object(10)\n",
      "memory usage: 79.7+ MB\n"
     ]
    }
   ],
   "source": [
    "merged_dat4.info()"
   ]
  },
  {
   "cell_type": "code",
   "execution_count": 4,
   "metadata": {},
   "outputs": [
    {
     "data": {
      "text/plain": [
       "customer_id            0\n",
       "device_id              0\n",
       "location               0\n",
       "currency               0\n",
       "event_id               0\n",
       "event_data             0\n",
       "event_timestamp        0\n",
       "order_id            7073\n",
       "status              7073\n",
       "checked_out_at      7073\n",
       "line_item_id       74638\n",
       "item_id            74638\n",
       "quantity           74638\n",
       "name               74638\n",
       "price              74638\n",
       "dtype: int64"
      ]
     },
     "execution_count": 4,
     "metadata": {},
     "output_type": "execute_result"
    }
   ],
   "source": [
    "merged_dat4.isna().sum()"
   ]
  },
  {
   "cell_type": "code",
   "execution_count": 5,
   "metadata": {},
   "outputs": [
    {
     "data": {
      "text/plain": [
       "(652958, 15)"
      ]
     },
     "execution_count": 5,
     "metadata": {},
     "output_type": "execute_result"
    }
   ],
   "source": [
    "merged_dat4.shape"
   ]
  },
  {
   "cell_type": "code",
   "execution_count": 6,
   "metadata": {},
   "outputs": [],
   "source": [
    "custi = pd.read_csv('customers.csv')\n",
    "evei = pd.read_csv('events.csv')\n",
    "lini = pd.read_csv('line_items.csv')\n",
    "ordei = pd.read_csv('orders.csv')\n",
    "proi = pd.read_csv('products.csv')"
   ]
  },
  {
   "cell_type": "code",
   "execution_count": 9,
   "metadata": {},
   "outputs": [],
   "source": [
    "# Merge customer_df and events_df on 'customer_id'\n",
    "merged_dat1i = pd.merge(custi, evei, on='customer_id', how='inner')\n",
    "\n",
    "# Merge merged_data1 and orders_df on 'customer_id'\n",
    "merged_dat2i = pd.merge(merged_dat1i, ordei, on='customer_id', how='inner')\n",
    "\n",
    "# Merge merged_data2 and line_items_df on 'order_id'\n",
    "merged_dat3i = pd.merge(merged_dat2i, lini, on='order_id', how='inner')\n",
    "\n",
    "\n",
    "proi = proi.rename(columns={'id':'item_id'})\n",
    "# Merge merged_data3 and products_df on 'item_id'\n",
    "merged_dat4i = pd.merge(merged_dat3i, proi, on='item_id', how='inner')\n"
   ]
  },
  {
   "cell_type": "code",
   "execution_count": 10,
   "metadata": {},
   "outputs": [
    {
     "data": {
      "text/plain": [
       "(578320, 15)"
      ]
     },
     "execution_count": 10,
     "metadata": {},
     "output_type": "execute_result"
    }
   ],
   "source": [
    "merged_dat4i.shape"
   ]
  },
  {
   "cell_type": "code",
   "execution_count": 11,
   "metadata": {},
   "outputs": [
    {
     "data": {
      "text/plain": [
       "customer_id        0\n",
       "device_id          0\n",
       "location           0\n",
       "currency           0\n",
       "event_id           0\n",
       "event_data         0\n",
       "event_timestamp    0\n",
       "order_id           0\n",
       "status             0\n",
       "checked_out_at     0\n",
       "line_item_id       0\n",
       "item_id            0\n",
       "quantity           0\n",
       "name               0\n",
       "price              0\n",
       "dtype: int64"
      ]
     },
     "execution_count": 11,
     "metadata": {},
     "output_type": "execute_result"
    }
   ],
   "source": [
    "merged_dat4i.isna().sum()"
   ]
  },
  {
   "cell_type": "code",
   "execution_count": 12,
   "metadata": {},
   "outputs": [
    {
     "name": "stdout",
     "output_type": "stream",
     "text": [
      "<class 'pandas.core.frame.DataFrame'>\n",
      "Int64Index: 578320 entries, 0 to 578319\n",
      "Data columns (total 15 columns):\n",
      " #   Column           Non-Null Count   Dtype  \n",
      "---  ------           --------------   -----  \n",
      " 0   customer_id      578320 non-null  object \n",
      " 1   device_id        578320 non-null  object \n",
      " 2   location         578320 non-null  object \n",
      " 3   currency         578320 non-null  object \n",
      " 4   event_id         578320 non-null  int64  \n",
      " 5   event_data       578320 non-null  object \n",
      " 6   event_timestamp  578320 non-null  object \n",
      " 7   order_id         578320 non-null  object \n",
      " 8   status           578320 non-null  object \n",
      " 9   checked_out_at   578320 non-null  object \n",
      " 10  line_item_id     578320 non-null  int64  \n",
      " 11  item_id          578320 non-null  int64  \n",
      " 12  quantity         578320 non-null  int64  \n",
      " 13  name             578320 non-null  object \n",
      " 14  price            578320 non-null  float64\n",
      "dtypes: float64(1), int64(4), object(10)\n",
      "memory usage: 70.6+ MB\n"
     ]
    }
   ],
   "source": [
    "merged_dat4i.info()"
   ]
  },
  {
   "cell_type": "code",
   "execution_count": 13,
   "metadata": {},
   "outputs": [
    {
     "data": {
      "text/html": [
       "<div>\n",
       "<style scoped>\n",
       "    .dataframe tbody tr th:only-of-type {\n",
       "        vertical-align: middle;\n",
       "    }\n",
       "\n",
       "    .dataframe tbody tr th {\n",
       "        vertical-align: top;\n",
       "    }\n",
       "\n",
       "    .dataframe thead th {\n",
       "        text-align: right;\n",
       "    }\n",
       "</style>\n",
       "<table border=\"1\" class=\"dataframe\">\n",
       "  <thead>\n",
       "    <tr style=\"text-align: right;\">\n",
       "      <th></th>\n",
       "      <th>customer_id</th>\n",
       "      <th>device_id</th>\n",
       "      <th>location</th>\n",
       "      <th>currency</th>\n",
       "      <th>event_id</th>\n",
       "      <th>event_data</th>\n",
       "      <th>event_timestamp</th>\n",
       "      <th>order_id</th>\n",
       "      <th>status</th>\n",
       "      <th>checked_out_at</th>\n",
       "      <th>line_item_id</th>\n",
       "      <th>item_id</th>\n",
       "      <th>quantity</th>\n",
       "      <th>name</th>\n",
       "      <th>price</th>\n",
       "    </tr>\n",
       "  </thead>\n",
       "  <tbody>\n",
       "    <tr>\n",
       "      <th>0</th>\n",
       "      <td>cda7bec0-7cbf-4145-baf9-e049bab94504</td>\n",
       "      <td>33b485de-7338-4997-b1d0-b988ba17b245</td>\n",
       "      <td>Saint Helena</td>\n",
       "      <td>NGN</td>\n",
       "      <td>14786</td>\n",
       "      <td>{\"timestamp\": \"2024-03-26T22:05:58.863661\", \"e...</td>\n",
       "      <td>2024-03-26 22:05:58.863661</td>\n",
       "      <td>9e950ce3-2e12-479c-a051-493c1a497d49</td>\n",
       "      <td>success</td>\n",
       "      <td>2024-03-30 04:19:10.406794</td>\n",
       "      <td>3201</td>\n",
       "      <td>4</td>\n",
       "      <td>2</td>\n",
       "      <td>Microsoft Xbox Series X</td>\n",
       "      <td>499.99</td>\n",
       "    </tr>\n",
       "    <tr>\n",
       "      <th>1</th>\n",
       "      <td>cda7bec0-7cbf-4145-baf9-e049bab94504</td>\n",
       "      <td>33b485de-7338-4997-b1d0-b988ba17b245</td>\n",
       "      <td>Saint Helena</td>\n",
       "      <td>NGN</td>\n",
       "      <td>14787</td>\n",
       "      <td>{\"timestamp\": \"2024-03-27T07:14:33.987347\", \"e...</td>\n",
       "      <td>2024-03-27 07:14:33.987347</td>\n",
       "      <td>9e950ce3-2e12-479c-a051-493c1a497d49</td>\n",
       "      <td>success</td>\n",
       "      <td>2024-03-30 04:19:10.406794</td>\n",
       "      <td>3201</td>\n",
       "      <td>4</td>\n",
       "      <td>2</td>\n",
       "      <td>Microsoft Xbox Series X</td>\n",
       "      <td>499.99</td>\n",
       "    </tr>\n",
       "    <tr>\n",
       "      <th>2</th>\n",
       "      <td>cda7bec0-7cbf-4145-baf9-e049bab94504</td>\n",
       "      <td>33b485de-7338-4997-b1d0-b988ba17b245</td>\n",
       "      <td>Saint Helena</td>\n",
       "      <td>NGN</td>\n",
       "      <td>14788</td>\n",
       "      <td>{\"timestamp\": \"2024-03-30T04:03:10.406559\", \"e...</td>\n",
       "      <td>2024-03-30 04:03:10.406559</td>\n",
       "      <td>9e950ce3-2e12-479c-a051-493c1a497d49</td>\n",
       "      <td>success</td>\n",
       "      <td>2024-03-30 04:19:10.406794</td>\n",
       "      <td>3201</td>\n",
       "      <td>4</td>\n",
       "      <td>2</td>\n",
       "      <td>Microsoft Xbox Series X</td>\n",
       "      <td>499.99</td>\n",
       "    </tr>\n",
       "    <tr>\n",
       "      <th>3</th>\n",
       "      <td>cda7bec0-7cbf-4145-baf9-e049bab94504</td>\n",
       "      <td>33b485de-7338-4997-b1d0-b988ba17b245</td>\n",
       "      <td>Saint Helena</td>\n",
       "      <td>NGN</td>\n",
       "      <td>14789</td>\n",
       "      <td>{\"timestamp\": \"2024-03-30T04:03:10.406561\", \"e...</td>\n",
       "      <td>2024-03-30 04:03:10.406561</td>\n",
       "      <td>9e950ce3-2e12-479c-a051-493c1a497d49</td>\n",
       "      <td>success</td>\n",
       "      <td>2024-03-30 04:19:10.406794</td>\n",
       "      <td>3201</td>\n",
       "      <td>4</td>\n",
       "      <td>2</td>\n",
       "      <td>Microsoft Xbox Series X</td>\n",
       "      <td>499.99</td>\n",
       "    </tr>\n",
       "    <tr>\n",
       "      <th>4</th>\n",
       "      <td>cda7bec0-7cbf-4145-baf9-e049bab94504</td>\n",
       "      <td>33b485de-7338-4997-b1d0-b988ba17b245</td>\n",
       "      <td>Saint Helena</td>\n",
       "      <td>NGN</td>\n",
       "      <td>14790</td>\n",
       "      <td>{\"item_id\": 4, \"quantity\": 2, \"timestamp\": \"20...</td>\n",
       "      <td>2024-03-30 04:03:10.406769</td>\n",
       "      <td>9e950ce3-2e12-479c-a051-493c1a497d49</td>\n",
       "      <td>success</td>\n",
       "      <td>2024-03-30 04:19:10.406794</td>\n",
       "      <td>3201</td>\n",
       "      <td>4</td>\n",
       "      <td>2</td>\n",
       "      <td>Microsoft Xbox Series X</td>\n",
       "      <td>499.99</td>\n",
       "    </tr>\n",
       "    <tr>\n",
       "      <th>...</th>\n",
       "      <td>...</td>\n",
       "      <td>...</td>\n",
       "      <td>...</td>\n",
       "      <td>...</td>\n",
       "      <td>...</td>\n",
       "      <td>...</td>\n",
       "      <td>...</td>\n",
       "      <td>...</td>\n",
       "      <td>...</td>\n",
       "      <td>...</td>\n",
       "      <td>...</td>\n",
       "      <td>...</td>\n",
       "      <td>...</td>\n",
       "      <td>...</td>\n",
       "      <td>...</td>\n",
       "    </tr>\n",
       "    <tr>\n",
       "      <th>578315</th>\n",
       "      <td>3aa213f4-2699-43b4-96b8-bf0de1cda133</td>\n",
       "      <td>35a035eb-5b04-45ff-8be7-66b8bbcc20a4</td>\n",
       "      <td>Liechtenstein</td>\n",
       "      <td>GBP</td>\n",
       "      <td>161946</td>\n",
       "      <td>{\"item_id\": 6, \"quantity\": 3, \"timestamp\": \"20...</td>\n",
       "      <td>2024-03-30 04:03:18.223419</td>\n",
       "      <td>4c2defc5-b1fe-4f2f-90b1-6ccce7bf481d</td>\n",
       "      <td>cancelled</td>\n",
       "      <td>2024-03-30 04:19:18.223427</td>\n",
       "      <td>34939</td>\n",
       "      <td>3</td>\n",
       "      <td>2</td>\n",
       "      <td>Sony PlayStation 5</td>\n",
       "      <td>499.99</td>\n",
       "    </tr>\n",
       "    <tr>\n",
       "      <th>578316</th>\n",
       "      <td>3aa213f4-2699-43b4-96b8-bf0de1cda133</td>\n",
       "      <td>35a035eb-5b04-45ff-8be7-66b8bbcc20a4</td>\n",
       "      <td>Liechtenstein</td>\n",
       "      <td>GBP</td>\n",
       "      <td>161947</td>\n",
       "      <td>{\"item_id\": 4, \"quantity\": 3, \"timestamp\": \"20...</td>\n",
       "      <td>2024-03-30 04:03:18.223421</td>\n",
       "      <td>4c2defc5-b1fe-4f2f-90b1-6ccce7bf481d</td>\n",
       "      <td>cancelled</td>\n",
       "      <td>2024-03-30 04:19:18.223427</td>\n",
       "      <td>34939</td>\n",
       "      <td>3</td>\n",
       "      <td>2</td>\n",
       "      <td>Sony PlayStation 5</td>\n",
       "      <td>499.99</td>\n",
       "    </tr>\n",
       "    <tr>\n",
       "      <th>578317</th>\n",
       "      <td>3aa213f4-2699-43b4-96b8-bf0de1cda133</td>\n",
       "      <td>35a035eb-5b04-45ff-8be7-66b8bbcc20a4</td>\n",
       "      <td>Liechtenstein</td>\n",
       "      <td>GBP</td>\n",
       "      <td>161948</td>\n",
       "      <td>{\"item_id\": 13, \"quantity\": 2, \"timestamp\": \"2...</td>\n",
       "      <td>2024-03-30 04:03:18.223423</td>\n",
       "      <td>4c2defc5-b1fe-4f2f-90b1-6ccce7bf481d</td>\n",
       "      <td>cancelled</td>\n",
       "      <td>2024-03-30 04:19:18.223427</td>\n",
       "      <td>34939</td>\n",
       "      <td>3</td>\n",
       "      <td>2</td>\n",
       "      <td>Sony PlayStation 5</td>\n",
       "      <td>499.99</td>\n",
       "    </tr>\n",
       "    <tr>\n",
       "      <th>578318</th>\n",
       "      <td>3aa213f4-2699-43b4-96b8-bf0de1cda133</td>\n",
       "      <td>35a035eb-5b04-45ff-8be7-66b8bbcc20a4</td>\n",
       "      <td>Liechtenstein</td>\n",
       "      <td>GBP</td>\n",
       "      <td>161949</td>\n",
       "      <td>{\"item_id\": 3, \"quantity\": 2, \"timestamp\": \"20...</td>\n",
       "      <td>2024-03-30 04:03:18.223424</td>\n",
       "      <td>4c2defc5-b1fe-4f2f-90b1-6ccce7bf481d</td>\n",
       "      <td>cancelled</td>\n",
       "      <td>2024-03-30 04:19:18.223427</td>\n",
       "      <td>34939</td>\n",
       "      <td>3</td>\n",
       "      <td>2</td>\n",
       "      <td>Sony PlayStation 5</td>\n",
       "      <td>499.99</td>\n",
       "    </tr>\n",
       "    <tr>\n",
       "      <th>578319</th>\n",
       "      <td>3aa213f4-2699-43b4-96b8-bf0de1cda133</td>\n",
       "      <td>35a035eb-5b04-45ff-8be7-66b8bbcc20a4</td>\n",
       "      <td>Liechtenstein</td>\n",
       "      <td>GBP</td>\n",
       "      <td>161950</td>\n",
       "      <td>{\"status\": \"cancelled\", \"order_id\": \"4c2defc5-...</td>\n",
       "      <td>2024-03-30 04:19:18.223427</td>\n",
       "      <td>4c2defc5-b1fe-4f2f-90b1-6ccce7bf481d</td>\n",
       "      <td>cancelled</td>\n",
       "      <td>2024-03-30 04:19:18.223427</td>\n",
       "      <td>34939</td>\n",
       "      <td>3</td>\n",
       "      <td>2</td>\n",
       "      <td>Sony PlayStation 5</td>\n",
       "      <td>499.99</td>\n",
       "    </tr>\n",
       "  </tbody>\n",
       "</table>\n",
       "<p>578320 rows × 15 columns</p>\n",
       "</div>"
      ],
      "text/plain": [
       "                                 customer_id  \\\n",
       "0       cda7bec0-7cbf-4145-baf9-e049bab94504   \n",
       "1       cda7bec0-7cbf-4145-baf9-e049bab94504   \n",
       "2       cda7bec0-7cbf-4145-baf9-e049bab94504   \n",
       "3       cda7bec0-7cbf-4145-baf9-e049bab94504   \n",
       "4       cda7bec0-7cbf-4145-baf9-e049bab94504   \n",
       "...                                      ...   \n",
       "578315  3aa213f4-2699-43b4-96b8-bf0de1cda133   \n",
       "578316  3aa213f4-2699-43b4-96b8-bf0de1cda133   \n",
       "578317  3aa213f4-2699-43b4-96b8-bf0de1cda133   \n",
       "578318  3aa213f4-2699-43b4-96b8-bf0de1cda133   \n",
       "578319  3aa213f4-2699-43b4-96b8-bf0de1cda133   \n",
       "\n",
       "                                   device_id       location currency  \\\n",
       "0       33b485de-7338-4997-b1d0-b988ba17b245   Saint Helena      NGN   \n",
       "1       33b485de-7338-4997-b1d0-b988ba17b245   Saint Helena      NGN   \n",
       "2       33b485de-7338-4997-b1d0-b988ba17b245   Saint Helena      NGN   \n",
       "3       33b485de-7338-4997-b1d0-b988ba17b245   Saint Helena      NGN   \n",
       "4       33b485de-7338-4997-b1d0-b988ba17b245   Saint Helena      NGN   \n",
       "...                                      ...            ...      ...   \n",
       "578315  35a035eb-5b04-45ff-8be7-66b8bbcc20a4  Liechtenstein      GBP   \n",
       "578316  35a035eb-5b04-45ff-8be7-66b8bbcc20a4  Liechtenstein      GBP   \n",
       "578317  35a035eb-5b04-45ff-8be7-66b8bbcc20a4  Liechtenstein      GBP   \n",
       "578318  35a035eb-5b04-45ff-8be7-66b8bbcc20a4  Liechtenstein      GBP   \n",
       "578319  35a035eb-5b04-45ff-8be7-66b8bbcc20a4  Liechtenstein      GBP   \n",
       "\n",
       "        event_id                                         event_data  \\\n",
       "0          14786  {\"timestamp\": \"2024-03-26T22:05:58.863661\", \"e...   \n",
       "1          14787  {\"timestamp\": \"2024-03-27T07:14:33.987347\", \"e...   \n",
       "2          14788  {\"timestamp\": \"2024-03-30T04:03:10.406559\", \"e...   \n",
       "3          14789  {\"timestamp\": \"2024-03-30T04:03:10.406561\", \"e...   \n",
       "4          14790  {\"item_id\": 4, \"quantity\": 2, \"timestamp\": \"20...   \n",
       "...          ...                                                ...   \n",
       "578315    161946  {\"item_id\": 6, \"quantity\": 3, \"timestamp\": \"20...   \n",
       "578316    161947  {\"item_id\": 4, \"quantity\": 3, \"timestamp\": \"20...   \n",
       "578317    161948  {\"item_id\": 13, \"quantity\": 2, \"timestamp\": \"2...   \n",
       "578318    161949  {\"item_id\": 3, \"quantity\": 2, \"timestamp\": \"20...   \n",
       "578319    161950  {\"status\": \"cancelled\", \"order_id\": \"4c2defc5-...   \n",
       "\n",
       "                   event_timestamp                              order_id  \\\n",
       "0       2024-03-26 22:05:58.863661  9e950ce3-2e12-479c-a051-493c1a497d49   \n",
       "1       2024-03-27 07:14:33.987347  9e950ce3-2e12-479c-a051-493c1a497d49   \n",
       "2       2024-03-30 04:03:10.406559  9e950ce3-2e12-479c-a051-493c1a497d49   \n",
       "3       2024-03-30 04:03:10.406561  9e950ce3-2e12-479c-a051-493c1a497d49   \n",
       "4       2024-03-30 04:03:10.406769  9e950ce3-2e12-479c-a051-493c1a497d49   \n",
       "...                            ...                                   ...   \n",
       "578315  2024-03-30 04:03:18.223419  4c2defc5-b1fe-4f2f-90b1-6ccce7bf481d   \n",
       "578316  2024-03-30 04:03:18.223421  4c2defc5-b1fe-4f2f-90b1-6ccce7bf481d   \n",
       "578317  2024-03-30 04:03:18.223423  4c2defc5-b1fe-4f2f-90b1-6ccce7bf481d   \n",
       "578318  2024-03-30 04:03:18.223424  4c2defc5-b1fe-4f2f-90b1-6ccce7bf481d   \n",
       "578319  2024-03-30 04:19:18.223427  4c2defc5-b1fe-4f2f-90b1-6ccce7bf481d   \n",
       "\n",
       "           status              checked_out_at  line_item_id  item_id  \\\n",
       "0         success  2024-03-30 04:19:10.406794          3201        4   \n",
       "1         success  2024-03-30 04:19:10.406794          3201        4   \n",
       "2         success  2024-03-30 04:19:10.406794          3201        4   \n",
       "3         success  2024-03-30 04:19:10.406794          3201        4   \n",
       "4         success  2024-03-30 04:19:10.406794          3201        4   \n",
       "...           ...                         ...           ...      ...   \n",
       "578315  cancelled  2024-03-30 04:19:18.223427         34939        3   \n",
       "578316  cancelled  2024-03-30 04:19:18.223427         34939        3   \n",
       "578317  cancelled  2024-03-30 04:19:18.223427         34939        3   \n",
       "578318  cancelled  2024-03-30 04:19:18.223427         34939        3   \n",
       "578319  cancelled  2024-03-30 04:19:18.223427         34939        3   \n",
       "\n",
       "        quantity                     name   price  \n",
       "0              2  Microsoft Xbox Series X  499.99  \n",
       "1              2  Microsoft Xbox Series X  499.99  \n",
       "2              2  Microsoft Xbox Series X  499.99  \n",
       "3              2  Microsoft Xbox Series X  499.99  \n",
       "4              2  Microsoft Xbox Series X  499.99  \n",
       "...          ...                      ...     ...  \n",
       "578315         2       Sony PlayStation 5  499.99  \n",
       "578316         2       Sony PlayStation 5  499.99  \n",
       "578317         2       Sony PlayStation 5  499.99  \n",
       "578318         2       Sony PlayStation 5  499.99  \n",
       "578319         2       Sony PlayStation 5  499.99  \n",
       "\n",
       "[578320 rows x 15 columns]"
      ]
     },
     "execution_count": 13,
     "metadata": {},
     "output_type": "execute_result"
    }
   ],
   "source": [
    "merged_dat4i"
   ]
  },
  {
   "cell_type": "code",
   "execution_count": null,
   "metadata": {},
   "outputs": [],
   "source": []
  },
  {
   "cell_type": "code",
   "execution_count": null,
   "metadata": {},
   "outputs": [],
   "source": []
  },
  {
   "cell_type": "code",
   "execution_count": null,
   "metadata": {},
   "outputs": [],
   "source": []
  },
  {
   "cell_type": "code",
   "execution_count": null,
   "metadata": {},
   "outputs": [],
   "source": []
  },
  {
   "cell_type": "code",
   "execution_count": null,
   "metadata": {},
   "outputs": [],
   "source": []
  },
  {
   "cell_type": "code",
   "execution_count": null,
   "metadata": {},
   "outputs": [],
   "source": []
  },
  {
   "cell_type": "code",
   "execution_count": null,
   "metadata": {},
   "outputs": [],
   "source": []
  },
  {
   "cell_type": "code",
   "execution_count": null,
   "metadata": {},
   "outputs": [],
   "source": []
  },
  {
   "cell_type": "code",
   "execution_count": null,
   "metadata": {},
   "outputs": [],
   "source": []
  },
  {
   "cell_type": "code",
   "execution_count": null,
   "metadata": {},
   "outputs": [],
   "source": []
  },
  {
   "cell_type": "code",
   "execution_count": null,
   "metadata": {},
   "outputs": [],
   "source": []
  },
  {
   "cell_type": "code",
   "execution_count": null,
   "metadata": {},
   "outputs": [],
   "source": []
  },
  {
   "cell_type": "code",
   "execution_count": null,
   "metadata": {},
   "outputs": [],
   "source": []
  },
  {
   "cell_type": "code",
   "execution_count": null,
   "metadata": {},
   "outputs": [],
   "source": []
  },
  {
   "cell_type": "code",
   "execution_count": null,
   "metadata": {},
   "outputs": [],
   "source": []
  },
  {
   "cell_type": "code",
   "execution_count": null,
   "metadata": {},
   "outputs": [],
   "source": []
  },
  {
   "cell_type": "code",
   "execution_count": null,
   "metadata": {},
   "outputs": [],
   "source": []
  },
  {
   "cell_type": "code",
   "execution_count": null,
   "metadata": {},
   "outputs": [],
   "source": []
  },
  {
   "cell_type": "code",
   "execution_count": null,
   "metadata": {},
   "outputs": [],
   "source": []
  },
  {
   "cell_type": "code",
   "execution_count": null,
   "metadata": {},
   "outputs": [],
   "source": []
  },
  {
   "cell_type": "code",
   "execution_count": null,
   "metadata": {},
   "outputs": [],
   "source": []
  },
  {
   "cell_type": "code",
   "execution_count": null,
   "metadata": {},
   "outputs": [],
   "source": []
  },
  {
   "cell_type": "code",
   "execution_count": null,
   "metadata": {},
   "outputs": [],
   "source": []
  },
  {
   "cell_type": "code",
   "execution_count": null,
   "metadata": {},
   "outputs": [],
   "source": []
  },
  {
   "cell_type": "code",
   "execution_count": null,
   "metadata": {},
   "outputs": [],
   "source": []
  },
  {
   "cell_type": "code",
   "execution_count": null,
   "metadata": {},
   "outputs": [],
   "source": []
  },
  {
   "cell_type": "code",
   "execution_count": null,
   "metadata": {},
   "outputs": [],
   "source": []
  },
  {
   "cell_type": "code",
   "execution_count": null,
   "metadata": {},
   "outputs": [],
   "source": []
  },
  {
   "cell_type": "code",
   "execution_count": null,
   "metadata": {},
   "outputs": [],
   "source": []
  },
  {
   "cell_type": "code",
   "execution_count": null,
   "metadata": {},
   "outputs": [],
   "source": []
  },
  {
   "cell_type": "code",
   "execution_count": null,
   "metadata": {},
   "outputs": [],
   "source": []
  },
  {
   "cell_type": "code",
   "execution_count": null,
   "metadata": {},
   "outputs": [],
   "source": []
  },
  {
   "cell_type": "code",
   "execution_count": null,
   "metadata": {},
   "outputs": [],
   "source": []
  },
  {
   "cell_type": "code",
   "execution_count": null,
   "metadata": {},
   "outputs": [],
   "source": []
  },
  {
   "cell_type": "code",
   "execution_count": null,
   "metadata": {},
   "outputs": [],
   "source": []
  },
  {
   "cell_type": "code",
   "execution_count": null,
   "metadata": {},
   "outputs": [],
   "source": []
  },
  {
   "cell_type": "code",
   "execution_count": null,
   "metadata": {},
   "outputs": [],
   "source": []
  },
  {
   "cell_type": "code",
   "execution_count": null,
   "metadata": {},
   "outputs": [],
   "source": []
  },
  {
   "cell_type": "code",
   "execution_count": null,
   "metadata": {},
   "outputs": [],
   "source": []
  },
  {
   "cell_type": "code",
   "execution_count": null,
   "metadata": {},
   "outputs": [],
   "source": []
  },
  {
   "cell_type": "code",
   "execution_count": null,
   "metadata": {},
   "outputs": [],
   "source": []
  },
  {
   "cell_type": "code",
   "execution_count": null,
   "metadata": {},
   "outputs": [],
   "source": []
  },
  {
   "cell_type": "code",
   "execution_count": null,
   "metadata": {},
   "outputs": [],
   "source": []
  },
  {
   "cell_type": "code",
   "execution_count": null,
   "metadata": {},
   "outputs": [],
   "source": []
  },
  {
   "cell_type": "code",
   "execution_count": null,
   "metadata": {},
   "outputs": [],
   "source": []
  },
  {
   "cell_type": "code",
   "execution_count": null,
   "metadata": {},
   "outputs": [],
   "source": []
  },
  {
   "cell_type": "code",
   "execution_count": null,
   "metadata": {},
   "outputs": [],
   "source": []
  },
  {
   "cell_type": "code",
   "execution_count": null,
   "metadata": {},
   "outputs": [],
   "source": []
  },
  {
   "cell_type": "code",
   "execution_count": null,
   "metadata": {},
   "outputs": [],
   "source": []
  },
  {
   "cell_type": "code",
   "execution_count": null,
   "metadata": {},
   "outputs": [],
   "source": []
  },
  {
   "cell_type": "code",
   "execution_count": null,
   "metadata": {},
   "outputs": [],
   "source": []
  },
  {
   "cell_type": "code",
   "execution_count": null,
   "metadata": {},
   "outputs": [],
   "source": []
  },
  {
   "cell_type": "code",
   "execution_count": null,
   "metadata": {},
   "outputs": [],
   "source": []
  },
  {
   "cell_type": "code",
   "execution_count": null,
   "metadata": {},
   "outputs": [],
   "source": []
  },
  {
   "cell_type": "code",
   "execution_count": null,
   "metadata": {},
   "outputs": [],
   "source": []
  }
 ],
 "metadata": {
  "kernelspec": {
   "display_name": "Python 3 (ipykernel)",
   "language": "python",
   "name": "python3"
  },
  "language_info": {
   "codemirror_mode": {
    "name": "ipython",
    "version": 3
   },
   "file_extension": ".py",
   "mimetype": "text/x-python",
   "name": "python",
   "nbconvert_exporter": "python",
   "pygments_lexer": "ipython3",
   "version": "3.11.4"
  }
 },
 "nbformat": 4,
 "nbformat_minor": 2
}
