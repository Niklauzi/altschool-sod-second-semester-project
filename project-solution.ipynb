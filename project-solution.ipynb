{
 "cells": [
  {
   "cell_type": "markdown",
   "metadata": {},
   "source": [
    "https://docs.google.com/document/d/1dQBTcFjiuRYw9HikHv1OIaTYk-MAMScFtoto9U8B1Gc/edit\n",
    "\n",
    "Second Semester Project (30 marks)\n",
    "ShopSmart Inc. is an e-commerce platform that sells a variety of products online. The company aims to optimize its website and enhance customer satisfaction by understanding customer behavior and preferences. To achieve this goal, ShopSmart Inc. plans to analyze the data collected from its website to gain insights into customer interactions, purchasing patterns, and product preferences.\n",
    "Project Objective: The objective of this project is to utilize data from ShopSmart Inc.'s website to understand customer behavior and preferences. By analyzing the data, the company aims to:\n",
    "1.     Segment customers based on their preferences, geographic location, and purchasing behavior.\n",
    "2.     Enhance website usability and user experience based on insights gained from customer interactions.\n",
    "3.     Optimize product offerings and marketing strategies to improve customer satisfaction and retention.\n",
    "Data Sources:\n",
    "The data for this project will be sourced from ShopSmart Inc.'s website and will include various attributes such as customer IDs, device IDs, transaction details, product information, and timestamps of customer interactions.\n",
    " \n",
    "Methodology:\n",
    "The project will involve data wrangling to preprocess the dataset, followed by exploratory data analysis (EDA) to uncover patterns and trends in customer behavior. Visualization techniques will be used to present the findings effectively.\n",
    "Expected Outcome:\n",
    "By understanding customer behavior and preferences, ShopSmart Inc. aims to optimize its website, product offerings, and marketing strategies to increase customer satisfaction, retention, and ultimately, revenue.\n",
    " \n",
    "You are provided with 5 datasets from different tables, your first task is to merge the datasets, clean and wrangle the dataset, engineer new features from event data. Then identify the following:\n",
    "\n",
    "a.     Visit Frequency:\n",
    "How often does this customer visit the website, based on the provided data?\n",
    "Can you identify any patterns or trends in the customer's visit frequency?\n",
    "\n",
    "b. \tLocation Analysis:\n",
    "What is the customer's location based on the provided data?\n",
    "How might the customer's location influence their purchasing behavior?\n",
    "\n",
    "c.  \tOverall Purchase Behavior:\n",
    "Based on the data provided, what insights can you draw about this customer's overall behavior on the website?\n",
    "How might these insights inform marketing strategies or personalized recommendations for this customer?\n",
    "\n"
   ]
  },
  {
   "cell_type": "code",
   "execution_count": 1,
   "metadata": {},
   "outputs": [],
   "source": [
    "#Importing neccessary packages\n",
    "import pandas as pd\n",
    "import matplotlib.pyplot as plt\n",
    "import seaborn as sns"
   ]
  },
  {
   "cell_type": "code",
   "execution_count": 2,
   "metadata": {},
   "outputs": [],
   "source": [
    "# Accessing and saving the datasets as variables \n",
    "customers_df = pd.read_csv(r'C:\\Users\\KLAUS\\Desktop\\JUPYTER\\altschool-sod-second-semester-project\\datasets\\customers.csv')\n",
    "events_df = pd.read_csv(r'C:\\Users\\KLAUS\\Desktop\\JUPYTER\\altschool-sod-second-semester-project\\datasets\\events.csv')\n",
    "orders_df = pd.read_csv(r'C:\\Users\\KLAUS\\Desktop\\JUPYTER\\altschool-sod-second-semester-project\\datasets\\orders.csv')\n",
    "line_items_df = pd.read_csv(r'C:\\Users\\KLAUS\\Desktop\\JUPYTER\\altschool-sod-second-semester-project\\datasets\\line_items.csv')\n",
    "products_df = pd.read_csv(r'C:\\Users\\KLAUS\\Desktop\\JUPYTER\\altschool-sod-second-semester-project\\datasets\\products.csv')"
   ]
  },
  {
   "cell_type": "code",
   "execution_count": 3,
   "metadata": {},
   "outputs": [
    {
     "name": "stdout",
     "output_type": "stream",
     "text": [
      "Columns in customers_df: Index(['customer_id', 'device_id', 'location', 'currency'], dtype='object')\n",
      "Columns in events_df: Index(['event_id', 'customer_id', 'event_data', 'event_timestamp'], dtype='object')\n",
      "Columns in orders_df: Index(['order_id', 'customer_id', 'status', 'checked_out_at'], dtype='object')\n",
      "Columns in line_items_df: Index(['line_item_id', 'order_id', 'item_id', 'quantity'], dtype='object')\n",
      "Columns in products_df: Index(['id', 'name', 'price'], dtype='object')\n"
     ]
    }
   ],
   "source": [
    "# Printing out the columns to access\n",
    "print(\"Columns in customers_df:\", customers_df.columns)\n",
    "print(\"Columns in events_df:\", events_df.columns)\n",
    "print(\"Columns in orders_df:\", orders_df.columns)\n",
    "print(\"Columns in line_items_df:\", line_items_df.columns)\n",
    "print(\"Columns in products_df:\", products_df.columns)"
   ]
  },
  {
   "cell_type": "code",
   "execution_count": 4,
   "metadata": {},
   "outputs": [
    {
     "data": {
      "text/html": [
       "<div>\n",
       "<style scoped>\n",
       "    .dataframe tbody tr th:only-of-type {\n",
       "        vertical-align: middle;\n",
       "    }\n",
       "\n",
       "    .dataframe tbody tr th {\n",
       "        vertical-align: top;\n",
       "    }\n",
       "\n",
       "    .dataframe thead th {\n",
       "        text-align: right;\n",
       "    }\n",
       "</style>\n",
       "<table border=\"1\" class=\"dataframe\">\n",
       "  <thead>\n",
       "    <tr style=\"text-align: right;\">\n",
       "      <th></th>\n",
       "      <th>line_item_id</th>\n",
       "      <th>order_id</th>\n",
       "      <th>item_id</th>\n",
       "      <th>quantity</th>\n",
       "    </tr>\n",
       "  </thead>\n",
       "  <tbody>\n",
       "    <tr>\n",
       "      <th>0</th>\n",
       "      <td>3201</td>\n",
       "      <td>9e950ce3-2e12-479c-a051-493c1a497d49</td>\n",
       "      <td>4</td>\n",
       "      <td>2</td>\n",
       "    </tr>\n",
       "    <tr>\n",
       "      <th>1</th>\n",
       "      <td>3202</td>\n",
       "      <td>9e950ce3-2e12-479c-a051-493c1a497d49</td>\n",
       "      <td>5</td>\n",
       "      <td>4</td>\n",
       "    </tr>\n",
       "    <tr>\n",
       "      <th>2</th>\n",
       "      <td>3203</td>\n",
       "      <td>9e950ce3-2e12-479c-a051-493c1a497d49</td>\n",
       "      <td>9</td>\n",
       "      <td>5</td>\n",
       "    </tr>\n",
       "    <tr>\n",
       "      <th>3</th>\n",
       "      <td>3204</td>\n",
       "      <td>9e950ce3-2e12-479c-a051-493c1a497d49</td>\n",
       "      <td>12</td>\n",
       "      <td>1</td>\n",
       "    </tr>\n",
       "    <tr>\n",
       "      <th>4</th>\n",
       "      <td>3205</td>\n",
       "      <td>9e950ce3-2e12-479c-a051-493c1a497d49</td>\n",
       "      <td>6</td>\n",
       "      <td>2</td>\n",
       "    </tr>\n",
       "  </tbody>\n",
       "</table>\n",
       "</div>"
      ],
      "text/plain": [
       "   line_item_id                              order_id  item_id  quantity\n",
       "0          3201  9e950ce3-2e12-479c-a051-493c1a497d49        4         2\n",
       "1          3202  9e950ce3-2e12-479c-a051-493c1a497d49        5         4\n",
       "2          3203  9e950ce3-2e12-479c-a051-493c1a497d49        9         5\n",
       "3          3204  9e950ce3-2e12-479c-a051-493c1a497d49       12         1\n",
       "4          3205  9e950ce3-2e12-479c-a051-493c1a497d49        6         2"
      ]
     },
     "execution_count": 4,
     "metadata": {},
     "output_type": "execute_result"
    }
   ],
   "source": [
    "line_items_df.head()"
   ]
  },
  {
   "cell_type": "code",
   "execution_count": 5,
   "metadata": {},
   "outputs": [
    {
     "data": {
      "text/html": [
       "<div>\n",
       "<style scoped>\n",
       "    .dataframe tbody tr th:only-of-type {\n",
       "        vertical-align: middle;\n",
       "    }\n",
       "\n",
       "    .dataframe tbody tr th {\n",
       "        vertical-align: top;\n",
       "    }\n",
       "\n",
       "    .dataframe thead th {\n",
       "        text-align: right;\n",
       "    }\n",
       "</style>\n",
       "<table border=\"1\" class=\"dataframe\">\n",
       "  <thead>\n",
       "    <tr style=\"text-align: right;\">\n",
       "      <th></th>\n",
       "      <th>id</th>\n",
       "      <th>name</th>\n",
       "      <th>price</th>\n",
       "    </tr>\n",
       "  </thead>\n",
       "  <tbody>\n",
       "    <tr>\n",
       "      <th>0</th>\n",
       "      <td>1</td>\n",
       "      <td>iPhone 13</td>\n",
       "      <td>1099.99</td>\n",
       "    </tr>\n",
       "    <tr>\n",
       "      <th>1</th>\n",
       "      <td>2</td>\n",
       "      <td>Samsung Galaxy S21</td>\n",
       "      <td>899.99</td>\n",
       "    </tr>\n",
       "    <tr>\n",
       "      <th>2</th>\n",
       "      <td>3</td>\n",
       "      <td>Sony PlayStation 5</td>\n",
       "      <td>499.99</td>\n",
       "    </tr>\n",
       "    <tr>\n",
       "      <th>3</th>\n",
       "      <td>4</td>\n",
       "      <td>Microsoft Xbox Series X</td>\n",
       "      <td>499.99</td>\n",
       "    </tr>\n",
       "    <tr>\n",
       "      <th>4</th>\n",
       "      <td>5</td>\n",
       "      <td>Nike Air Max 270</td>\n",
       "      <td>129.99</td>\n",
       "    </tr>\n",
       "  </tbody>\n",
       "</table>\n",
       "</div>"
      ],
      "text/plain": [
       "   id                     name    price\n",
       "0   1                iPhone 13  1099.99\n",
       "1   2       Samsung Galaxy S21   899.99\n",
       "2   3       Sony PlayStation 5   499.99\n",
       "3   4  Microsoft Xbox Series X   499.99\n",
       "4   5         Nike Air Max 270   129.99"
      ]
     },
     "execution_count": 5,
     "metadata": {},
     "output_type": "execute_result"
    }
   ],
   "source": [
    "products_df.head()"
   ]
  },
  {
   "cell_type": "code",
   "execution_count": 6,
   "metadata": {},
   "outputs": [],
   "source": [
    "products_df.rename(columns={'id': 'item_id'}, inplace=True)"
   ]
  },
  {
   "cell_type": "code",
   "execution_count": 7,
   "metadata": {},
   "outputs": [
    {
     "data": {
      "text/html": [
       "<div>\n",
       "<style scoped>\n",
       "    .dataframe tbody tr th:only-of-type {\n",
       "        vertical-align: middle;\n",
       "    }\n",
       "\n",
       "    .dataframe tbody tr th {\n",
       "        vertical-align: top;\n",
       "    }\n",
       "\n",
       "    .dataframe thead th {\n",
       "        text-align: right;\n",
       "    }\n",
       "</style>\n",
       "<table border=\"1\" class=\"dataframe\">\n",
       "  <thead>\n",
       "    <tr style=\"text-align: right;\">\n",
       "      <th></th>\n",
       "      <th>item_id</th>\n",
       "      <th>name</th>\n",
       "      <th>price</th>\n",
       "    </tr>\n",
       "  </thead>\n",
       "  <tbody>\n",
       "    <tr>\n",
       "      <th>0</th>\n",
       "      <td>1</td>\n",
       "      <td>iPhone 13</td>\n",
       "      <td>1099.99</td>\n",
       "    </tr>\n",
       "    <tr>\n",
       "      <th>1</th>\n",
       "      <td>2</td>\n",
       "      <td>Samsung Galaxy S21</td>\n",
       "      <td>899.99</td>\n",
       "    </tr>\n",
       "    <tr>\n",
       "      <th>2</th>\n",
       "      <td>3</td>\n",
       "      <td>Sony PlayStation 5</td>\n",
       "      <td>499.99</td>\n",
       "    </tr>\n",
       "    <tr>\n",
       "      <th>3</th>\n",
       "      <td>4</td>\n",
       "      <td>Microsoft Xbox Series X</td>\n",
       "      <td>499.99</td>\n",
       "    </tr>\n",
       "    <tr>\n",
       "      <th>4</th>\n",
       "      <td>5</td>\n",
       "      <td>Nike Air Max 270</td>\n",
       "      <td>129.99</td>\n",
       "    </tr>\n",
       "  </tbody>\n",
       "</table>\n",
       "</div>"
      ],
      "text/plain": [
       "   item_id                     name    price\n",
       "0        1                iPhone 13  1099.99\n",
       "1        2       Samsung Galaxy S21   899.99\n",
       "2        3       Sony PlayStation 5   499.99\n",
       "3        4  Microsoft Xbox Series X   499.99\n",
       "4        5         Nike Air Max 270   129.99"
      ]
     },
     "execution_count": 7,
     "metadata": {},
     "output_type": "execute_result"
    }
   ],
   "source": [
    "products_df.head()"
   ]
  },
  {
   "cell_type": "markdown",
   "metadata": {},
   "source": [
    "### MERGING THE DATASETS"
   ]
  },
  {
   "cell_type": "code",
   "execution_count": 8,
   "metadata": {},
   "outputs": [],
   "source": [
    "# Merge customer_df and events_df on 'customer_id'\n",
    "merged_data1 = pd.merge(customers_df, events_df, on='customer_id', how='inner')\n",
    "\n",
    "# Merge merged_data1 and orders_df on 'customer_id'\n",
    "merged_data2 = pd.merge(merged_data1, orders_df, on='customer_id', how='inner')\n",
    "\n",
    "# Merge merged_data2 and line_items_df on 'order_id'\n",
    "merged_data3 = pd.merge(merged_data2, line_items_df, on='order_id', how='inner')\n",
    "\n",
    "# Merge merged_data3 and products_df on 'item_id'\n",
    "merged_data4 = pd.merge(merged_data3, products_df, on='item_id', how='inner')\n"
   ]
  },
  {
   "cell_type": "markdown",
   "metadata": {},
   "source": [
    "### The inner merge was used\n",
    "\n",
    "\n",
    "#### Inner merge combines the rows from two datasets based on a common key and includes only the rows that have matching values in both datasets. meaning, for each pair of rows (one from each dataset) with the same key value, the resulting merged dataset will contain a single row combining the columns from both datasets.\n",
    "The rows from either dataset that do not have a corresponding match in the other dataset are excluded from the merged result.\n",
    "The resulting dataset will contain only rows where the key value exists in both datasets being merged.\n",
    "\n",
    "This will evidently eliminate any missing value is sign when when isna().sum() function is ran.\n",
    "\n",
    "Also it would also reduce the total rows of the combined datasets because it doesn't fill with NaN.\n",
    "\n",
    "\n",
    "\n",
    "#### Outer merge, combines the rows from two datasets using a common key and includes all rows from both datasets, even if there are no matching values in the other dataset.\n",
    "\n",
    "### The Inner merge is more straight forward and quicker to clean, wranggle and analyze, though a minute amount of negligible data is ignored\n"
   ]
  },
  {
   "cell_type": "code",
   "execution_count": 9,
   "metadata": {},
   "outputs": [
    {
     "data": {
      "text/plain": [
       "(578320, 15)"
      ]
     },
     "execution_count": 9,
     "metadata": {},
     "output_type": "execute_result"
    }
   ],
   "source": [
    "merged_data4.shape"
   ]
  },
  {
   "cell_type": "code",
   "execution_count": 10,
   "metadata": {},
   "outputs": [
    {
     "data": {
      "text/html": [
       "<div>\n",
       "<style scoped>\n",
       "    .dataframe tbody tr th:only-of-type {\n",
       "        vertical-align: middle;\n",
       "    }\n",
       "\n",
       "    .dataframe tbody tr th {\n",
       "        vertical-align: top;\n",
       "    }\n",
       "\n",
       "    .dataframe thead th {\n",
       "        text-align: right;\n",
       "    }\n",
       "</style>\n",
       "<table border=\"1\" class=\"dataframe\">\n",
       "  <thead>\n",
       "    <tr style=\"text-align: right;\">\n",
       "      <th></th>\n",
       "      <th>customer_id</th>\n",
       "      <th>device_id</th>\n",
       "      <th>location</th>\n",
       "      <th>currency</th>\n",
       "      <th>event_id</th>\n",
       "      <th>event_data</th>\n",
       "      <th>event_timestamp</th>\n",
       "      <th>order_id</th>\n",
       "      <th>status</th>\n",
       "      <th>checked_out_at</th>\n",
       "      <th>line_item_id</th>\n",
       "      <th>item_id</th>\n",
       "      <th>quantity</th>\n",
       "      <th>name</th>\n",
       "      <th>price</th>\n",
       "    </tr>\n",
       "  </thead>\n",
       "  <tbody>\n",
       "    <tr>\n",
       "      <th>0</th>\n",
       "      <td>cda7bec0-7cbf-4145-baf9-e049bab94504</td>\n",
       "      <td>33b485de-7338-4997-b1d0-b988ba17b245</td>\n",
       "      <td>Saint Helena</td>\n",
       "      <td>NGN</td>\n",
       "      <td>14786</td>\n",
       "      <td>{\"timestamp\": \"2024-03-26T22:05:58.863661\", \"e...</td>\n",
       "      <td>2024-03-26 22:05:58.863661</td>\n",
       "      <td>9e950ce3-2e12-479c-a051-493c1a497d49</td>\n",
       "      <td>success</td>\n",
       "      <td>2024-03-30 04:19:10.406794</td>\n",
       "      <td>3201</td>\n",
       "      <td>4</td>\n",
       "      <td>2</td>\n",
       "      <td>Microsoft Xbox Series X</td>\n",
       "      <td>499.99</td>\n",
       "    </tr>\n",
       "    <tr>\n",
       "      <th>1</th>\n",
       "      <td>cda7bec0-7cbf-4145-baf9-e049bab94504</td>\n",
       "      <td>33b485de-7338-4997-b1d0-b988ba17b245</td>\n",
       "      <td>Saint Helena</td>\n",
       "      <td>NGN</td>\n",
       "      <td>14787</td>\n",
       "      <td>{\"timestamp\": \"2024-03-27T07:14:33.987347\", \"e...</td>\n",
       "      <td>2024-03-27 07:14:33.987347</td>\n",
       "      <td>9e950ce3-2e12-479c-a051-493c1a497d49</td>\n",
       "      <td>success</td>\n",
       "      <td>2024-03-30 04:19:10.406794</td>\n",
       "      <td>3201</td>\n",
       "      <td>4</td>\n",
       "      <td>2</td>\n",
       "      <td>Microsoft Xbox Series X</td>\n",
       "      <td>499.99</td>\n",
       "    </tr>\n",
       "    <tr>\n",
       "      <th>2</th>\n",
       "      <td>cda7bec0-7cbf-4145-baf9-e049bab94504</td>\n",
       "      <td>33b485de-7338-4997-b1d0-b988ba17b245</td>\n",
       "      <td>Saint Helena</td>\n",
       "      <td>NGN</td>\n",
       "      <td>14788</td>\n",
       "      <td>{\"timestamp\": \"2024-03-30T04:03:10.406559\", \"e...</td>\n",
       "      <td>2024-03-30 04:03:10.406559</td>\n",
       "      <td>9e950ce3-2e12-479c-a051-493c1a497d49</td>\n",
       "      <td>success</td>\n",
       "      <td>2024-03-30 04:19:10.406794</td>\n",
       "      <td>3201</td>\n",
       "      <td>4</td>\n",
       "      <td>2</td>\n",
       "      <td>Microsoft Xbox Series X</td>\n",
       "      <td>499.99</td>\n",
       "    </tr>\n",
       "    <tr>\n",
       "      <th>3</th>\n",
       "      <td>cda7bec0-7cbf-4145-baf9-e049bab94504</td>\n",
       "      <td>33b485de-7338-4997-b1d0-b988ba17b245</td>\n",
       "      <td>Saint Helena</td>\n",
       "      <td>NGN</td>\n",
       "      <td>14789</td>\n",
       "      <td>{\"timestamp\": \"2024-03-30T04:03:10.406561\", \"e...</td>\n",
       "      <td>2024-03-30 04:03:10.406561</td>\n",
       "      <td>9e950ce3-2e12-479c-a051-493c1a497d49</td>\n",
       "      <td>success</td>\n",
       "      <td>2024-03-30 04:19:10.406794</td>\n",
       "      <td>3201</td>\n",
       "      <td>4</td>\n",
       "      <td>2</td>\n",
       "      <td>Microsoft Xbox Series X</td>\n",
       "      <td>499.99</td>\n",
       "    </tr>\n",
       "    <tr>\n",
       "      <th>4</th>\n",
       "      <td>cda7bec0-7cbf-4145-baf9-e049bab94504</td>\n",
       "      <td>33b485de-7338-4997-b1d0-b988ba17b245</td>\n",
       "      <td>Saint Helena</td>\n",
       "      <td>NGN</td>\n",
       "      <td>14790</td>\n",
       "      <td>{\"item_id\": 4, \"quantity\": 2, \"timestamp\": \"20...</td>\n",
       "      <td>2024-03-30 04:03:10.406769</td>\n",
       "      <td>9e950ce3-2e12-479c-a051-493c1a497d49</td>\n",
       "      <td>success</td>\n",
       "      <td>2024-03-30 04:19:10.406794</td>\n",
       "      <td>3201</td>\n",
       "      <td>4</td>\n",
       "      <td>2</td>\n",
       "      <td>Microsoft Xbox Series X</td>\n",
       "      <td>499.99</td>\n",
       "    </tr>\n",
       "  </tbody>\n",
       "</table>\n",
       "</div>"
      ],
      "text/plain": [
       "                            customer_id                             device_id  \\\n",
       "0  cda7bec0-7cbf-4145-baf9-e049bab94504  33b485de-7338-4997-b1d0-b988ba17b245   \n",
       "1  cda7bec0-7cbf-4145-baf9-e049bab94504  33b485de-7338-4997-b1d0-b988ba17b245   \n",
       "2  cda7bec0-7cbf-4145-baf9-e049bab94504  33b485de-7338-4997-b1d0-b988ba17b245   \n",
       "3  cda7bec0-7cbf-4145-baf9-e049bab94504  33b485de-7338-4997-b1d0-b988ba17b245   \n",
       "4  cda7bec0-7cbf-4145-baf9-e049bab94504  33b485de-7338-4997-b1d0-b988ba17b245   \n",
       "\n",
       "       location currency  event_id  \\\n",
       "0  Saint Helena      NGN     14786   \n",
       "1  Saint Helena      NGN     14787   \n",
       "2  Saint Helena      NGN     14788   \n",
       "3  Saint Helena      NGN     14789   \n",
       "4  Saint Helena      NGN     14790   \n",
       "\n",
       "                                          event_data  \\\n",
       "0  {\"timestamp\": \"2024-03-26T22:05:58.863661\", \"e...   \n",
       "1  {\"timestamp\": \"2024-03-27T07:14:33.987347\", \"e...   \n",
       "2  {\"timestamp\": \"2024-03-30T04:03:10.406559\", \"e...   \n",
       "3  {\"timestamp\": \"2024-03-30T04:03:10.406561\", \"e...   \n",
       "4  {\"item_id\": 4, \"quantity\": 2, \"timestamp\": \"20...   \n",
       "\n",
       "              event_timestamp                              order_id   status  \\\n",
       "0  2024-03-26 22:05:58.863661  9e950ce3-2e12-479c-a051-493c1a497d49  success   \n",
       "1  2024-03-27 07:14:33.987347  9e950ce3-2e12-479c-a051-493c1a497d49  success   \n",
       "2  2024-03-30 04:03:10.406559  9e950ce3-2e12-479c-a051-493c1a497d49  success   \n",
       "3  2024-03-30 04:03:10.406561  9e950ce3-2e12-479c-a051-493c1a497d49  success   \n",
       "4  2024-03-30 04:03:10.406769  9e950ce3-2e12-479c-a051-493c1a497d49  success   \n",
       "\n",
       "               checked_out_at  line_item_id  item_id  quantity  \\\n",
       "0  2024-03-30 04:19:10.406794          3201        4         2   \n",
       "1  2024-03-30 04:19:10.406794          3201        4         2   \n",
       "2  2024-03-30 04:19:10.406794          3201        4         2   \n",
       "3  2024-03-30 04:19:10.406794          3201        4         2   \n",
       "4  2024-03-30 04:19:10.406794          3201        4         2   \n",
       "\n",
       "                      name   price  \n",
       "0  Microsoft Xbox Series X  499.99  \n",
       "1  Microsoft Xbox Series X  499.99  \n",
       "2  Microsoft Xbox Series X  499.99  \n",
       "3  Microsoft Xbox Series X  499.99  \n",
       "4  Microsoft Xbox Series X  499.99  "
      ]
     },
     "execution_count": 10,
     "metadata": {},
     "output_type": "execute_result"
    }
   ],
   "source": [
    "merged_data4.head()"
   ]
  },
  {
   "cell_type": "code",
   "execution_count": 11,
   "metadata": {},
   "outputs": [
    {
     "name": "stdout",
     "output_type": "stream",
     "text": [
      "<class 'pandas.core.frame.DataFrame'>\n",
      "Int64Index: 578320 entries, 0 to 578319\n",
      "Data columns (total 15 columns):\n",
      " #   Column           Non-Null Count   Dtype  \n",
      "---  ------           --------------   -----  \n",
      " 0   customer_id      578320 non-null  object \n",
      " 1   device_id        578320 non-null  object \n",
      " 2   location         578320 non-null  object \n",
      " 3   currency         578320 non-null  object \n",
      " 4   event_id         578320 non-null  int64  \n",
      " 5   event_data       578320 non-null  object \n",
      " 6   event_timestamp  578320 non-null  object \n",
      " 7   order_id         578320 non-null  object \n",
      " 8   status           578320 non-null  object \n",
      " 9   checked_out_at   578320 non-null  object \n",
      " 10  line_item_id     578320 non-null  int64  \n",
      " 11  item_id          578320 non-null  int64  \n",
      " 12  quantity         578320 non-null  int64  \n",
      " 13  name             578320 non-null  object \n",
      " 14  price            578320 non-null  float64\n",
      "dtypes: float64(1), int64(4), object(10)\n",
      "memory usage: 70.6+ MB\n"
     ]
    }
   ],
   "source": [
    "merged_data4.info()"
   ]
  },
  {
   "cell_type": "code",
   "execution_count": 12,
   "metadata": {},
   "outputs": [
    {
     "data": {
      "text/plain": [
       "customer_id        0\n",
       "device_id          0\n",
       "location           0\n",
       "currency           0\n",
       "event_id           0\n",
       "event_data         0\n",
       "event_timestamp    0\n",
       "order_id           0\n",
       "status             0\n",
       "checked_out_at     0\n",
       "line_item_id       0\n",
       "item_id            0\n",
       "quantity           0\n",
       "name               0\n",
       "price              0\n",
       "dtype: int64"
      ]
     },
     "execution_count": 12,
     "metadata": {},
     "output_type": "execute_result"
    }
   ],
   "source": [
    "merged_data4.isna().sum()"
   ]
  },
  {
   "cell_type": "code",
   "execution_count": 42,
   "metadata": {},
   "outputs": [],
   "source": [
    "# Choosing path to save the dataset to\n",
    "file_path = r'C:\\Users\\KLAUS\\Desktop\\JUPYTER\\altschool-sod-second-semester-project\\datasets\\shopsmart_df.csv'"
   ]
  },
  {
   "cell_type": "code",
   "execution_count": 43,
   "metadata": {},
   "outputs": [],
   "source": [
    "#Saving the dataset\n",
    "# merged_data4.to_csv(file_path, index=False)"
   ]
  },
  {
   "cell_type": "code",
   "execution_count": 1,
   "metadata": {},
   "outputs": [],
   "source": [
    "#Importing neccessary packages\n",
    "import pandas as pd\n",
    "import matplotlib.pyplot as plt\n",
    "import seaborn as sns"
   ]
  },
  {
   "cell_type": "code",
   "execution_count": 2,
   "metadata": {},
   "outputs": [],
   "source": [
    "# Loading the the datasets using pandas\n",
    "shopsmart_df = pd.read_csv(r'C:\\Users\\KLAUS\\Desktop\\JUPYTER\\altschool-sod-second-semester-project\\datasets\\shopsmart_df.csv')"
   ]
  },
  {
   "cell_type": "code",
   "execution_count": 3,
   "metadata": {},
   "outputs": [
    {
     "data": {
      "text/html": [
       "<div>\n",
       "<style scoped>\n",
       "    .dataframe tbody tr th:only-of-type {\n",
       "        vertical-align: middle;\n",
       "    }\n",
       "\n",
       "    .dataframe tbody tr th {\n",
       "        vertical-align: top;\n",
       "    }\n",
       "\n",
       "    .dataframe thead th {\n",
       "        text-align: right;\n",
       "    }\n",
       "</style>\n",
       "<table border=\"1\" class=\"dataframe\">\n",
       "  <thead>\n",
       "    <tr style=\"text-align: right;\">\n",
       "      <th></th>\n",
       "      <th>customer_id</th>\n",
       "      <th>device_id</th>\n",
       "      <th>location</th>\n",
       "      <th>currency</th>\n",
       "      <th>event_id</th>\n",
       "      <th>event_data</th>\n",
       "      <th>event_timestamp</th>\n",
       "      <th>order_id</th>\n",
       "      <th>status</th>\n",
       "      <th>checked_out_at</th>\n",
       "      <th>line_item_id</th>\n",
       "      <th>item_id</th>\n",
       "      <th>quantity</th>\n",
       "      <th>name</th>\n",
       "      <th>price</th>\n",
       "    </tr>\n",
       "  </thead>\n",
       "  <tbody>\n",
       "    <tr>\n",
       "      <th>0</th>\n",
       "      <td>cda7bec0-7cbf-4145-baf9-e049bab94504</td>\n",
       "      <td>33b485de-7338-4997-b1d0-b988ba17b245</td>\n",
       "      <td>Saint Helena</td>\n",
       "      <td>NGN</td>\n",
       "      <td>14786</td>\n",
       "      <td>{\"timestamp\": \"2024-03-26T22:05:58.863661\", \"e...</td>\n",
       "      <td>2024-03-26 22:05:58.863661</td>\n",
       "      <td>9e950ce3-2e12-479c-a051-493c1a497d49</td>\n",
       "      <td>success</td>\n",
       "      <td>2024-03-30 04:19:10.406794</td>\n",
       "      <td>3201</td>\n",
       "      <td>4</td>\n",
       "      <td>2</td>\n",
       "      <td>Microsoft Xbox Series X</td>\n",
       "      <td>499.99</td>\n",
       "    </tr>\n",
       "    <tr>\n",
       "      <th>1</th>\n",
       "      <td>cda7bec0-7cbf-4145-baf9-e049bab94504</td>\n",
       "      <td>33b485de-7338-4997-b1d0-b988ba17b245</td>\n",
       "      <td>Saint Helena</td>\n",
       "      <td>NGN</td>\n",
       "      <td>14787</td>\n",
       "      <td>{\"timestamp\": \"2024-03-27T07:14:33.987347\", \"e...</td>\n",
       "      <td>2024-03-27 07:14:33.987347</td>\n",
       "      <td>9e950ce3-2e12-479c-a051-493c1a497d49</td>\n",
       "      <td>success</td>\n",
       "      <td>2024-03-30 04:19:10.406794</td>\n",
       "      <td>3201</td>\n",
       "      <td>4</td>\n",
       "      <td>2</td>\n",
       "      <td>Microsoft Xbox Series X</td>\n",
       "      <td>499.99</td>\n",
       "    </tr>\n",
       "    <tr>\n",
       "      <th>2</th>\n",
       "      <td>cda7bec0-7cbf-4145-baf9-e049bab94504</td>\n",
       "      <td>33b485de-7338-4997-b1d0-b988ba17b245</td>\n",
       "      <td>Saint Helena</td>\n",
       "      <td>NGN</td>\n",
       "      <td>14788</td>\n",
       "      <td>{\"timestamp\": \"2024-03-30T04:03:10.406559\", \"e...</td>\n",
       "      <td>2024-03-30 04:03:10.406559</td>\n",
       "      <td>9e950ce3-2e12-479c-a051-493c1a497d49</td>\n",
       "      <td>success</td>\n",
       "      <td>2024-03-30 04:19:10.406794</td>\n",
       "      <td>3201</td>\n",
       "      <td>4</td>\n",
       "      <td>2</td>\n",
       "      <td>Microsoft Xbox Series X</td>\n",
       "      <td>499.99</td>\n",
       "    </tr>\n",
       "    <tr>\n",
       "      <th>3</th>\n",
       "      <td>cda7bec0-7cbf-4145-baf9-e049bab94504</td>\n",
       "      <td>33b485de-7338-4997-b1d0-b988ba17b245</td>\n",
       "      <td>Saint Helena</td>\n",
       "      <td>NGN</td>\n",
       "      <td>14789</td>\n",
       "      <td>{\"timestamp\": \"2024-03-30T04:03:10.406561\", \"e...</td>\n",
       "      <td>2024-03-30 04:03:10.406561</td>\n",
       "      <td>9e950ce3-2e12-479c-a051-493c1a497d49</td>\n",
       "      <td>success</td>\n",
       "      <td>2024-03-30 04:19:10.406794</td>\n",
       "      <td>3201</td>\n",
       "      <td>4</td>\n",
       "      <td>2</td>\n",
       "      <td>Microsoft Xbox Series X</td>\n",
       "      <td>499.99</td>\n",
       "    </tr>\n",
       "    <tr>\n",
       "      <th>4</th>\n",
       "      <td>cda7bec0-7cbf-4145-baf9-e049bab94504</td>\n",
       "      <td>33b485de-7338-4997-b1d0-b988ba17b245</td>\n",
       "      <td>Saint Helena</td>\n",
       "      <td>NGN</td>\n",
       "      <td>14790</td>\n",
       "      <td>{\"item_id\": 4, \"quantity\": 2, \"timestamp\": \"20...</td>\n",
       "      <td>2024-03-30 04:03:10.406769</td>\n",
       "      <td>9e950ce3-2e12-479c-a051-493c1a497d49</td>\n",
       "      <td>success</td>\n",
       "      <td>2024-03-30 04:19:10.406794</td>\n",
       "      <td>3201</td>\n",
       "      <td>4</td>\n",
       "      <td>2</td>\n",
       "      <td>Microsoft Xbox Series X</td>\n",
       "      <td>499.99</td>\n",
       "    </tr>\n",
       "  </tbody>\n",
       "</table>\n",
       "</div>"
      ],
      "text/plain": [
       "                            customer_id                             device_id  \\\n",
       "0  cda7bec0-7cbf-4145-baf9-e049bab94504  33b485de-7338-4997-b1d0-b988ba17b245   \n",
       "1  cda7bec0-7cbf-4145-baf9-e049bab94504  33b485de-7338-4997-b1d0-b988ba17b245   \n",
       "2  cda7bec0-7cbf-4145-baf9-e049bab94504  33b485de-7338-4997-b1d0-b988ba17b245   \n",
       "3  cda7bec0-7cbf-4145-baf9-e049bab94504  33b485de-7338-4997-b1d0-b988ba17b245   \n",
       "4  cda7bec0-7cbf-4145-baf9-e049bab94504  33b485de-7338-4997-b1d0-b988ba17b245   \n",
       "\n",
       "       location currency  event_id  \\\n",
       "0  Saint Helena      NGN     14786   \n",
       "1  Saint Helena      NGN     14787   \n",
       "2  Saint Helena      NGN     14788   \n",
       "3  Saint Helena      NGN     14789   \n",
       "4  Saint Helena      NGN     14790   \n",
       "\n",
       "                                          event_data  \\\n",
       "0  {\"timestamp\": \"2024-03-26T22:05:58.863661\", \"e...   \n",
       "1  {\"timestamp\": \"2024-03-27T07:14:33.987347\", \"e...   \n",
       "2  {\"timestamp\": \"2024-03-30T04:03:10.406559\", \"e...   \n",
       "3  {\"timestamp\": \"2024-03-30T04:03:10.406561\", \"e...   \n",
       "4  {\"item_id\": 4, \"quantity\": 2, \"timestamp\": \"20...   \n",
       "\n",
       "              event_timestamp                              order_id   status  \\\n",
       "0  2024-03-26 22:05:58.863661  9e950ce3-2e12-479c-a051-493c1a497d49  success   \n",
       "1  2024-03-27 07:14:33.987347  9e950ce3-2e12-479c-a051-493c1a497d49  success   \n",
       "2  2024-03-30 04:03:10.406559  9e950ce3-2e12-479c-a051-493c1a497d49  success   \n",
       "3  2024-03-30 04:03:10.406561  9e950ce3-2e12-479c-a051-493c1a497d49  success   \n",
       "4  2024-03-30 04:03:10.406769  9e950ce3-2e12-479c-a051-493c1a497d49  success   \n",
       "\n",
       "               checked_out_at  line_item_id  item_id  quantity  \\\n",
       "0  2024-03-30 04:19:10.406794          3201        4         2   \n",
       "1  2024-03-30 04:19:10.406794          3201        4         2   \n",
       "2  2024-03-30 04:19:10.406794          3201        4         2   \n",
       "3  2024-03-30 04:19:10.406794          3201        4         2   \n",
       "4  2024-03-30 04:19:10.406794          3201        4         2   \n",
       "\n",
       "                      name   price  \n",
       "0  Microsoft Xbox Series X  499.99  \n",
       "1  Microsoft Xbox Series X  499.99  \n",
       "2  Microsoft Xbox Series X  499.99  \n",
       "3  Microsoft Xbox Series X  499.99  \n",
       "4  Microsoft Xbox Series X  499.99  "
      ]
     },
     "execution_count": 3,
     "metadata": {},
     "output_type": "execute_result"
    }
   ],
   "source": [
    "shopsmart_df.head()"
   ]
  },
  {
   "cell_type": "code",
   "execution_count": 4,
   "metadata": {},
   "outputs": [
    {
     "data": {
      "text/plain": [
       "(578320, 15)"
      ]
     },
     "execution_count": 4,
     "metadata": {},
     "output_type": "execute_result"
    }
   ],
   "source": [
    "shopsmart_df.shape"
   ]
  },
  {
   "cell_type": "code",
   "execution_count": 5,
   "metadata": {},
   "outputs": [],
   "source": [
    "# Investigating for missing or NaN data"
   ]
  },
  {
   "cell_type": "code",
   "execution_count": 6,
   "metadata": {},
   "outputs": [
    {
     "name": "stdout",
     "output_type": "stream",
     "text": [
      "<class 'pandas.core.frame.DataFrame'>\n",
      "RangeIndex: 578320 entries, 0 to 578319\n",
      "Data columns (total 15 columns):\n",
      " #   Column           Non-Null Count   Dtype  \n",
      "---  ------           --------------   -----  \n",
      " 0   customer_id      578320 non-null  object \n",
      " 1   device_id        578320 non-null  object \n",
      " 2   location         578320 non-null  object \n",
      " 3   currency         578320 non-null  object \n",
      " 4   event_id         578320 non-null  int64  \n",
      " 5   event_data       578320 non-null  object \n",
      " 6   event_timestamp  578320 non-null  object \n",
      " 7   order_id         578320 non-null  object \n",
      " 8   status           578320 non-null  object \n",
      " 9   checked_out_at   578320 non-null  object \n",
      " 10  line_item_id     578320 non-null  int64  \n",
      " 11  item_id          578320 non-null  int64  \n",
      " 12  quantity         578320 non-null  int64  \n",
      " 13  name             578320 non-null  object \n",
      " 14  price            578320 non-null  float64\n",
      "dtypes: float64(1), int64(4), object(10)\n",
      "memory usage: 66.2+ MB\n"
     ]
    }
   ],
   "source": [
    "shopsmart_df.info()"
   ]
  },
  {
   "cell_type": "code",
   "execution_count": 7,
   "metadata": {},
   "outputs": [
    {
     "data": {
      "text/plain": [
       "customer_id        0\n",
       "device_id          0\n",
       "location           0\n",
       "currency           0\n",
       "event_id           0\n",
       "event_data         0\n",
       "event_timestamp    0\n",
       "order_id           0\n",
       "status             0\n",
       "checked_out_at     0\n",
       "line_item_id       0\n",
       "item_id            0\n",
       "quantity           0\n",
       "name               0\n",
       "price              0\n",
       "dtype: int64"
      ]
     },
     "execution_count": 7,
     "metadata": {},
     "output_type": "execute_result"
    }
   ],
   "source": [
    "shopsmart_df.isna().sum()"
   ]
  },
  {
   "cell_type": "code",
   "execution_count": 8,
   "metadata": {},
   "outputs": [
    {
     "data": {
      "text/plain": [
       "0"
      ]
     },
     "execution_count": 8,
     "metadata": {},
     "output_type": "execute_result"
    }
   ],
   "source": [
    "# Checking datasets for duplicates\n",
    "shopsmart_df.duplicated().sum()"
   ]
  },
  {
   "cell_type": "code",
   "execution_count": 9,
   "metadata": {},
   "outputs": [
    {
     "data": {
      "text/plain": [
       "array([False, False, False, False, False, False, False, False, False,\n",
       "       False, False, False, False, False, False])"
      ]
     },
     "execution_count": 9,
     "metadata": {},
     "output_type": "execute_result"
    }
   ],
   "source": [
    "# Checking datasets for duplicates\n",
    "shopsmart_df.columns.duplicated()"
   ]
  },
  {
   "cell_type": "code",
   "execution_count": 10,
   "metadata": {},
   "outputs": [],
   "source": [
    "# WIth no missing values,NaN or Duplicate value I can say the data is cleaned"
   ]
  },
  {
   "cell_type": "code",
   "execution_count": 11,
   "metadata": {},
   "outputs": [],
   "source": [
    "# DATA WRANGLING PROCESS"
   ]
  },
  {
   "cell_type": "code",
   "execution_count": 12,
   "metadata": {},
   "outputs": [
    {
     "data": {
      "text/plain": [
       "Index(['customer_id', 'device_id', 'location', 'currency', 'event_id',\n",
       "       'event_data', 'event_timestamp', 'order_id', 'status', 'checked_out_at',\n",
       "       'line_item_id', 'item_id', 'quantity', 'name', 'price'],\n",
       "      dtype='object')"
      ]
     },
     "execution_count": 12,
     "metadata": {},
     "output_type": "execute_result"
    }
   ],
   "source": [
    "shopsmart_df.columns"
   ]
  },
  {
   "cell_type": "code",
   "execution_count": 13,
   "metadata": {},
   "outputs": [],
   "source": [
    "# Dropping Unnecessary and Redundant columns\n",
    "redundant_columns = ['device_id', 'line_item_id', 'event_timestamp']\n",
    "\n",
    "# Drop irrelevant columns from the merged dataset\n",
    "shopsmart_clean = shopsmart_df.drop(columns=redundant_columns)"
   ]
  },
  {
   "cell_type": "code",
   "execution_count": 14,
   "metadata": {},
   "outputs": [],
   "source": [
    "shopsmart_clean.rename(columns={'name': 'product_name'}, inplace=True)"
   ]
  },
  {
   "cell_type": "code",
   "execution_count": 15,
   "metadata": {},
   "outputs": [
    {
     "data": {
      "text/html": [
       "<div>\n",
       "<style scoped>\n",
       "    .dataframe tbody tr th:only-of-type {\n",
       "        vertical-align: middle;\n",
       "    }\n",
       "\n",
       "    .dataframe tbody tr th {\n",
       "        vertical-align: top;\n",
       "    }\n",
       "\n",
       "    .dataframe thead th {\n",
       "        text-align: right;\n",
       "    }\n",
       "</style>\n",
       "<table border=\"1\" class=\"dataframe\">\n",
       "  <thead>\n",
       "    <tr style=\"text-align: right;\">\n",
       "      <th></th>\n",
       "      <th>customer_id</th>\n",
       "      <th>location</th>\n",
       "      <th>currency</th>\n",
       "      <th>event_id</th>\n",
       "      <th>event_data</th>\n",
       "      <th>order_id</th>\n",
       "      <th>status</th>\n",
       "      <th>checked_out_at</th>\n",
       "      <th>item_id</th>\n",
       "      <th>quantity</th>\n",
       "      <th>product_name</th>\n",
       "      <th>price</th>\n",
       "    </tr>\n",
       "  </thead>\n",
       "  <tbody>\n",
       "    <tr>\n",
       "      <th>0</th>\n",
       "      <td>cda7bec0-7cbf-4145-baf9-e049bab94504</td>\n",
       "      <td>Saint Helena</td>\n",
       "      <td>NGN</td>\n",
       "      <td>14786</td>\n",
       "      <td>{\"timestamp\": \"2024-03-26T22:05:58.863661\", \"e...</td>\n",
       "      <td>9e950ce3-2e12-479c-a051-493c1a497d49</td>\n",
       "      <td>success</td>\n",
       "      <td>2024-03-30 04:19:10.406794</td>\n",
       "      <td>4</td>\n",
       "      <td>2</td>\n",
       "      <td>Microsoft Xbox Series X</td>\n",
       "      <td>499.99</td>\n",
       "    </tr>\n",
       "    <tr>\n",
       "      <th>1</th>\n",
       "      <td>cda7bec0-7cbf-4145-baf9-e049bab94504</td>\n",
       "      <td>Saint Helena</td>\n",
       "      <td>NGN</td>\n",
       "      <td>14787</td>\n",
       "      <td>{\"timestamp\": \"2024-03-27T07:14:33.987347\", \"e...</td>\n",
       "      <td>9e950ce3-2e12-479c-a051-493c1a497d49</td>\n",
       "      <td>success</td>\n",
       "      <td>2024-03-30 04:19:10.406794</td>\n",
       "      <td>4</td>\n",
       "      <td>2</td>\n",
       "      <td>Microsoft Xbox Series X</td>\n",
       "      <td>499.99</td>\n",
       "    </tr>\n",
       "    <tr>\n",
       "      <th>2</th>\n",
       "      <td>cda7bec0-7cbf-4145-baf9-e049bab94504</td>\n",
       "      <td>Saint Helena</td>\n",
       "      <td>NGN</td>\n",
       "      <td>14788</td>\n",
       "      <td>{\"timestamp\": \"2024-03-30T04:03:10.406559\", \"e...</td>\n",
       "      <td>9e950ce3-2e12-479c-a051-493c1a497d49</td>\n",
       "      <td>success</td>\n",
       "      <td>2024-03-30 04:19:10.406794</td>\n",
       "      <td>4</td>\n",
       "      <td>2</td>\n",
       "      <td>Microsoft Xbox Series X</td>\n",
       "      <td>499.99</td>\n",
       "    </tr>\n",
       "  </tbody>\n",
       "</table>\n",
       "</div>"
      ],
      "text/plain": [
       "                            customer_id      location currency  event_id  \\\n",
       "0  cda7bec0-7cbf-4145-baf9-e049bab94504  Saint Helena      NGN     14786   \n",
       "1  cda7bec0-7cbf-4145-baf9-e049bab94504  Saint Helena      NGN     14787   \n",
       "2  cda7bec0-7cbf-4145-baf9-e049bab94504  Saint Helena      NGN     14788   \n",
       "\n",
       "                                          event_data  \\\n",
       "0  {\"timestamp\": \"2024-03-26T22:05:58.863661\", \"e...   \n",
       "1  {\"timestamp\": \"2024-03-27T07:14:33.987347\", \"e...   \n",
       "2  {\"timestamp\": \"2024-03-30T04:03:10.406559\", \"e...   \n",
       "\n",
       "                               order_id   status              checked_out_at  \\\n",
       "0  9e950ce3-2e12-479c-a051-493c1a497d49  success  2024-03-30 04:19:10.406794   \n",
       "1  9e950ce3-2e12-479c-a051-493c1a497d49  success  2024-03-30 04:19:10.406794   \n",
       "2  9e950ce3-2e12-479c-a051-493c1a497d49  success  2024-03-30 04:19:10.406794   \n",
       "\n",
       "   item_id  quantity             product_name   price  \n",
       "0        4         2  Microsoft Xbox Series X  499.99  \n",
       "1        4         2  Microsoft Xbox Series X  499.99  \n",
       "2        4         2  Microsoft Xbox Series X  499.99  "
      ]
     },
     "execution_count": 15,
     "metadata": {},
     "output_type": "execute_result"
    }
   ],
   "source": [
    "shopsmart_clean.head(3)"
   ]
  },
  {
   "cell_type": "code",
   "execution_count": 16,
   "metadata": {},
   "outputs": [
    {
     "data": {
      "text/html": [
       "<div>\n",
       "<style scoped>\n",
       "    .dataframe tbody tr th:only-of-type {\n",
       "        vertical-align: middle;\n",
       "    }\n",
       "\n",
       "    .dataframe tbody tr th {\n",
       "        vertical-align: top;\n",
       "    }\n",
       "\n",
       "    .dataframe thead th {\n",
       "        text-align: right;\n",
       "    }\n",
       "</style>\n",
       "<table border=\"1\" class=\"dataframe\">\n",
       "  <thead>\n",
       "    <tr style=\"text-align: right;\">\n",
       "      <th></th>\n",
       "      <th>customer_id</th>\n",
       "      <th>location</th>\n",
       "      <th>currency</th>\n",
       "      <th>event_id</th>\n",
       "      <th>event_data</th>\n",
       "      <th>order_id</th>\n",
       "      <th>status</th>\n",
       "      <th>checked_out_at</th>\n",
       "      <th>item_id</th>\n",
       "      <th>quantity</th>\n",
       "      <th>product_name</th>\n",
       "      <th>price</th>\n",
       "    </tr>\n",
       "  </thead>\n",
       "  <tbody>\n",
       "    <tr>\n",
       "      <th>0</th>\n",
       "      <td>cda7bec0</td>\n",
       "      <td>Saint Helena</td>\n",
       "      <td>NGN</td>\n",
       "      <td>14786</td>\n",
       "      <td>{\"timestamp\": \"2024-03-26T22:05:58.863661\", \"e...</td>\n",
       "      <td>9e950ce3</td>\n",
       "      <td>success</td>\n",
       "      <td>2024-03-30 04:19:10.406794</td>\n",
       "      <td>4</td>\n",
       "      <td>2</td>\n",
       "      <td>Microsoft Xbox Series X</td>\n",
       "      <td>499.99</td>\n",
       "    </tr>\n",
       "    <tr>\n",
       "      <th>1</th>\n",
       "      <td>cda7bec0</td>\n",
       "      <td>Saint Helena</td>\n",
       "      <td>NGN</td>\n",
       "      <td>14787</td>\n",
       "      <td>{\"timestamp\": \"2024-03-27T07:14:33.987347\", \"e...</td>\n",
       "      <td>9e950ce3</td>\n",
       "      <td>success</td>\n",
       "      <td>2024-03-30 04:19:10.406794</td>\n",
       "      <td>4</td>\n",
       "      <td>2</td>\n",
       "      <td>Microsoft Xbox Series X</td>\n",
       "      <td>499.99</td>\n",
       "    </tr>\n",
       "  </tbody>\n",
       "</table>\n",
       "</div>"
      ],
      "text/plain": [
       "  customer_id      location currency  event_id  \\\n",
       "0    cda7bec0  Saint Helena      NGN     14786   \n",
       "1    cda7bec0  Saint Helena      NGN     14787   \n",
       "\n",
       "                                          event_data  order_id   status  \\\n",
       "0  {\"timestamp\": \"2024-03-26T22:05:58.863661\", \"e...  9e950ce3  success   \n",
       "1  {\"timestamp\": \"2024-03-27T07:14:33.987347\", \"e...  9e950ce3  success   \n",
       "\n",
       "               checked_out_at  item_id  quantity             product_name  \\\n",
       "0  2024-03-30 04:19:10.406794        4         2  Microsoft Xbox Series X   \n",
       "1  2024-03-30 04:19:10.406794        4         2  Microsoft Xbox Series X   \n",
       "\n",
       "    price  \n",
       "0  499.99  \n",
       "1  499.99  "
      ]
     },
     "execution_count": 16,
     "metadata": {},
     "output_type": "execute_result"
    }
   ],
   "source": [
    "\n",
    "# Extracting first 8 characters of `customer_id` and `order_id` for easy readability\n",
    "shopsmart_clean['customer_id'] = shopsmart_clean['customer_id'].apply(lambda x: x[:8])\n",
    "shopsmart_clean['order_id'] = shopsmart_clean['order_id'].apply(lambda x: x[:8])\n",
    "\n",
    "# Display the updated DataFrame with truncated IDs\n",
    "shopsmart_clean.head(2)\n"
   ]
  },
  {
   "cell_type": "code",
   "execution_count": null,
   "metadata": {},
   "outputs": [],
   "source": []
  },
  {
   "cell_type": "markdown",
   "metadata": {},
   "source": [
    "### Feature Engineering for the event_data"
   ]
  },
  {
   "cell_type": "code",
   "execution_count": 19,
   "metadata": {},
   "outputs": [
    {
     "data": {
      "text/html": [
       "<div>\n",
       "<style scoped>\n",
       "    .dataframe tbody tr th:only-of-type {\n",
       "        vertical-align: middle;\n",
       "    }\n",
       "\n",
       "    .dataframe tbody tr th {\n",
       "        vertical-align: top;\n",
       "    }\n",
       "\n",
       "    .dataframe thead th {\n",
       "        text-align: right;\n",
       "    }\n",
       "</style>\n",
       "<table border=\"1\" class=\"dataframe\">\n",
       "  <thead>\n",
       "    <tr style=\"text-align: right;\">\n",
       "      <th></th>\n",
       "      <th>customer_id</th>\n",
       "      <th>location</th>\n",
       "      <th>currency</th>\n",
       "      <th>event_id</th>\n",
       "      <th>event_data</th>\n",
       "      <th>order_id</th>\n",
       "      <th>status</th>\n",
       "      <th>checked_out_at</th>\n",
       "      <th>item_id</th>\n",
       "      <th>quantity</th>\n",
       "      <th>product_name</th>\n",
       "      <th>price</th>\n",
       "      <th>timestamp</th>\n",
       "      <th>event_type</th>\n",
       "      <th>day</th>\n",
       "      <th>month</th>\n",
       "      <th>time_of_day</th>\n",
       "    </tr>\n",
       "  </thead>\n",
       "  <tbody>\n",
       "    <tr>\n",
       "      <th>0</th>\n",
       "      <td>cda7bec0</td>\n",
       "      <td>Saint Helena</td>\n",
       "      <td>NGN</td>\n",
       "      <td>14786</td>\n",
       "      <td>{\"timestamp\": \"2024-03-26T22:05:58.863661\", \"e...</td>\n",
       "      <td>9e950ce3</td>\n",
       "      <td>success</td>\n",
       "      <td>2024-03-30 04:19:10.406794</td>\n",
       "      <td>4</td>\n",
       "      <td>2</td>\n",
       "      <td>Microsoft Xbox Series X</td>\n",
       "      <td>499.99</td>\n",
       "      <td>2024-03-26 22:05:58.863661</td>\n",
       "      <td>visit</td>\n",
       "      <td>Tuesday</td>\n",
       "      <td>March</td>\n",
       "      <td>Evening</td>\n",
       "    </tr>\n",
       "    <tr>\n",
       "      <th>1</th>\n",
       "      <td>cda7bec0</td>\n",
       "      <td>Saint Helena</td>\n",
       "      <td>NGN</td>\n",
       "      <td>14787</td>\n",
       "      <td>{\"timestamp\": \"2024-03-27T07:14:33.987347\", \"e...</td>\n",
       "      <td>9e950ce3</td>\n",
       "      <td>success</td>\n",
       "      <td>2024-03-30 04:19:10.406794</td>\n",
       "      <td>4</td>\n",
       "      <td>2</td>\n",
       "      <td>Microsoft Xbox Series X</td>\n",
       "      <td>499.99</td>\n",
       "      <td>2024-03-27 07:14:33.987347</td>\n",
       "      <td>visit</td>\n",
       "      <td>Wednesday</td>\n",
       "      <td>March</td>\n",
       "      <td>Morning</td>\n",
       "    </tr>\n",
       "    <tr>\n",
       "      <th>2</th>\n",
       "      <td>cda7bec0</td>\n",
       "      <td>Saint Helena</td>\n",
       "      <td>NGN</td>\n",
       "      <td>14788</td>\n",
       "      <td>{\"timestamp\": \"2024-03-30T04:03:10.406559\", \"e...</td>\n",
       "      <td>9e950ce3</td>\n",
       "      <td>success</td>\n",
       "      <td>2024-03-30 04:19:10.406794</td>\n",
       "      <td>4</td>\n",
       "      <td>2</td>\n",
       "      <td>Microsoft Xbox Series X</td>\n",
       "      <td>499.99</td>\n",
       "      <td>2024-03-30 04:03:10.406559</td>\n",
       "      <td>visit</td>\n",
       "      <td>Saturday</td>\n",
       "      <td>March</td>\n",
       "      <td>Morning</td>\n",
       "    </tr>\n",
       "  </tbody>\n",
       "</table>\n",
       "</div>"
      ],
      "text/plain": [
       "  customer_id      location currency  event_id  \\\n",
       "0    cda7bec0  Saint Helena      NGN     14786   \n",
       "1    cda7bec0  Saint Helena      NGN     14787   \n",
       "2    cda7bec0  Saint Helena      NGN     14788   \n",
       "\n",
       "                                          event_data  order_id   status  \\\n",
       "0  {\"timestamp\": \"2024-03-26T22:05:58.863661\", \"e...  9e950ce3  success   \n",
       "1  {\"timestamp\": \"2024-03-27T07:14:33.987347\", \"e...  9e950ce3  success   \n",
       "2  {\"timestamp\": \"2024-03-30T04:03:10.406559\", \"e...  9e950ce3  success   \n",
       "\n",
       "               checked_out_at  item_id  quantity             product_name  \\\n",
       "0  2024-03-30 04:19:10.406794        4         2  Microsoft Xbox Series X   \n",
       "1  2024-03-30 04:19:10.406794        4         2  Microsoft Xbox Series X   \n",
       "2  2024-03-30 04:19:10.406794        4         2  Microsoft Xbox Series X   \n",
       "\n",
       "    price                  timestamp event_type        day  month time_of_day  \n",
       "0  499.99 2024-03-26 22:05:58.863661      visit    Tuesday  March     Evening  \n",
       "1  499.99 2024-03-27 07:14:33.987347      visit  Wednesday  March     Morning  \n",
       "2  499.99 2024-03-30 04:03:10.406559      visit   Saturday  March     Morning  "
      ]
     },
     "execution_count": 19,
     "metadata": {},
     "output_type": "execute_result"
    }
   ],
   "source": [
    "# Carrying out feature engineering for the event data.\n",
    "\n",
    "'''\n",
    "\n",
    "Since the event_data is in json format, \n",
    "we have Parse the event_data column in the shopsmart_clean DataFrame to \n",
    "extract timestamp and event_type into separate columns using pandas and the json library.\n",
    "\n",
    "'''\n",
    "\n",
    "import json\n",
    "\n",
    "\n",
    "# Parse `event_data` column to extract `timestamp` and `event_type`\n",
    "shopsmart_clean['timestamp'] = shopsmart_clean['event_data'].apply(lambda x: json.loads(x)['timestamp'])\n",
    "shopsmart_clean['event_type'] = shopsmart_clean['event_data'].apply(lambda x: json.loads(x)['event_type'])\n",
    "\n",
    "# Convert `timestamp` to datetime format\n",
    "shopsmart_clean['timestamp'] = pd.to_datetime(shopsmart_clean['timestamp'])\n",
    "\n",
    "# Extract date features\n",
    "shopsmart_clean['day'] = shopsmart_clean['timestamp'].dt.strftime('%A')\n",
    "shopsmart_clean['month'] = shopsmart_clean['timestamp'].dt.strftime('%B')\n",
    "\n",
    "\n",
    "# Map timestamp to time of day categories\n",
    "def get_time_of_day(hour):\n",
    "    if 0 <= hour < 12:\n",
    "        return 'Morning'\n",
    "    elif 12 <= hour < 18:\n",
    "        return 'Afternoon'\n",
    "    else:\n",
    "        return 'Evening'\n",
    "\n",
    "# Apply time of day mapping to `timestamp` and create new column `time_of_day`\n",
    "shopsmart_clean['time_of_day'] = shopsmart_clean['timestamp'].dt.hour.apply(get_time_of_day)\n",
    "\n",
    "\n",
    "# Displaying the updated DataFrame with new features\n",
    "shopsmart_clean.head(3)"
   ]
  },
  {
   "cell_type": "code",
   "execution_count": null,
   "metadata": {},
   "outputs": [],
   "source": []
  },
  {
   "cell_type": "code",
   "execution_count": 20,
   "metadata": {},
   "outputs": [
    {
     "data": {
      "text/html": [
       "<div>\n",
       "<style scoped>\n",
       "    .dataframe tbody tr th:only-of-type {\n",
       "        vertical-align: middle;\n",
       "    }\n",
       "\n",
       "    .dataframe tbody tr th {\n",
       "        vertical-align: top;\n",
       "    }\n",
       "\n",
       "    .dataframe thead th {\n",
       "        text-align: right;\n",
       "    }\n",
       "</style>\n",
       "<table border=\"1\" class=\"dataframe\">\n",
       "  <thead>\n",
       "    <tr style=\"text-align: right;\">\n",
       "      <th></th>\n",
       "      <th>customer_id</th>\n",
       "      <th>location</th>\n",
       "      <th>currency</th>\n",
       "      <th>event_id</th>\n",
       "      <th>order_id</th>\n",
       "      <th>status</th>\n",
       "      <th>quantity</th>\n",
       "      <th>product_name</th>\n",
       "      <th>price</th>\n",
       "      <th>timestamp</th>\n",
       "      <th>event_type</th>\n",
       "      <th>day</th>\n",
       "      <th>month</th>\n",
       "      <th>time_of_day</th>\n",
       "    </tr>\n",
       "  </thead>\n",
       "  <tbody>\n",
       "    <tr>\n",
       "      <th>0</th>\n",
       "      <td>cda7bec0</td>\n",
       "      <td>Saint Helena</td>\n",
       "      <td>NGN</td>\n",
       "      <td>14786</td>\n",
       "      <td>9e950ce3</td>\n",
       "      <td>success</td>\n",
       "      <td>2</td>\n",
       "      <td>Microsoft Xbox Series X</td>\n",
       "      <td>499.99</td>\n",
       "      <td>2024-03-26 22:05:58.863661</td>\n",
       "      <td>visit</td>\n",
       "      <td>Tuesday</td>\n",
       "      <td>March</td>\n",
       "      <td>Evening</td>\n",
       "    </tr>\n",
       "    <tr>\n",
       "      <th>1</th>\n",
       "      <td>cda7bec0</td>\n",
       "      <td>Saint Helena</td>\n",
       "      <td>NGN</td>\n",
       "      <td>14787</td>\n",
       "      <td>9e950ce3</td>\n",
       "      <td>success</td>\n",
       "      <td>2</td>\n",
       "      <td>Microsoft Xbox Series X</td>\n",
       "      <td>499.99</td>\n",
       "      <td>2024-03-27 07:14:33.987347</td>\n",
       "      <td>visit</td>\n",
       "      <td>Wednesday</td>\n",
       "      <td>March</td>\n",
       "      <td>Morning</td>\n",
       "    </tr>\n",
       "    <tr>\n",
       "      <th>2</th>\n",
       "      <td>cda7bec0</td>\n",
       "      <td>Saint Helena</td>\n",
       "      <td>NGN</td>\n",
       "      <td>14788</td>\n",
       "      <td>9e950ce3</td>\n",
       "      <td>success</td>\n",
       "      <td>2</td>\n",
       "      <td>Microsoft Xbox Series X</td>\n",
       "      <td>499.99</td>\n",
       "      <td>2024-03-30 04:03:10.406559</td>\n",
       "      <td>visit</td>\n",
       "      <td>Saturday</td>\n",
       "      <td>March</td>\n",
       "      <td>Morning</td>\n",
       "    </tr>\n",
       "  </tbody>\n",
       "</table>\n",
       "</div>"
      ],
      "text/plain": [
       "  customer_id      location currency  event_id  order_id   status  quantity  \\\n",
       "0    cda7bec0  Saint Helena      NGN     14786  9e950ce3  success         2   \n",
       "1    cda7bec0  Saint Helena      NGN     14787  9e950ce3  success         2   \n",
       "2    cda7bec0  Saint Helena      NGN     14788  9e950ce3  success         2   \n",
       "\n",
       "              product_name   price                  timestamp event_type  \\\n",
       "0  Microsoft Xbox Series X  499.99 2024-03-26 22:05:58.863661      visit   \n",
       "1  Microsoft Xbox Series X  499.99 2024-03-27 07:14:33.987347      visit   \n",
       "2  Microsoft Xbox Series X  499.99 2024-03-30 04:03:10.406559      visit   \n",
       "\n",
       "         day  month time_of_day  \n",
       "0    Tuesday  March     Evening  \n",
       "1  Wednesday  March     Morning  \n",
       "2   Saturday  March     Morning  "
      ]
     },
     "execution_count": 20,
     "metadata": {},
     "output_type": "execute_result"
    }
   ],
   "source": [
    "# Dropping furthur columns\n",
    "\n",
    "'''\n",
    "   Dropping columns that will no longer be neccesarry for my analysis\n",
    "'''\n",
    "\n",
    "redundant_columns_2 = ['event_data', 'checked_out_at', 'item_id']\n",
    "\n",
    "shopsmart = shopsmart_clean.drop(columns=redundant_columns_2)\n",
    "shopsmart.head(3)"
   ]
  },
  {
   "cell_type": "code",
   "execution_count": null,
   "metadata": {},
   "outputs": [],
   "source": []
  },
  {
   "cell_type": "code",
   "execution_count": 21,
   "metadata": {},
   "outputs": [
    {
     "data": {
      "text/html": [
       "<div>\n",
       "<style scoped>\n",
       "    .dataframe tbody tr th:only-of-type {\n",
       "        vertical-align: middle;\n",
       "    }\n",
       "\n",
       "    .dataframe tbody tr th {\n",
       "        vertical-align: top;\n",
       "    }\n",
       "\n",
       "    .dataframe thead th {\n",
       "        text-align: right;\n",
       "    }\n",
       "</style>\n",
       "<table border=\"1\" class=\"dataframe\">\n",
       "  <thead>\n",
       "    <tr style=\"text-align: right;\">\n",
       "      <th></th>\n",
       "      <th>customer_id</th>\n",
       "      <th>location</th>\n",
       "      <th>event_id</th>\n",
       "      <th>time_of_day</th>\n",
       "      <th>day</th>\n",
       "      <th>month</th>\n",
       "      <th>product_name</th>\n",
       "      <th>price</th>\n",
       "      <th>quantity</th>\n",
       "      <th>timestamp</th>\n",
       "      <th>event_type</th>\n",
       "      <th>status</th>\n",
       "    </tr>\n",
       "  </thead>\n",
       "  <tbody>\n",
       "    <tr>\n",
       "      <th>0</th>\n",
       "      <td>cda7bec0</td>\n",
       "      <td>Saint Helena</td>\n",
       "      <td>14786</td>\n",
       "      <td>Evening</td>\n",
       "      <td>Tuesday</td>\n",
       "      <td>March</td>\n",
       "      <td>Microsoft Xbox Series X</td>\n",
       "      <td>499.99</td>\n",
       "      <td>2</td>\n",
       "      <td>2024-03-26 22:05:58.863661</td>\n",
       "      <td>visit</td>\n",
       "      <td>success</td>\n",
       "    </tr>\n",
       "    <tr>\n",
       "      <th>1</th>\n",
       "      <td>cda7bec0</td>\n",
       "      <td>Saint Helena</td>\n",
       "      <td>14787</td>\n",
       "      <td>Morning</td>\n",
       "      <td>Wednesday</td>\n",
       "      <td>March</td>\n",
       "      <td>Microsoft Xbox Series X</td>\n",
       "      <td>499.99</td>\n",
       "      <td>2</td>\n",
       "      <td>2024-03-27 07:14:33.987347</td>\n",
       "      <td>visit</td>\n",
       "      <td>success</td>\n",
       "    </tr>\n",
       "    <tr>\n",
       "      <th>2</th>\n",
       "      <td>cda7bec0</td>\n",
       "      <td>Saint Helena</td>\n",
       "      <td>14788</td>\n",
       "      <td>Morning</td>\n",
       "      <td>Saturday</td>\n",
       "      <td>March</td>\n",
       "      <td>Microsoft Xbox Series X</td>\n",
       "      <td>499.99</td>\n",
       "      <td>2</td>\n",
       "      <td>2024-03-30 04:03:10.406559</td>\n",
       "      <td>visit</td>\n",
       "      <td>success</td>\n",
       "    </tr>\n",
       "  </tbody>\n",
       "</table>\n",
       "</div>"
      ],
      "text/plain": [
       "  customer_id      location  event_id time_of_day        day  month  \\\n",
       "0    cda7bec0  Saint Helena     14786     Evening    Tuesday  March   \n",
       "1    cda7bec0  Saint Helena     14787     Morning  Wednesday  March   \n",
       "2    cda7bec0  Saint Helena     14788     Morning   Saturday  March   \n",
       "\n",
       "              product_name   price  quantity                  timestamp  \\\n",
       "0  Microsoft Xbox Series X  499.99         2 2024-03-26 22:05:58.863661   \n",
       "1  Microsoft Xbox Series X  499.99         2 2024-03-27 07:14:33.987347   \n",
       "2  Microsoft Xbox Series X  499.99         2 2024-03-30 04:03:10.406559   \n",
       "\n",
       "  event_type   status  \n",
       "0      visit  success  \n",
       "1      visit  success  \n",
       "2      visit  success  "
      ]
     },
     "execution_count": 21,
     "metadata": {},
     "output_type": "execute_result"
    }
   ],
   "source": [
    "\n",
    "\n",
    "# Reordering the dataframe to enable easy understanding, the order_id was not added because it is not neccesary to my analysis.\n",
    "\n",
    "new_column_order = ['customer_id', 'location', 'event_id', 'time_of_day', 'day', \n",
    "                    'month', 'product_name', 'price', 'quantity', 'timestamp', 'event_type', 'status']\n",
    "\n",
    "\n",
    "shopsmart = shopsmart[new_column_order]\n",
    "\n",
    "# Display the updated DataFrame with reordered columns\n",
    "shopsmart.head(3)\n"
   ]
  },
  {
   "cell_type": "markdown",
   "metadata": {},
   "source": [
    "### Visit Frequency\n",
    "\n",
    "##### How often does this customer visit the website, based on the provided data?\n",
    "##### Can you identify any patterns or trends in the customer's visit frequency?\n"
   ]
  },
  {
   "cell_type": "code",
   "execution_count": 39,
   "metadata": {},
   "outputs": [
    {
     "name": "stdout",
     "output_type": "stream",
     "text": [
      "Customer with ID '3f0fb638' visited the website 23 times.\n"
     ]
    }
   ],
   "source": [
    "# How often does this customer visit the website, based on the provided data?\n",
    "'''\n",
    "\n",
    "  This code defines a function calculate_customer_visit_frequency that filters shopsmart by a specified\n",
    "  customer ID (customer_id = '3f0fb638') and calculates the number of unique visit timestamps,\n",
    "  representing how often the customer visited the website. \n",
    "  The result is then printed to show the visit frequency for the specified customer.\n",
    "  \n",
    "'''\n",
    "\n",
    "\n",
    "def calculate_customer_visit_frequency(df, customer_id):\n",
    " \n",
    "    # Filtering the shopsmart dataframe for a specific customer_id\n",
    "    customer_data = df[df['customer_id'] == customer_id]\n",
    "\n",
    "    # Calculating the number of unique visit timestamps for the customer\n",
    "    visit_frequency = customer_data['timestamp'].nunique()\n",
    "\n",
    "    return visit_frequency\n",
    "\n",
    "\n",
    "customer_id = '3f0fb638'\n",
    "visit_frequency = calculate_customer_visit_frequency(shopsmart, customer_id)\n",
    "print(f\"Customer with ID '{customer_id}' visited the website {visit_frequency} times.\")\n"
   ]
  },
  {
   "cell_type": "markdown",
   "metadata": {},
   "source": [
    "#### This code defines a function calculate_customer_visit_frequency that filters shopsmart by a specified \n",
    "customer ID (customer_id = 'cda7bec0') and calculates the number of unique visit timestamps, representing how often the customer visited the website. The result is then printed to show the visit frequency for the specified customer."
   ]
  },
  {
   "cell_type": "code",
   "execution_count": null,
   "metadata": {},
   "outputs": [],
   "source": []
  },
  {
   "cell_type": "code",
   "execution_count": 30,
   "metadata": {},
   "outputs": [
    {
     "name": "stdout",
     "output_type": "stream",
     "text": [
      "Visit Frequency for All Customers:\n"
     ]
    },
    {
     "data": {
      "text/html": [
       "<div>\n",
       "<style scoped>\n",
       "    .dataframe tbody tr th:only-of-type {\n",
       "        vertical-align: middle;\n",
       "    }\n",
       "\n",
       "    .dataframe tbody tr th {\n",
       "        vertical-align: top;\n",
       "    }\n",
       "\n",
       "    .dataframe thead th {\n",
       "        text-align: right;\n",
       "    }\n",
       "</style>\n",
       "<table border=\"1\" class=\"dataframe\">\n",
       "  <thead>\n",
       "    <tr style=\"text-align: right;\">\n",
       "      <th></th>\n",
       "      <th>customer_id</th>\n",
       "      <th>visit_frequency</th>\n",
       "    </tr>\n",
       "  </thead>\n",
       "  <tbody>\n",
       "    <tr>\n",
       "      <th>0</th>\n",
       "      <td>eb7dcb88</td>\n",
       "      <td>372</td>\n",
       "    </tr>\n",
       "    <tr>\n",
       "      <th>1</th>\n",
       "      <td>a7d9058a</td>\n",
       "      <td>360</td>\n",
       "    </tr>\n",
       "    <tr>\n",
       "      <th>2</th>\n",
       "      <td>12e94262</td>\n",
       "      <td>360</td>\n",
       "    </tr>\n",
       "    <tr>\n",
       "      <th>3</th>\n",
       "      <td>ebcea232</td>\n",
       "      <td>360</td>\n",
       "    </tr>\n",
       "    <tr>\n",
       "      <th>4</th>\n",
       "      <td>c391f179</td>\n",
       "      <td>360</td>\n",
       "    </tr>\n",
       "    <tr>\n",
       "      <th>...</th>\n",
       "      <td>...</td>\n",
       "      <td>...</td>\n",
       "    </tr>\n",
       "    <tr>\n",
       "      <th>4589</th>\n",
       "      <td>dc9500b1</td>\n",
       "      <td>3</td>\n",
       "    </tr>\n",
       "    <tr>\n",
       "      <th>4590</th>\n",
       "      <td>48139381</td>\n",
       "      <td>3</td>\n",
       "    </tr>\n",
       "    <tr>\n",
       "      <th>4591</th>\n",
       "      <td>4e412d78</td>\n",
       "      <td>3</td>\n",
       "    </tr>\n",
       "    <tr>\n",
       "      <th>4592</th>\n",
       "      <td>81d65a2c</td>\n",
       "      <td>3</td>\n",
       "    </tr>\n",
       "    <tr>\n",
       "      <th>4593</th>\n",
       "      <td>c3502c5a</td>\n",
       "      <td>3</td>\n",
       "    </tr>\n",
       "  </tbody>\n",
       "</table>\n",
       "<p>4594 rows × 2 columns</p>\n",
       "</div>"
      ],
      "text/plain": [
       "     customer_id  visit_frequency\n",
       "0       eb7dcb88              372\n",
       "1       a7d9058a              360\n",
       "2       12e94262              360\n",
       "3       ebcea232              360\n",
       "4       c391f179              360\n",
       "...          ...              ...\n",
       "4589    dc9500b1                3\n",
       "4590    48139381                3\n",
       "4591    4e412d78                3\n",
       "4592    81d65a2c                3\n",
       "4593    c3502c5a                3\n",
       "\n",
       "[4594 rows x 2 columns]"
      ]
     },
     "execution_count": 30,
     "metadata": {},
     "output_type": "execute_result"
    }
   ],
   "source": [
    "\n",
    "def calculate_visit_frequency_all_customers(df):\n",
    "   \n",
    "    # Calculating frequency of visits for all customers\n",
    "    visit_frequency_all_customers = df['customer_id'].value_counts().reset_index()\n",
    "    visit_frequency_all_customers.columns = ['customer_id', 'visit_frequency']\n",
    "\n",
    "    return visit_frequency_all_customers\n",
    "\n",
    "# Calling the 'calculate_visit_frequency_all_customers' functiom with the shopsmart dataframe and saving it to a variable.\n",
    "visit_frequency_all_customers = calculate_visit_frequency_all_customers(shopsmart)\n",
    "\n",
    "# Display the DataFrame showing visit frequency for all customers\n",
    "print(\"Visit Frequency for All Customers:\")\n",
    "visit_frequency_all_customers"
   ]
  },
  {
   "cell_type": "markdown",
   "metadata": {},
   "source": [
    "####  This code defines the function 'calculate_visit_frequency_all_customers' that calculates the visit frequency for all customers in the shopsmart (df). It counts the occurrences of each customer ID ('customer_id') in the DataFrame to determine how often each customer visited the website. The resulting DataFrame (visit_frequency_all_customers) contains customer IDs and the respective visit frequencies, which is then printed to display the overall visit frequency for all customers."
   ]
  },
  {
   "cell_type": "code",
   "execution_count": 24,
   "metadata": {},
   "outputs": [
    {
     "data": {
      "image/png": "[encoded data removed]",
      "text/plain": [
       "<Figure size 1000x600 with 1 Axes>"
      ]
     },
     "metadata": {},
     "output_type": "display_data"
    }
   ],
   "source": [
    "# Visualizing the visit frequency distribution\n",
    "plt.figure(figsize=(10, 6))\n",
    "plt.hist(visit_frequency_all_customers['visit_frequency'], bins=30, color='skyblue', edgecolor='black')\n",
    "plt.title('Visit Frequency Distribution for All Customers')\n",
    "plt.xlabel('Visit Frequency')\n",
    "plt.ylabel('Number of Customers')\n",
    "plt.show()"
   ]
  },
  {
   "cell_type": "code",
   "execution_count": 25,
   "metadata": {},
   "outputs": [
    {
     "data": {
      "text/html": [
       "<div>\n",
       "<style scoped>\n",
       "    .dataframe tbody tr th:only-of-type {\n",
       "        vertical-align: middle;\n",
       "    }\n",
       "\n",
       "    .dataframe tbody tr th {\n",
       "        vertical-align: top;\n",
       "    }\n",
       "\n",
       "    .dataframe thead th {\n",
       "        text-align: right;\n",
       "    }\n",
       "</style>\n",
       "<table border=\"1\" class=\"dataframe\">\n",
       "  <thead>\n",
       "    <tr style=\"text-align: right;\">\n",
       "      <th></th>\n",
       "      <th>visit_frequency</th>\n",
       "    </tr>\n",
       "  </thead>\n",
       "  <tbody>\n",
       "    <tr>\n",
       "      <th>count</th>\n",
       "      <td>4594.000000</td>\n",
       "    </tr>\n",
       "    <tr>\n",
       "      <th>mean</th>\n",
       "      <td>125.885938</td>\n",
       "    </tr>\n",
       "    <tr>\n",
       "      <th>std</th>\n",
       "      <td>89.186046</td>\n",
       "    </tr>\n",
       "    <tr>\n",
       "      <th>min</th>\n",
       "      <td>3.000000</td>\n",
       "    </tr>\n",
       "    <tr>\n",
       "      <th>25%</th>\n",
       "      <td>45.000000</td>\n",
       "    </tr>\n",
       "    <tr>\n",
       "      <th>50%</th>\n",
       "      <td>112.000000</td>\n",
       "    </tr>\n",
       "    <tr>\n",
       "      <th>75%</th>\n",
       "      <td>198.000000</td>\n",
       "    </tr>\n",
       "    <tr>\n",
       "      <th>max</th>\n",
       "      <td>372.000000</td>\n",
       "    </tr>\n",
       "  </tbody>\n",
       "</table>\n",
       "</div>"
      ],
      "text/plain": [
       "       visit_frequency\n",
       "count      4594.000000\n",
       "mean        125.885938\n",
       "std          89.186046\n",
       "min           3.000000\n",
       "25%          45.000000\n",
       "50%         112.000000\n",
       "75%         198.000000\n",
       "max         372.000000"
      ]
     },
     "execution_count": 25,
     "metadata": {},
     "output_type": "execute_result"
    }
   ],
   "source": [
    "visit_frequency_all_customers.describe()"
   ]
  },
  {
   "cell_type": "markdown",
   "metadata": {},
   "source": [
    "\n",
    "####  From the .describe(), it can be seen that the total number of unique customer_d is 4594\n",
    "\n",
    "#### The Average visit per customer_id is 125\n",
    "\n",
    "#### The highest visit per individual is 372 and the minimum visit is 3"
   ]
  },
  {
   "cell_type": "code",
   "execution_count": null,
   "metadata": {},
   "outputs": [],
   "source": []
  },
  {
   "cell_type": "markdown",
   "metadata": {},
   "source": [
    "### Can you identify any patterns or trends in the customer's visit frequency?"
   ]
  },
  {
   "cell_type": "markdown",
   "metadata": {},
   "source": [
    "#### Trend Analysis by Time of Day"
   ]
  },
  {
   "cell_type": "code",
   "execution_count": 26,
   "metadata": {},
   "outputs": [
    {
     "data": {
      "image/png": "[encoded data removed]",
      "text/plain": [
       "<Figure size 600x300 with 1 Axes>"
      ]
     },
     "metadata": {},
     "output_type": "display_data"
    }
   ],
   "source": [
    "\n",
    "# Plot visit frequency by time of day\n",
    "plt.figure(figsize=(6, 3))\n",
    "sns.countplot(x='time_of_day', data=shopsmart, order=['Morning', 'Afternoon', 'Evening'])\n",
    "plt.title('Visit Frequency by Time of Day')\n",
    "plt.xlabel('Time of Day')\n",
    "plt.ylabel('Visit Count')\n",
    "plt.show()"
   ]
  },
  {
   "cell_type": "markdown",
   "metadata": {},
   "source": [
    "#### From the seaborn count plot we could see that most customer visits the shopsmart website in the morning."
   ]
  },
  {
   "cell_type": "code",
   "execution_count": null,
   "metadata": {},
   "outputs": [],
   "source": []
  },
  {
   "cell_type": "code",
   "execution_count": 27,
   "metadata": {},
   "outputs": [
    {
     "data": {
      "image/png": "[encoded data removed]",
      "text/plain": [
       "<Figure size 1000x600 with 1 Axes>"
      ]
     },
     "metadata": {},
     "output_type": "display_data"
    }
   ],
   "source": [
    "# Plot visit frequency by day of week\n",
    "plt.figure(figsize=(10, 6))\n",
    "sns.countplot(x='day', data=shopsmart, order=['Monday', 'Tuesday', 'Wednesday', 'Thursday', 'Friday', 'Saturday', 'Sunday'])\n",
    "plt.title('Visit Frequency by Day of Week')\n",
    "plt.xlabel('Day of Week')\n",
    "plt.ylabel('Visit Count')\n",
    "plt.show()\n"
   ]
  },
  {
   "cell_type": "markdown",
   "metadata": {},
   "source": [
    "### From the seaborn count plot we could see that most customer visits the shopsmart website mainly on Saturdays."
   ]
  },
  {
   "cell_type": "code",
   "execution_count": null,
   "metadata": {},
   "outputs": [],
   "source": []
  },
  {
   "cell_type": "code",
   "execution_count": 102,
   "metadata": {},
   "outputs": [
    {
     "data": {
      "image/png": "[encoded data removed]",
      "text/plain": [
       "<Figure size 1000x600 with 1 Axes>"
      ]
     },
     "metadata": {},
     "output_type": "display_data"
    }
   ],
   "source": [
    "# Plot visit frequency by month\n",
    "plt.figure(figsize=(10, 6))\n",
    "sns.countplot(x='month', data=shopsmart, order=['January', 'February', 'March', 'April', 'May', 'June', 'July', 'August', 'September', 'October', 'November', 'December'])\n",
    "plt.title('Visit Frequency by Month')\n",
    "plt.xlabel('Month')\n",
    "plt.ylabel('Visit Count')\n",
    "plt.xticks(rotation=45)\n",
    "plt.show()"
   ]
  },
  {
   "cell_type": "markdown",
   "metadata": {},
   "source": [
    "### From the seaborn count plot we could see that most customer visits the shopsmart website in the month of March, this could mean that the company started collecting data from the month of march"
   ]
  },
  {
   "cell_type": "code",
   "execution_count": null,
   "metadata": {},
   "outputs": [],
   "source": []
  },
  {
   "cell_type": "code",
   "execution_count": 133,
   "metadata": {},
   "outputs": [
    {
     "data": {
      "image/png": "[encoded data removed]",
      "text/plain": [
       "<Figure size 600x300 with 1 Axes>"
      ]
     },
     "metadata": {},
     "output_type": "display_data"
    }
   ],
   "source": [
    "\n",
    "# Plot visit frequency by time of day\n",
    "plt.figure(figsize=(6, 3))\n",
    "sns.countplot(x='event_type', data=shopsmart, order=['visit', 'add_to_cart', 'remove_from_cart', 'checkout'])\n",
    "plt.title('Type of Activities')\n",
    "plt.xlabel('Event Type')\n",
    "plt.ylabel('Visit Count')\n",
    "plt.show()"
   ]
  },
  {
   "cell_type": "markdown",
   "metadata": {},
   "source": [
    "#### From the count plot, it can be seen that they are more visits with add_to_cart, also my customers remove_from_cart than checkout"
   ]
  },
  {
   "cell_type": "code",
   "execution_count": null,
   "metadata": {},
   "outputs": [],
   "source": []
  },
  {
   "cell_type": "markdown",
   "metadata": {},
   "source": [
    "### Location Analysis\n",
    "\n",
    "##### What is the customer's location based on the provided data?\n",
    "\n",
    "##### How might the customer's location influence their purchasing behavior?"
   ]
  },
  {
   "cell_type": "code",
   "execution_count": 47,
   "metadata": {},
   "outputs": [
    {
     "name": "stdout",
     "output_type": "stream",
     "text": [
      "Location for Customer with ID '3f0fb638': Guernsey\n"
     ]
    }
   ],
   "source": [
    "\n",
    "def get_customer_location(df, customer_id):\n",
    "   \n",
    "    # Filtering the DataFrame for the specified customer_id\n",
    "    customer_data = df[df['customer_id'] == customer_id]\n",
    "\n",
    "    # Checking to see if any data exists for the customer_id\n",
    "    if not customer_data.empty:\n",
    "        # Geting the unique location associated with the customer_id (I assumed same location for all records)\n",
    "        location = customer_data['location'].iloc[0]\n",
    "        return location\n",
    "    else:\n",
    "        return None  # This will Return None if customer_id is not found in the DataFrame\n",
    "\n",
    "\n",
    "customer_id = '3f0fb638'\n",
    "customer_location = get_customer_location(shopsmart, customer_id)\n",
    "\n",
    "if customer_location is not None:\n",
    "    print(f\"Location for Customer with ID '{customer_id}': {customer_location}\")\n",
    "else:\n",
    "    print(f\"Customer with ID '{customer_id}' not found in the dataset.\")\n"
   ]
  },
  {
   "cell_type": "markdown",
   "metadata": {},
   "source": [
    "This code defines a function get_customer_location that takes a DataFrame (df) and a customer ID (customer_id) as input. It filters the DataFrame to retrieve data associated with the specified customer ID. If data exists for the customer ID (i.e., the DataFrame is not empty), it retrieves the unique location associated with that customer ID from the DataFrame. If the customer ID is not found in the DataFrame, the function returns None.\n",
    "\n",
    "The customer_id variable is then used to call the get_customer_location function with the shopsmart DataFrame. If a valid location is returned (customer_location is not None), it prints the location for the specified customer ID. If the customer ID is not found (customer_location is None), it prints a message indicating that the customer was not found in the dataset."
   ]
  },
  {
   "cell_type": "code",
   "execution_count": null,
   "metadata": {},
   "outputs": [],
   "source": []
  },
  {
   "cell_type": "code",
   "execution_count": 34,
   "metadata": {},
   "outputs": [
    {
     "data": {
      "image/png": "[encoded data removed]",
      "text/plain": [
       "<Figure size 1200x600 with 1 Axes>"
      ]
     },
     "metadata": {},
     "output_type": "display_data"
    }
   ],
   "source": [
    "\n",
    "\n",
    "# Calculating visit frequency for each location\n",
    "visit_frequency_by_location = shopsmart['location'].value_counts().reset_index()\n",
    "visit_frequency_by_location.columns = ['location', 'visit_frequency']\n",
    "\n",
    "# Sort locations by visit frequency in descending order\n",
    "top_locations = visit_frequency_by_location.sort_values(by='visit_frequency', ascending=False)\n",
    "\n",
    "# Display or visualize the top locations with the highest visit frequency\n",
    "\n",
    "\n",
    "# Visualize the top locations with the highest visit frequency using a bar plot\n",
    "plt.figure(figsize=(12, 6))\n",
    "sns.barplot(x='location', y='visit_frequency', data=top_locations.head(10))\n",
    "plt.title('Top Locations with Highest Visit Frequency')\n",
    "plt.xlabel('Location')\n",
    "plt.ylabel('Visit Frequency')\n",
    "plt.xticks(rotation=45, ha='right')\n",
    "plt.show()\n"
   ]
  },
  {
   "cell_type": "markdown",
   "metadata": {},
   "source": [
    "From the Seaborn plot, the two locations with the highest Visits is Korea and Argentina"
   ]
  },
  {
   "cell_type": "code",
   "execution_count": null,
   "metadata": {},
   "outputs": [],
   "source": []
  },
  {
   "cell_type": "code",
   "execution_count": 36,
   "metadata": {},
   "outputs": [
    {
     "data": {
      "text/html": [
       "<div>\n",
       "<style scoped>\n",
       "    .dataframe tbody tr th:only-of-type {\n",
       "        vertical-align: middle;\n",
       "    }\n",
       "\n",
       "    .dataframe tbody tr th {\n",
       "        vertical-align: top;\n",
       "    }\n",
       "\n",
       "    .dataframe thead th {\n",
       "        text-align: right;\n",
       "    }\n",
       "</style>\n",
       "<table border=\"1\" class=\"dataframe\">\n",
       "  <thead>\n",
       "    <tr style=\"text-align: right;\">\n",
       "      <th></th>\n",
       "      <th>location</th>\n",
       "      <th>visit_frequency</th>\n",
       "    </tr>\n",
       "  </thead>\n",
       "  <tbody>\n",
       "    <tr>\n",
       "      <th>0</th>\n",
       "      <td>Korea</td>\n",
       "      <td>6997</td>\n",
       "    </tr>\n",
       "    <tr>\n",
       "      <th>1</th>\n",
       "      <td>Argentina</td>\n",
       "      <td>4507</td>\n",
       "    </tr>\n",
       "    <tr>\n",
       "      <th>2</th>\n",
       "      <td>Mauritius</td>\n",
       "      <td>4414</td>\n",
       "    </tr>\n",
       "    <tr>\n",
       "      <th>3</th>\n",
       "      <td>Jersey</td>\n",
       "      <td>4130</td>\n",
       "    </tr>\n",
       "    <tr>\n",
       "      <th>4</th>\n",
       "      <td>Panama</td>\n",
       "      <td>3936</td>\n",
       "    </tr>\n",
       "    <tr>\n",
       "      <th>5</th>\n",
       "      <td>French Guiana</td>\n",
       "      <td>3851</td>\n",
       "    </tr>\n",
       "    <tr>\n",
       "      <th>6</th>\n",
       "      <td>Guernsey</td>\n",
       "      <td>3804</td>\n",
       "    </tr>\n",
       "    <tr>\n",
       "      <th>7</th>\n",
       "      <td>Guatemala</td>\n",
       "      <td>3731</td>\n",
       "    </tr>\n",
       "    <tr>\n",
       "      <th>8</th>\n",
       "      <td>Albania</td>\n",
       "      <td>3721</td>\n",
       "    </tr>\n",
       "    <tr>\n",
       "      <th>9</th>\n",
       "      <td>Philippines</td>\n",
       "      <td>3675</td>\n",
       "    </tr>\n",
       "  </tbody>\n",
       "</table>\n",
       "</div>"
      ],
      "text/plain": [
       "        location  visit_frequency\n",
       "0          Korea             6997\n",
       "1      Argentina             4507\n",
       "2      Mauritius             4414\n",
       "3         Jersey             4130\n",
       "4         Panama             3936\n",
       "5  French Guiana             3851\n",
       "6       Guernsey             3804\n",
       "7      Guatemala             3731\n",
       "8        Albania             3721\n",
       "9    Philippines             3675"
      ]
     },
     "execution_count": 36,
     "metadata": {},
     "output_type": "execute_result"
    }
   ],
   "source": [
    "top_locations.head(10)"
   ]
  },
  {
   "cell_type": "code",
   "execution_count": null,
   "metadata": {},
   "outputs": [],
   "source": []
  },
  {
   "cell_type": "code",
   "execution_count": 150,
   "metadata": {},
   "outputs": [
    {
     "name": "stderr",
     "output_type": "stream",
     "text": [
      "C:\\Users\\KLAUS\\AppData\\Local\\Temp\\ipykernel_21432\\2569509421.py:19: FutureWarning: \n",
      "\n",
      "Passing `palette` without assigning `hue` is deprecated and will be removed in v0.14.0. Assign the `x` variable to `hue` and set `legend=False` for the same effect.\n",
      "\n",
      "  sns.barplot(x='location', y='success_checkout_count', data=top_locations_with_most_successful_checkouts, palette='viridis')\n"
     ]
    },
    {
     "data": {
      "image/png": "[encoded data removed]",
      "text/plain": [
       "<Figure size 1200x800 with 1 Axes>"
      ]
     },
     "metadata": {},
     "output_type": "display_data"
    }
   ],
   "source": [
    "\n",
    "# Filter the DataFrame to include only successful checkouts\n",
    "success_checkouts = shopsmart[(shopsmart['status'] == 'success') & (shopsmart['event_type'] == 'checkout')]\n",
    "\n",
    "# Count the number of successful checkouts by location\n",
    "success_checkout_counts = success_checkouts['location'].value_counts().reset_index()\n",
    "success_checkout_counts.columns = ['location', 'success_checkout_count']\n",
    "\n",
    "# Sort the locations by the number of successful checkouts (descending order)\n",
    "top_locations_with_most_successful_checkouts = success_checkout_counts.sort_values(by='success_checkout_count', ascending=False).head(10)\n",
    "\n",
    "# Visualize the top locations with the most successful checkouts\n",
    "plt.figure(figsize=(12, 8))\n",
    "sns.barplot(x='location', y='success_checkout_count', data=top_locations_with_most_successful_checkouts, palette='viridis')\n",
    "plt.title('Top Locations with Most Successful Checkouts')\n",
    "plt.xlabel('Location')\n",
    "plt.ylabel('Number of Successful Checkouts')\n",
    "plt.xticks(rotation=45, ha='right')\n",
    "plt.show()\n"
   ]
  },
  {
   "cell_type": "markdown",
   "metadata": {},
   "source": [
    "From the Seaborn barplot, the two locations with the highest successful checkouts is Korea and Mauritus"
   ]
  },
  {
   "cell_type": "code",
   "execution_count": 151,
   "metadata": {},
   "outputs": [
    {
     "data": {
      "text/html": [
       "<div>\n",
       "<style scoped>\n",
       "    .dataframe tbody tr th:only-of-type {\n",
       "        vertical-align: middle;\n",
       "    }\n",
       "\n",
       "    .dataframe tbody tr th {\n",
       "        vertical-align: top;\n",
       "    }\n",
       "\n",
       "    .dataframe thead th {\n",
       "        text-align: right;\n",
       "    }\n",
       "</style>\n",
       "<table border=\"1\" class=\"dataframe\">\n",
       "  <thead>\n",
       "    <tr style=\"text-align: right;\">\n",
       "      <th></th>\n",
       "      <th>location</th>\n",
       "      <th>success_checkout_count</th>\n",
       "    </tr>\n",
       "  </thead>\n",
       "  <tbody>\n",
       "    <tr>\n",
       "      <th>0</th>\n",
       "      <td>Korea</td>\n",
       "      <td>126</td>\n",
       "    </tr>\n",
       "    <tr>\n",
       "      <th>1</th>\n",
       "      <td>Mauritius</td>\n",
       "      <td>123</td>\n",
       "    </tr>\n",
       "    <tr>\n",
       "      <th>2</th>\n",
       "      <td>Albania</td>\n",
       "      <td>103</td>\n",
       "    </tr>\n",
       "    <tr>\n",
       "      <th>3</th>\n",
       "      <td>Bosnia and Herzegovina</td>\n",
       "      <td>93</td>\n",
       "    </tr>\n",
       "    <tr>\n",
       "      <th>4</th>\n",
       "      <td>Singapore</td>\n",
       "      <td>88</td>\n",
       "    </tr>\n",
       "    <tr>\n",
       "      <th>5</th>\n",
       "      <td>Panama</td>\n",
       "      <td>87</td>\n",
       "    </tr>\n",
       "    <tr>\n",
       "      <th>6</th>\n",
       "      <td>Fiji</td>\n",
       "      <td>86</td>\n",
       "    </tr>\n",
       "    <tr>\n",
       "      <th>7</th>\n",
       "      <td>Thailand</td>\n",
       "      <td>84</td>\n",
       "    </tr>\n",
       "    <tr>\n",
       "      <th>8</th>\n",
       "      <td>French Guiana</td>\n",
       "      <td>83</td>\n",
       "    </tr>\n",
       "    <tr>\n",
       "      <th>9</th>\n",
       "      <td>Kuwait</td>\n",
       "      <td>82</td>\n",
       "    </tr>\n",
       "  </tbody>\n",
       "</table>\n",
       "</div>"
      ],
      "text/plain": [
       "                 location  success_checkout_count\n",
       "0                   Korea                     126\n",
       "1               Mauritius                     123\n",
       "2                 Albania                     103\n",
       "3  Bosnia and Herzegovina                      93\n",
       "4               Singapore                      88\n",
       "5                  Panama                      87\n",
       "6                    Fiji                      86\n",
       "7                Thailand                      84\n",
       "8           French Guiana                      83\n",
       "9                  Kuwait                      82"
      ]
     },
     "execution_count": 151,
     "metadata": {},
     "output_type": "execute_result"
    }
   ],
   "source": [
    "top_locations_with_most_successful_checkouts"
   ]
  },
  {
   "cell_type": "code",
   "execution_count": 146,
   "metadata": {},
   "outputs": [
    {
     "name": "stderr",
     "output_type": "stream",
     "text": [
      "C:\\Users\\KLAUS\\AppData\\Local\\Temp\\ipykernel_21432\\4075659938.py:15: FutureWarning: \n",
      "\n",
      "Passing `palette` without assigning `hue` is deprecated and will be removed in v0.14.0. Assign the `x` variable to `hue` and set `legend=False` for the same effect.\n",
      "\n",
      "  sns.barplot(x='location', y='failed_checkout_counts', data=top_failed_checkout_locations, palette='viridis')\n"
     ]
    },
    {
     "data": {
      "image/png": "[encoded data removed]",
      "text/plain": [
       "<Figure size 1200x800 with 1 Axes>"
      ]
     },
     "metadata": {},
     "output_type": "display_data"
    }
   ],
   "source": [
    "\n",
    "# Filter the DataFrame to include only successful checkouts\n",
    "failed_checkouts = shopsmart[(shopsmart['status'] == 'failed') & (shopsmart['event_type'] == 'checkout')]\n",
    "\n",
    "# Count the number of successful checkouts by location\n",
    "failed_checkout_counts = failed_checkouts['location'].value_counts().reset_index()\n",
    "failed_checkout_counts.columns = ['location', 'failed_checkout_counts']\n",
    "\n",
    "# Sort the locations by the number of successful checkouts (descending order)\n",
    "top_failed_checkout_locations = failed_checkout_counts.sort_values(by='failed_checkout_counts', ascending=False).head(10)\n",
    "\n",
    "# Visualize the top locations with the most successful checkouts\n",
    "plt.figure(figsize=(12, 8))\n",
    "sns.barplot(x='location', y='failed_checkout_counts', data=top_failed_checkout_locations, palette='viridis')\n",
    "plt.title('Top Locations with Most failed Checkouts')\n",
    "plt.xlabel('Location')\n",
    "plt.ylabel('Number of Failed Checkouts')\n",
    "plt.xticks(rotation=45, ha='right')\n",
    "plt.show()\n"
   ]
  },
  {
   "cell_type": "markdown",
   "metadata": {},
   "source": [
    "From the Seaborn barplot, the two locations with the highest failed checkouts is Cambodia and Argentina"
   ]
  },
  {
   "cell_type": "code",
   "execution_count": null,
   "metadata": {},
   "outputs": [],
   "source": []
  },
  {
   "cell_type": "code",
   "execution_count": 147,
   "metadata": {},
   "outputs": [
    {
     "data": {
      "text/html": [
       "<div>\n",
       "<style scoped>\n",
       "    .dataframe tbody tr th:only-of-type {\n",
       "        vertical-align: middle;\n",
       "    }\n",
       "\n",
       "    .dataframe tbody tr th {\n",
       "        vertical-align: top;\n",
       "    }\n",
       "\n",
       "    .dataframe thead th {\n",
       "        text-align: right;\n",
       "    }\n",
       "</style>\n",
       "<table border=\"1\" class=\"dataframe\">\n",
       "  <thead>\n",
       "    <tr style=\"text-align: right;\">\n",
       "      <th></th>\n",
       "      <th>location</th>\n",
       "      <th>failed_checkout_counts</th>\n",
       "    </tr>\n",
       "  </thead>\n",
       "  <tbody>\n",
       "    <tr>\n",
       "      <th>0</th>\n",
       "      <td>Cambodia</td>\n",
       "      <td>97</td>\n",
       "    </tr>\n",
       "    <tr>\n",
       "      <th>1</th>\n",
       "      <td>Argentina</td>\n",
       "      <td>96</td>\n",
       "    </tr>\n",
       "    <tr>\n",
       "      <th>2</th>\n",
       "      <td>Guinea-Bissau</td>\n",
       "      <td>89</td>\n",
       "    </tr>\n",
       "    <tr>\n",
       "      <th>3</th>\n",
       "      <td>Philippines</td>\n",
       "      <td>89</td>\n",
       "    </tr>\n",
       "    <tr>\n",
       "      <th>4</th>\n",
       "      <td>Cyprus</td>\n",
       "      <td>88</td>\n",
       "    </tr>\n",
       "    <tr>\n",
       "      <th>5</th>\n",
       "      <td>Congo</td>\n",
       "      <td>88</td>\n",
       "    </tr>\n",
       "    <tr>\n",
       "      <th>6</th>\n",
       "      <td>Korea</td>\n",
       "      <td>87</td>\n",
       "    </tr>\n",
       "    <tr>\n",
       "      <th>7</th>\n",
       "      <td>Isle of Man</td>\n",
       "      <td>82</td>\n",
       "    </tr>\n",
       "    <tr>\n",
       "      <th>8</th>\n",
       "      <td>Rwanda</td>\n",
       "      <td>82</td>\n",
       "    </tr>\n",
       "    <tr>\n",
       "      <th>9</th>\n",
       "      <td>Finland</td>\n",
       "      <td>81</td>\n",
       "    </tr>\n",
       "  </tbody>\n",
       "</table>\n",
       "</div>"
      ],
      "text/plain": [
       "        location  failed_checkout_counts\n",
       "0       Cambodia                      97\n",
       "1      Argentina                      96\n",
       "2  Guinea-Bissau                      89\n",
       "3    Philippines                      89\n",
       "4         Cyprus                      88\n",
       "5          Congo                      88\n",
       "6          Korea                      87\n",
       "7    Isle of Man                      82\n",
       "8         Rwanda                      82\n",
       "9        Finland                      81"
      ]
     },
     "execution_count": 147,
     "metadata": {},
     "output_type": "execute_result"
    }
   ],
   "source": [
    "top_failed_checkout_locations"
   ]
  },
  {
   "cell_type": "code",
   "execution_count": 153,
   "metadata": {},
   "outputs": [
    {
     "name": "stderr",
     "output_type": "stream",
     "text": [
      "C:\\Users\\KLAUS\\AppData\\Local\\Temp\\ipykernel_21432\\2035009950.py:15: FutureWarning: \n",
      "\n",
      "Passing `palette` without assigning `hue` is deprecated and will be removed in v0.14.0. Assign the `x` variable to `hue` and set `legend=False` for the same effect.\n",
      "\n",
      "  sns.barplot(x='location', y='cancelled_order_counts', data=top_locations_with_cancelled_order, palette='viridis')\n"
     ]
    },
    {
     "data": {
      "image/png": "[encoded data removed]",
      "text/plain": [
       "<Figure size 1200x800 with 1 Axes>"
      ]
     },
     "metadata": {},
     "output_type": "display_data"
    }
   ],
   "source": [
    "\n",
    "# Filter the DataFrame to include only successful checkouts\n",
    "cancelled_order = shopsmart[(shopsmart['status'] == 'cancelled') & (shopsmart['event_type'] == 'remove_from_cart')]\n",
    "\n",
    "# Count the number of successful checkouts by location\n",
    "cancelled_order_counts = cancelled_order['location'].value_counts().reset_index()\n",
    "cancelled_order_counts.columns = ['location', 'cancelled_order_counts']\n",
    "\n",
    "# Sort the locations by the number of successful checkouts (descending order)\n",
    "top_locations_with_cancelled_order = cancelled_order_counts.sort_values(by='cancelled_order_counts', ascending=False).head(10)\n",
    "\n",
    "# Visualize the top locations with the most successful checkouts\n",
    "plt.figure(figsize=(12, 8))\n",
    "sns.barplot(x='location', y='cancelled_order_counts', data=top_locations_with_cancelled_order, palette='viridis')\n",
    "plt.title('Top Locations with Most cancelled order')\n",
    "plt.xlabel('Location')\n",
    "plt.ylabel('Number of cancelled order')\n",
    "plt.xticks(rotation=45, ha='right')\n",
    "plt.show()\n"
   ]
  },
  {
   "cell_type": "markdown",
   "metadata": {},
   "source": [
    "From the Seaborn plot, the two locations with the highest cancelled and remove_from_cart is Guatemala and Korea"
   ]
  },
  {
   "cell_type": "code",
   "execution_count": null,
   "metadata": {},
   "outputs": [],
   "source": []
  },
  {
   "cell_type": "code",
   "execution_count": 154,
   "metadata": {},
   "outputs": [
    {
     "data": {
      "text/html": [
       "<div>\n",
       "<style scoped>\n",
       "    .dataframe tbody tr th:only-of-type {\n",
       "        vertical-align: middle;\n",
       "    }\n",
       "\n",
       "    .dataframe tbody tr th {\n",
       "        vertical-align: top;\n",
       "    }\n",
       "\n",
       "    .dataframe thead th {\n",
       "        text-align: right;\n",
       "    }\n",
       "</style>\n",
       "<table border=\"1\" class=\"dataframe\">\n",
       "  <thead>\n",
       "    <tr style=\"text-align: right;\">\n",
       "      <th></th>\n",
       "      <th>location</th>\n",
       "      <th>cancelled_order_counts</th>\n",
       "    </tr>\n",
       "  </thead>\n",
       "  <tbody>\n",
       "    <tr>\n",
       "      <th>0</th>\n",
       "      <td>Guatemala</td>\n",
       "      <td>632</td>\n",
       "    </tr>\n",
       "    <tr>\n",
       "      <th>1</th>\n",
       "      <td>Korea</td>\n",
       "      <td>573</td>\n",
       "    </tr>\n",
       "    <tr>\n",
       "      <th>2</th>\n",
       "      <td>United States Virgin Islands</td>\n",
       "      <td>523</td>\n",
       "    </tr>\n",
       "    <tr>\n",
       "      <th>3</th>\n",
       "      <td>Guadeloupe</td>\n",
       "      <td>472</td>\n",
       "    </tr>\n",
       "    <tr>\n",
       "      <th>4</th>\n",
       "      <td>Guinea</td>\n",
       "      <td>441</td>\n",
       "    </tr>\n",
       "    <tr>\n",
       "      <th>5</th>\n",
       "      <td>British Virgin Islands</td>\n",
       "      <td>436</td>\n",
       "    </tr>\n",
       "    <tr>\n",
       "      <th>6</th>\n",
       "      <td>Turkey</td>\n",
       "      <td>403</td>\n",
       "    </tr>\n",
       "    <tr>\n",
       "      <th>7</th>\n",
       "      <td>Jersey</td>\n",
       "      <td>387</td>\n",
       "    </tr>\n",
       "    <tr>\n",
       "      <th>8</th>\n",
       "      <td>Cote d'Ivoire</td>\n",
       "      <td>387</td>\n",
       "    </tr>\n",
       "    <tr>\n",
       "      <th>9</th>\n",
       "      <td>China</td>\n",
       "      <td>384</td>\n",
       "    </tr>\n",
       "  </tbody>\n",
       "</table>\n",
       "</div>"
      ],
      "text/plain": [
       "                       location  cancelled_order_counts\n",
       "0                     Guatemala                     632\n",
       "1                         Korea                     573\n",
       "2  United States Virgin Islands                     523\n",
       "3                    Guadeloupe                     472\n",
       "4                        Guinea                     441\n",
       "5        British Virgin Islands                     436\n",
       "6                        Turkey                     403\n",
       "7                        Jersey                     387\n",
       "8                 Cote d'Ivoire                     387\n",
       "9                         China                     384"
      ]
     },
     "execution_count": 154,
     "metadata": {},
     "output_type": "execute_result"
    }
   ],
   "source": [
    "top_locations_with_cancelled_order"
   ]
  },
  {
   "cell_type": "code",
   "execution_count": null,
   "metadata": {},
   "outputs": [],
   "source": []
  },
  {
   "cell_type": "code",
   "execution_count": 44,
   "metadata": {},
   "outputs": [
    {
     "name": "stdout",
     "output_type": "stream",
     "text": [
      "Top Customer ID: '3f0fb638'\n",
      "Location: 'Guernsey'\n",
      "Number of Successful Checkouts: 12\n",
      "Total Visits: 23\n",
      "Items Bought: ['Microsoft Xbox Series X' 'Nike Air Max 270' 'Nintendo Switch'\n",
      " 'Coca-Cola 12-Pack' 'Adidas Ultraboost' 'Canon EOS R5 Camera'\n",
      " 'Starbucks Coffee Beans' 'Dell XPS 13 Laptop' 'Samsung Galaxy S21'\n",
      " 'Samsung 55-Inch 4K Smart TV' 'Apple AirPods Pro' 'Sony PlayStation 5']\n",
      "Total Spending: $204214.47\n"
     ]
    }
   ],
   "source": [
    "\n",
    "\n",
    "# Filter the DataFrame to include only successful checkouts\n",
    "success_checkouts = shopsmart[(shopsmart['status'] == 'success') & (shopsmart['event_type'] == 'checkout')]\n",
    "\n",
    "# Count the number of successful checkouts for each customer and location\n",
    "success_checkout_counts = success_checkouts.groupby(['customer_id', 'location']).size().reset_index(name='success_checkout_count')\n",
    "\n",
    "# Find the customer with the most successful checkouts\n",
    "top_customer_with_most_successful_checkouts = success_checkout_counts.sort_values(by='success_checkout_count', ascending=False).iloc[0]\n",
    "\n",
    "# Retrieve the customer ID, location, and number of successful checkouts for the top customer\n",
    "top_customer_id = top_customer_with_most_successful_checkouts['customer_id']\n",
    "top_customer_location = top_customer_with_most_successful_checkouts['location']\n",
    "top_customer_successful_checkouts = top_customer_with_most_successful_checkouts['success_checkout_count']\n",
    "\n",
    "# Calculate additional metrics for the top customer\n",
    "top_customer_data = shopsmart[shopsmart['customer_id'] == top_customer_id]\n",
    "total_visits = top_customer_data['timestamp'].nunique()\n",
    "items_bought = top_customer_data['product_name'].unique()\n",
    "total_spending = top_customer_data['price'].sum()\n",
    "\n",
    "# Display the information for the top customer\n",
    "print(f\"Top Customer ID: '{top_customer_id}'\")\n",
    "print(f\"Location: '{top_customer_location}'\")\n",
    "print(f\"Number of Successful Checkouts: {top_customer_successful_checkouts}\")\n",
    "print(f\"Total Visits: {total_visits}\")\n",
    "print(f\"Items Bought: {items_bought}\")\n",
    "print(f\"Total Spending: ${total_spending:.2f}\")\n"
   ]
  },
  {
   "cell_type": "code",
   "execution_count": null,
   "metadata": {},
   "outputs": [],
   "source": []
  },
  {
   "cell_type": "code",
   "execution_count": 45,
   "metadata": {},
   "outputs": [
    {
     "name": "stdout",
     "output_type": "stream",
     "text": [
      "Bottom Customer ID: 'e7294e16'\n",
      "Location: 'Western Sahara'\n",
      "Number of Successful Checkouts: 1\n",
      "Total Visits: 11\n",
      "Items Bought: ['Samsung 55-Inch 4K Smart TV']\n",
      "Total Spending: $8799.89\n"
     ]
    }
   ],
   "source": [
    "\n",
    "\n",
    "# Filter the DataFrame to include only successful checkouts\n",
    "success_checkouts = shopsmart[(shopsmart['status'] == 'success') & (shopsmart['event_type'] == 'checkout')]\n",
    "\n",
    "# Count the number of successful checkouts for each customer and location\n",
    "success_checkout_counts = success_checkouts.groupby(['customer_id', 'location']).size().reset_index(name='success_checkout_count')\n",
    "\n",
    "# Find the customer with the least successful checkouts (or purchases)\n",
    "bottom_customer_with_least_successful_checkouts = success_checkout_counts.sort_values(by='success_checkout_count', ascending=True).iloc[0]\n",
    "\n",
    "# Retrieve the customer ID, location, and number of successful checkouts for the bottom customer\n",
    "bottom_customer_id = bottom_customer_with_least_successful_checkouts['customer_id']\n",
    "bottom_customer_location = bottom_customer_with_least_successful_checkouts['location']\n",
    "bottom_customer_successful_checkouts = bottom_customer_with_least_successful_checkouts['success_checkout_count']\n",
    "\n",
    "# Calculate additional metrics for the bottom customer\n",
    "bottom_customer_data = shopsmart[shopsmart['customer_id'] == bottom_customer_id]\n",
    "total_visits_bottom = bottom_customer_data['timestamp'].nunique()\n",
    "items_bought_bottom = bottom_customer_data['product_name'].unique()\n",
    "total_spending_bottom = bottom_customer_data['price'].sum()\n",
    "\n",
    "# Display the information for the bottom customer\n",
    "print(f\"Bottom Customer ID: '{bottom_customer_id}'\")\n",
    "print(f\"Location: '{bottom_customer_location}'\")\n",
    "print(f\"Number of Successful Checkouts: {bottom_customer_successful_checkouts}\")\n",
    "print(f\"Total Visits: {total_visits_bottom}\")\n",
    "print(f\"Items Bought: {items_bought_bottom}\")\n",
    "print(f\"Total Spending: ${total_spending_bottom:.2f}\")\n"
   ]
  },
  {
   "cell_type": "code",
   "execution_count": null,
   "metadata": {},
   "outputs": [],
   "source": []
  },
  {
   "cell_type": "markdown",
   "metadata": {},
   "source": [
    "### Overall Purchase Behavior\n",
    "\n",
    "##### Based on the data provided, what insights can you draw about this customer's overall behavior on the website?\n",
    "##### How might these insights inform marketing strategies or personalized recommendations for this customer?\n"
   ]
  },
  {
   "cell_type": "markdown",
   "metadata": {},
   "source": [
    "### Overall Purchase Behavior:\n",
    "\n",
    "### Visit Frequency:\n",
    "The customer visited the website 23 times, which is relatively high compared to the average visit per customer (125 visits on average).\n",
    "There is a wide range of visit frequencies among customers, from 3 to 372 visits per individual, indicating varied engagement levels.\n",
    "\n",
    "#### Time of Engagement:\n",
    "Most customers visit the website in the morning and mainly on Saturdays, suggesting peak times for website traffic.\n",
    "The majority of customer visits occurred in March, possibly indicating when data collection began or a peak period for website activity.\n",
    "Event Type Distribution:\n",
    "The count plot shows more engagements with 'add_to_cart' and 'remove_from_cart' actions compared to checkouts, suggesting potential opportunities to optimize the checkout process.\n",
    "Location Analysis:\n",
    "The customer's location ('Guernsey') and insights into other locations with high engagement, successful checkouts, and specific actions (like cancellations) provide valuable geographic targeting insights.\n",
    "#### Insights into Customer Behavior:\n",
    "Behavioral Patterns:\n",
    "The customer exhibits high engagement with frequent visits and a significant number of successful checkouts (12), indicating strong purchase intent.\n",
    "Diverse purchases across categories (electronics, footwear, consumables) suggest broad interests and potential for cross-selling or personalized recommendations.\n",
    "Location Influence:\n",
    "Locations like Korea and Argentina stand out with high engagement and varying success rates (successful checkouts, cancellations), indicating potential regional preferences and behaviors.\n",
    "#### Recommendations for Marketing and Personalization:\n",
    "Marketing Strategies:\n",
    "Implement personalized promotions and recommendations based on observed behavioral patterns (e.g., morning visits, Saturday activity).\n",
    "Leverage location-specific insights to tailor marketing campaigns and product offerings to match regional preferences and behaviors.\n",
    "#### Website Optimization:\n",
    "Optimize checkout processes to reduce friction and increase conversion rates, considering the high engagement with 'add_to_cart' but relatively fewer checkouts.\n",
    "Enhance user experience during peak visit times (morning, Saturdays) to maximize conversion opportunities.\n",
    "Product Offering:\n",
    "Expand and optimize product offerings based on popular categories and observed purchasing behaviors (electronics, footwear) to cater to customer preferences.\n",
    "Feature trending or exclusive items to drive interest and engagement.\n",
    "Customer Retention and Engagement:\n",
    "Implement loyalty programs or incentives to reward frequent visitors and high-value customers.\n",
    "Encourage customer feedback and reviews to improve services and address any pain points identified in the checkout process.\n"
   ]
  },
  {
   "cell_type": "code",
   "execution_count": null,
   "metadata": {},
   "outputs": [],
   "source": []
  },
  {
   "cell_type": "code",
   "execution_count": null,
   "metadata": {},
   "outputs": [],
   "source": []
  },
  {
   "cell_type": "code",
   "execution_count": null,
   "metadata": {},
   "outputs": [],
   "source": []
  },
  {
   "cell_type": "code",
   "execution_count": null,
   "metadata": {},
   "outputs": [],
   "source": []
  },
  {
   "cell_type": "code",
   "execution_count": null,
   "metadata": {},
   "outputs": [],
   "source": []
  },
  {
   "cell_type": "code",
   "execution_count": null,
   "metadata": {},
   "outputs": [],
   "source": []
  },
  {
   "cell_type": "code",
   "execution_count": null,
   "metadata": {},
   "outputs": [],
   "source": []
  },
  {
   "cell_type": "code",
   "execution_count": null,
   "metadata": {},
   "outputs": [],
   "source": []
  },
  {
   "cell_type": "code",
   "execution_count": null,
   "metadata": {},
   "outputs": [],
   "source": []
  },
  {
   "cell_type": "code",
   "execution_count": null,
   "metadata": {},
   "outputs": [],
   "source": []
  },
  {
   "cell_type": "code",
   "execution_count": null,
   "metadata": {},
   "outputs": [],
   "source": []
  },
  {
   "cell_type": "code",
   "execution_count": null,
   "metadata": {},
   "outputs": [],
   "source": []
  },
  {
   "cell_type": "code",
   "execution_count": null,
   "metadata": {},
   "outputs": [],
   "source": []
  },
  {
   "cell_type": "code",
   "execution_count": null,
   "metadata": {},
   "outputs": [],
   "source": []
  },
  {
   "cell_type": "code",
   "execution_count": null,
   "metadata": {},
   "outputs": [],
   "source": []
  },
  {
   "cell_type": "code",
   "execution_count": null,
   "metadata": {},
   "outputs": [],
   "source": []
  },
  {
   "cell_type": "code",
   "execution_count": null,
   "metadata": {},
   "outputs": [],
   "source": []
  },
  {
   "cell_type": "code",
   "execution_count": null,
   "metadata": {},
   "outputs": [],
   "source": []
  },
  {
   "cell_type": "code",
   "execution_count": null,
   "metadata": {},
   "outputs": [],
   "source": []
  },
  {
   "cell_type": "code",
   "execution_count": null,
   "metadata": {},
   "outputs": [],
   "source": []
  },
  {
   "cell_type": "code",
   "execution_count": null,
   "metadata": {},
   "outputs": [],
   "source": []
  },
  {
   "cell_type": "code",
   "execution_count": null,
   "metadata": {},
   "outputs": [],
   "source": []
  },
  {
   "cell_type": "code",
   "execution_count": null,
   "metadata": {},
   "outputs": [],
   "source": []
  }
 ],
 "metadata": {
  "kernelspec": {
   "display_name": "Python 3 (ipykernel)",
   "language": "python",
   "name": "python3"
  },
  "language_info": {
   "codemirror_mode": {
    "name": "ipython",
    "version": 3
   },
   "file_extension": ".py",
   "mimetype": "text/x-python",
   "name": "python",
   "nbconvert_exporter": "python",
   "pygments_lexer": "ipython3",
   "version": "3.11.4"
  }
 },
 "nbformat": 4,
 "nbformat_minor": 2
}
